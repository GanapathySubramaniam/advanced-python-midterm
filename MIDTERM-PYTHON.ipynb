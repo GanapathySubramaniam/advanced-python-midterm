{
 "cells": [
  {
   "cell_type": "markdown",
   "metadata": {},
   "source": [
    "# PANDAS\n",
    "---"
   ]
  },
  {
   "cell_type": "code",
   "execution_count": 1,
   "metadata": {},
   "outputs": [],
   "source": [
    "import pandas as pd"
   ]
  },
  {
   "cell_type": "code",
   "execution_count": 40,
   "metadata": {},
   "outputs": [],
   "source": [
    "path='sample_csv.csv'\n",
    "df=pd.read_csv(path)"
   ]
  },
  {
   "cell_type": "code",
   "execution_count": 41,
   "metadata": {},
   "outputs": [
    {
     "data": {
      "text/html": [
       "<div>\n",
       "<style scoped>\n",
       "    .dataframe tbody tr th:only-of-type {\n",
       "        vertical-align: middle;\n",
       "    }\n",
       "\n",
       "    .dataframe tbody tr th {\n",
       "        vertical-align: top;\n",
       "    }\n",
       "\n",
       "    .dataframe thead th {\n",
       "        text-align: right;\n",
       "    }\n",
       "</style>\n",
       "<table border=\"1\" class=\"dataframe\">\n",
       "  <thead>\n",
       "    <tr style=\"text-align: right;\">\n",
       "      <th></th>\n",
       "      <th>name</th>\n",
       "      <th>age</th>\n",
       "      <th>degree</th>\n",
       "      <th>Score</th>\n",
       "    </tr>\n",
       "  </thead>\n",
       "  <tbody>\n",
       "    <tr>\n",
       "      <th>0</th>\n",
       "      <td>a</td>\n",
       "      <td>18</td>\n",
       "      <td>Hsc</td>\n",
       "      <td>90</td>\n",
       "    </tr>\n",
       "    <tr>\n",
       "      <th>1</th>\n",
       "      <td>b</td>\n",
       "      <td>22</td>\n",
       "      <td>BE</td>\n",
       "      <td>80</td>\n",
       "    </tr>\n",
       "    <tr>\n",
       "      <th>2</th>\n",
       "      <td>c</td>\n",
       "      <td>19</td>\n",
       "      <td>Btech</td>\n",
       "      <td>98</td>\n",
       "    </tr>\n",
       "  </tbody>\n",
       "</table>\n",
       "</div>"
      ],
      "text/plain": [
       "  name  age degree  Score\n",
       "0    a   18    Hsc     90\n",
       "1    b   22     BE     80\n",
       "2    c   19  Btech     98"
      ]
     },
     "execution_count": 41,
     "metadata": {},
     "output_type": "execute_result"
    }
   ],
   "source": [
    "df"
   ]
  },
  {
   "cell_type": "markdown",
   "metadata": {},
   "source": [
    "Ratio if getting the missing vals of entire dataset:"
   ]
  },
  {
   "cell_type": "code",
   "execution_count": 3,
   "metadata": {},
   "outputs": [
    {
     "data": {
      "text/plain": [
       "name      0.0\n",
       "age       0.0\n",
       "degree    0.0\n",
       "Score     0.0\n",
       "dtype: float64"
      ]
     },
     "execution_count": 3,
     "metadata": {},
     "output_type": "execute_result"
    }
   ],
   "source": [
    "df.isnull().mean()"
   ]
  },
  {
   "cell_type": "markdown",
   "metadata": {},
   "source": [
    "selecting specific columns for df"
   ]
  },
  {
   "cell_type": "code",
   "execution_count": 45,
   "metadata": {},
   "outputs": [],
   "source": [
    "employee_data = {'employee_id' : ['1', '2', '3', '4'],\n",
    "                 'name' : ['Amy Jones', 'Allen Keys', 'Alice Bees' ,'Tim Hortons']}\n",
    "\n",
    "employee_df = pd.DataFrame(employee_data, columns = ['name'])"
   ]
  },
  {
   "cell_type": "code",
   "execution_count": 46,
   "metadata": {},
   "outputs": [
    {
     "data": {
      "text/html": [
       "<div>\n",
       "<style scoped>\n",
       "    .dataframe tbody tr th:only-of-type {\n",
       "        vertical-align: middle;\n",
       "    }\n",
       "\n",
       "    .dataframe tbody tr th {\n",
       "        vertical-align: top;\n",
       "    }\n",
       "\n",
       "    .dataframe thead th {\n",
       "        text-align: right;\n",
       "    }\n",
       "</style>\n",
       "<table border=\"1\" class=\"dataframe\">\n",
       "  <thead>\n",
       "    <tr style=\"text-align: right;\">\n",
       "      <th></th>\n",
       "      <th>name</th>\n",
       "    </tr>\n",
       "  </thead>\n",
       "  <tbody>\n",
       "    <tr>\n",
       "      <th>0</th>\n",
       "      <td>Amy Jones</td>\n",
       "    </tr>\n",
       "    <tr>\n",
       "      <th>1</th>\n",
       "      <td>Allen Keys</td>\n",
       "    </tr>\n",
       "    <tr>\n",
       "      <th>2</th>\n",
       "      <td>Alice Bees</td>\n",
       "    </tr>\n",
       "    <tr>\n",
       "      <th>3</th>\n",
       "      <td>Tim Hortons</td>\n",
       "    </tr>\n",
       "  </tbody>\n",
       "</table>\n",
       "</div>"
      ],
      "text/plain": [
       "          name\n",
       "0    Amy Jones\n",
       "1   Allen Keys\n",
       "2   Alice Bees\n",
       "3  Tim Hortons"
      ]
     },
     "execution_count": 46,
     "metadata": {},
     "output_type": "execute_result"
    }
   ],
   "source": [
    "employee_df"
   ]
  },
  {
   "cell_type": "markdown",
   "metadata": {},
   "source": [
    "index name:"
   ]
  },
  {
   "cell_type": "code",
   "execution_count": 4,
   "metadata": {},
   "outputs": [],
   "source": [
    "df.index.name"
   ]
  },
  {
   "cell_type": "markdown",
   "metadata": {},
   "source": [
    "read url to df"
   ]
  },
  {
   "cell_type": "code",
   "execution_count": 5,
   "metadata": {},
   "outputs": [
    {
     "data": {
      "text/html": [
       "<div>\n",
       "<style scoped>\n",
       "    .dataframe tbody tr th:only-of-type {\n",
       "        vertical-align: middle;\n",
       "    }\n",
       "\n",
       "    .dataframe tbody tr th {\n",
       "        vertical-align: top;\n",
       "    }\n",
       "\n",
       "    .dataframe thead th {\n",
       "        text-align: right;\n",
       "    }\n",
       "</style>\n",
       "<table border=\"1\" class=\"dataframe\">\n",
       "  <thead>\n",
       "    <tr style=\"text-align: right;\">\n",
       "      <th></th>\n",
       "      <th>Name</th>\n",
       "      <th>Last Name</th>\n",
       "      <th>Member</th>\n",
       "      <th>City</th>\n",
       "      <th>Code</th>\n",
       "      <th>Amount</th>\n",
       "    </tr>\n",
       "  </thead>\n",
       "  <tbody>\n",
       "    <tr>\n",
       "      <th>0</th>\n",
       "      <td>Jim</td>\n",
       "      <td>Doe</td>\n",
       "      <td>No</td>\n",
       "      <td>Ohio</td>\n",
       "      <td>JD</td>\n",
       "      <td>8075</td>\n",
       "    </tr>\n",
       "    <tr>\n",
       "      <th>1</th>\n",
       "      <td>Gill</td>\n",
       "      <td>McGinnis</td>\n",
       "      <td>Yes</td>\n",
       "      <td>Texas</td>\n",
       "      <td>GM</td>\n",
       "      <td>9119</td>\n",
       "    </tr>\n",
       "    <tr>\n",
       "      <th>2</th>\n",
       "      <td>Joe</td>\n",
       "      <td>Repici</td>\n",
       "      <td>Yes</td>\n",
       "      <td>Bostan</td>\n",
       "      <td>JR</td>\n",
       "      <td>8075</td>\n",
       "    </tr>\n",
       "    <tr>\n",
       "      <th>3</th>\n",
       "      <td>Stephen</td>\n",
       "      <td>Tyler</td>\n",
       "      <td>No</td>\n",
       "      <td>LA</td>\n",
       "      <td>ST</td>\n",
       "      <td>91234</td>\n",
       "    </tr>\n",
       "    <tr>\n",
       "      <th>4</th>\n",
       "      <td>Oscar</td>\n",
       "      <td>Blankman</td>\n",
       "      <td>No</td>\n",
       "      <td>NYC</td>\n",
       "      <td>OB</td>\n",
       "      <td>298</td>\n",
       "    </tr>\n",
       "  </tbody>\n",
       "</table>\n",
       "</div>"
      ],
      "text/plain": [
       "      Name Last Name Member    City Code  Amount\n",
       "0      Jim       Doe     No    Ohio   JD    8075\n",
       "1     Gill  McGinnis    Yes   Texas   GM    9119\n",
       "2      Joe    Repici    Yes  Bostan   JR    8075\n",
       "3  Stephen     Tyler     No      LA   ST   91234\n",
       "4    Oscar  Blankman     No     NYC   OB     298"
      ]
     },
     "execution_count": 5,
     "metadata": {},
     "output_type": "execute_result"
    }
   ],
   "source": [
    "url=\"https://raw.githubusercontent.com/Tanishqa-10/AskPython/main/Sampledata.csv\"\n",
    "df=pd.read_csv(url,on_bad_lines='skip')\n",
    "df.head()"
   ]
  },
  {
   "cell_type": "code",
   "execution_count": 10,
   "metadata": {},
   "outputs": [],
   "source": [
    "import seaborn as sns\n",
    "df = sns.load_dataset('titanic')"
   ]
  },
  {
   "cell_type": "code",
   "execution_count": 11,
   "metadata": {},
   "outputs": [
    {
     "data": {
      "text/html": [
       "<div>\n",
       "<style scoped>\n",
       "    .dataframe tbody tr th:only-of-type {\n",
       "        vertical-align: middle;\n",
       "    }\n",
       "\n",
       "    .dataframe tbody tr th {\n",
       "        vertical-align: top;\n",
       "    }\n",
       "\n",
       "    .dataframe thead th {\n",
       "        text-align: right;\n",
       "    }\n",
       "</style>\n",
       "<table border=\"1\" class=\"dataframe\">\n",
       "  <thead>\n",
       "    <tr style=\"text-align: right;\">\n",
       "      <th></th>\n",
       "      <th>survived</th>\n",
       "      <th>pclass</th>\n",
       "      <th>sex</th>\n",
       "      <th>age</th>\n",
       "      <th>sibsp</th>\n",
       "      <th>parch</th>\n",
       "      <th>fare</th>\n",
       "      <th>embarked</th>\n",
       "      <th>class</th>\n",
       "      <th>who</th>\n",
       "      <th>adult_male</th>\n",
       "      <th>deck</th>\n",
       "      <th>embark_town</th>\n",
       "      <th>alive</th>\n",
       "      <th>alone</th>\n",
       "    </tr>\n",
       "  </thead>\n",
       "  <tbody>\n",
       "    <tr>\n",
       "      <th>0</th>\n",
       "      <td>0</td>\n",
       "      <td>3</td>\n",
       "      <td>male</td>\n",
       "      <td>22.0</td>\n",
       "      <td>1</td>\n",
       "      <td>0</td>\n",
       "      <td>7.2500</td>\n",
       "      <td>S</td>\n",
       "      <td>Third</td>\n",
       "      <td>man</td>\n",
       "      <td>True</td>\n",
       "      <td>NaN</td>\n",
       "      <td>Southampton</td>\n",
       "      <td>no</td>\n",
       "      <td>False</td>\n",
       "    </tr>\n",
       "    <tr>\n",
       "      <th>1</th>\n",
       "      <td>1</td>\n",
       "      <td>1</td>\n",
       "      <td>female</td>\n",
       "      <td>38.0</td>\n",
       "      <td>1</td>\n",
       "      <td>0</td>\n",
       "      <td>71.2833</td>\n",
       "      <td>C</td>\n",
       "      <td>First</td>\n",
       "      <td>woman</td>\n",
       "      <td>False</td>\n",
       "      <td>C</td>\n",
       "      <td>Cherbourg</td>\n",
       "      <td>yes</td>\n",
       "      <td>False</td>\n",
       "    </tr>\n",
       "    <tr>\n",
       "      <th>2</th>\n",
       "      <td>1</td>\n",
       "      <td>3</td>\n",
       "      <td>female</td>\n",
       "      <td>26.0</td>\n",
       "      <td>0</td>\n",
       "      <td>0</td>\n",
       "      <td>7.9250</td>\n",
       "      <td>S</td>\n",
       "      <td>Third</td>\n",
       "      <td>woman</td>\n",
       "      <td>False</td>\n",
       "      <td>NaN</td>\n",
       "      <td>Southampton</td>\n",
       "      <td>yes</td>\n",
       "      <td>True</td>\n",
       "    </tr>\n",
       "    <tr>\n",
       "      <th>3</th>\n",
       "      <td>1</td>\n",
       "      <td>1</td>\n",
       "      <td>female</td>\n",
       "      <td>35.0</td>\n",
       "      <td>1</td>\n",
       "      <td>0</td>\n",
       "      <td>53.1000</td>\n",
       "      <td>S</td>\n",
       "      <td>First</td>\n",
       "      <td>woman</td>\n",
       "      <td>False</td>\n",
       "      <td>C</td>\n",
       "      <td>Southampton</td>\n",
       "      <td>yes</td>\n",
       "      <td>False</td>\n",
       "    </tr>\n",
       "    <tr>\n",
       "      <th>4</th>\n",
       "      <td>0</td>\n",
       "      <td>3</td>\n",
       "      <td>male</td>\n",
       "      <td>35.0</td>\n",
       "      <td>0</td>\n",
       "      <td>0</td>\n",
       "      <td>8.0500</td>\n",
       "      <td>S</td>\n",
       "      <td>Third</td>\n",
       "      <td>man</td>\n",
       "      <td>True</td>\n",
       "      <td>NaN</td>\n",
       "      <td>Southampton</td>\n",
       "      <td>no</td>\n",
       "      <td>True</td>\n",
       "    </tr>\n",
       "  </tbody>\n",
       "</table>\n",
       "</div>"
      ],
      "text/plain": [
       "   survived  pclass     sex   age  sibsp  parch     fare embarked  class  \\\n",
       "0         0       3    male  22.0      1      0   7.2500        S  Third   \n",
       "1         1       1  female  38.0      1      0  71.2833        C  First   \n",
       "2         1       3  female  26.0      0      0   7.9250        S  Third   \n",
       "3         1       1  female  35.0      1      0  53.1000        S  First   \n",
       "4         0       3    male  35.0      0      0   8.0500        S  Third   \n",
       "\n",
       "     who  adult_male deck  embark_town alive  alone  \n",
       "0    man        True  NaN  Southampton    no  False  \n",
       "1  woman       False    C    Cherbourg   yes  False  \n",
       "2  woman       False  NaN  Southampton   yes   True  \n",
       "3  woman       False    C  Southampton   yes  False  \n",
       "4    man        True  NaN  Southampton    no   True  "
      ]
     },
     "execution_count": 11,
     "metadata": {},
     "output_type": "execute_result"
    }
   ],
   "source": [
    "df.head()"
   ]
  },
  {
   "cell_type": "markdown",
   "metadata": {},
   "source": [
    "value counts"
   ]
  },
  {
   "cell_type": "code",
   "execution_count": 12,
   "metadata": {},
   "outputs": [
    {
     "data": {
      "text/plain": [
       "male      577\n",
       "female    314\n",
       "Name: sex, dtype: int64"
      ]
     },
     "execution_count": 12,
     "metadata": {},
     "output_type": "execute_result"
    }
   ],
   "source": [
    "df['sex'].value_counts(dropna=False)"
   ]
  },
  {
   "cell_type": "code",
   "execution_count": 14,
   "metadata": {},
   "outputs": [
    {
     "data": {
      "text/plain": [
       "male      577\n",
       "female    314\n",
       "Name: sex, dtype: int64"
      ]
     },
     "execution_count": 14,
     "metadata": {},
     "output_type": "execute_result"
    }
   ],
   "source": [
    "df['sex'].value_counts()"
   ]
  },
  {
   "cell_type": "markdown",
   "metadata": {},
   "source": [
    "Correlation"
   ]
  },
  {
   "cell_type": "code",
   "execution_count": 7,
   "metadata": {},
   "outputs": [
    {
     "name": "stderr",
     "output_type": "stream",
     "text": [
      "C:\\Users\\Sai\\AppData\\Local\\Temp\\ipykernel_22828\\1134722465.py:1: FutureWarning: The default value of numeric_only in DataFrame.corr is deprecated. In a future version, it will default to False. Select only valid columns or specify the value of numeric_only to silence this warning.\n",
      "  df.corr()\n"
     ]
    },
    {
     "data": {
      "text/html": [
       "<div>\n",
       "<style scoped>\n",
       "    .dataframe tbody tr th:only-of-type {\n",
       "        vertical-align: middle;\n",
       "    }\n",
       "\n",
       "    .dataframe tbody tr th {\n",
       "        vertical-align: top;\n",
       "    }\n",
       "\n",
       "    .dataframe thead th {\n",
       "        text-align: right;\n",
       "    }\n",
       "</style>\n",
       "<table border=\"1\" class=\"dataframe\">\n",
       "  <thead>\n",
       "    <tr style=\"text-align: right;\">\n",
       "      <th></th>\n",
       "      <th>survived</th>\n",
       "      <th>pclass</th>\n",
       "      <th>age</th>\n",
       "      <th>sibsp</th>\n",
       "      <th>parch</th>\n",
       "      <th>fare</th>\n",
       "      <th>adult_male</th>\n",
       "      <th>alone</th>\n",
       "    </tr>\n",
       "  </thead>\n",
       "  <tbody>\n",
       "    <tr>\n",
       "      <th>survived</th>\n",
       "      <td>1.000000</td>\n",
       "      <td>-0.338481</td>\n",
       "      <td>-0.077221</td>\n",
       "      <td>-0.035322</td>\n",
       "      <td>0.081629</td>\n",
       "      <td>0.257307</td>\n",
       "      <td>-0.557080</td>\n",
       "      <td>-0.203367</td>\n",
       "    </tr>\n",
       "    <tr>\n",
       "      <th>pclass</th>\n",
       "      <td>-0.338481</td>\n",
       "      <td>1.000000</td>\n",
       "      <td>-0.369226</td>\n",
       "      <td>0.083081</td>\n",
       "      <td>0.018443</td>\n",
       "      <td>-0.549500</td>\n",
       "      <td>0.094035</td>\n",
       "      <td>0.135207</td>\n",
       "    </tr>\n",
       "    <tr>\n",
       "      <th>age</th>\n",
       "      <td>-0.077221</td>\n",
       "      <td>-0.369226</td>\n",
       "      <td>1.000000</td>\n",
       "      <td>-0.308247</td>\n",
       "      <td>-0.189119</td>\n",
       "      <td>0.096067</td>\n",
       "      <td>0.280328</td>\n",
       "      <td>0.198270</td>\n",
       "    </tr>\n",
       "    <tr>\n",
       "      <th>sibsp</th>\n",
       "      <td>-0.035322</td>\n",
       "      <td>0.083081</td>\n",
       "      <td>-0.308247</td>\n",
       "      <td>1.000000</td>\n",
       "      <td>0.414838</td>\n",
       "      <td>0.159651</td>\n",
       "      <td>-0.253586</td>\n",
       "      <td>-0.584471</td>\n",
       "    </tr>\n",
       "    <tr>\n",
       "      <th>parch</th>\n",
       "      <td>0.081629</td>\n",
       "      <td>0.018443</td>\n",
       "      <td>-0.189119</td>\n",
       "      <td>0.414838</td>\n",
       "      <td>1.000000</td>\n",
       "      <td>0.216225</td>\n",
       "      <td>-0.349943</td>\n",
       "      <td>-0.583398</td>\n",
       "    </tr>\n",
       "    <tr>\n",
       "      <th>fare</th>\n",
       "      <td>0.257307</td>\n",
       "      <td>-0.549500</td>\n",
       "      <td>0.096067</td>\n",
       "      <td>0.159651</td>\n",
       "      <td>0.216225</td>\n",
       "      <td>1.000000</td>\n",
       "      <td>-0.182024</td>\n",
       "      <td>-0.271832</td>\n",
       "    </tr>\n",
       "    <tr>\n",
       "      <th>adult_male</th>\n",
       "      <td>-0.557080</td>\n",
       "      <td>0.094035</td>\n",
       "      <td>0.280328</td>\n",
       "      <td>-0.253586</td>\n",
       "      <td>-0.349943</td>\n",
       "      <td>-0.182024</td>\n",
       "      <td>1.000000</td>\n",
       "      <td>0.404744</td>\n",
       "    </tr>\n",
       "    <tr>\n",
       "      <th>alone</th>\n",
       "      <td>-0.203367</td>\n",
       "      <td>0.135207</td>\n",
       "      <td>0.198270</td>\n",
       "      <td>-0.584471</td>\n",
       "      <td>-0.583398</td>\n",
       "      <td>-0.271832</td>\n",
       "      <td>0.404744</td>\n",
       "      <td>1.000000</td>\n",
       "    </tr>\n",
       "  </tbody>\n",
       "</table>\n",
       "</div>"
      ],
      "text/plain": [
       "            survived    pclass       age     sibsp     parch      fare  \\\n",
       "survived    1.000000 -0.338481 -0.077221 -0.035322  0.081629  0.257307   \n",
       "pclass     -0.338481  1.000000 -0.369226  0.083081  0.018443 -0.549500   \n",
       "age        -0.077221 -0.369226  1.000000 -0.308247 -0.189119  0.096067   \n",
       "sibsp      -0.035322  0.083081 -0.308247  1.000000  0.414838  0.159651   \n",
       "parch       0.081629  0.018443 -0.189119  0.414838  1.000000  0.216225   \n",
       "fare        0.257307 -0.549500  0.096067  0.159651  0.216225  1.000000   \n",
       "adult_male -0.557080  0.094035  0.280328 -0.253586 -0.349943 -0.182024   \n",
       "alone      -0.203367  0.135207  0.198270 -0.584471 -0.583398 -0.271832   \n",
       "\n",
       "            adult_male     alone  \n",
       "survived     -0.557080 -0.203367  \n",
       "pclass        0.094035  0.135207  \n",
       "age           0.280328  0.198270  \n",
       "sibsp        -0.253586 -0.584471  \n",
       "parch        -0.349943 -0.583398  \n",
       "fare         -0.182024 -0.271832  \n",
       "adult_male    1.000000  0.404744  \n",
       "alone         0.404744  1.000000  "
      ]
     },
     "execution_count": 7,
     "metadata": {},
     "output_type": "execute_result"
    }
   ],
   "source": [
    "df.corr()"
   ]
  },
  {
   "cell_type": "markdown",
   "metadata": {},
   "source": [
    "corr plot"
   ]
  },
  {
   "cell_type": "code",
   "execution_count": 8,
   "metadata": {},
   "outputs": [
    {
     "name": "stderr",
     "output_type": "stream",
     "text": [
      "C:\\Users\\Sai\\AppData\\Local\\Temp\\ipykernel_22828\\3274683854.py:1: FutureWarning: The default value of numeric_only in DataFrame.corr is deprecated. In a future version, it will default to False. Select only valid columns or specify the value of numeric_only to silence this warning.\n",
      "  df.corr().plot()\n"
     ]
    },
    {
     "data": {
      "text/plain": [
       "<Axes: >"
      ]
     },
     "execution_count": 8,
     "metadata": {},
     "output_type": "execute_result"
    },
    {
     "data": {
      "image/png": "[encoded data removed]",
      "text/plain": [
       "<Figure size 640x480 with 1 Axes>"
      ]
     },
     "metadata": {},
     "output_type": "display_data"
    }
   ],
   "source": [
    "df.corr().plot()"
   ]
  },
  {
   "cell_type": "code",
   "execution_count": 9,
   "metadata": {},
   "outputs": [
    {
     "data": {
      "text/plain": [
       "Index(['survived', 'pclass', 'sex', 'age', 'sibsp', 'parch', 'fare',\n",
       "       'embarked', 'class', 'who', 'adult_male', 'deck', 'embark_town',\n",
       "       'alive', 'alone'],\n",
       "      dtype='object')"
      ]
     },
     "execution_count": 9,
     "metadata": {},
     "output_type": "execute_result"
    }
   ],
   "source": [
    "df.columns"
   ]
  },
  {
   "cell_type": "markdown",
   "metadata": {},
   "source": [
    "percentiles and describe"
   ]
  },
  {
   "cell_type": "code",
   "execution_count": 10,
   "metadata": {},
   "outputs": [
    {
     "data": {
      "text/html": [
       "<div>\n",
       "<style scoped>\n",
       "    .dataframe tbody tr th:only-of-type {\n",
       "        vertical-align: middle;\n",
       "    }\n",
       "\n",
       "    .dataframe tbody tr th {\n",
       "        vertical-align: top;\n",
       "    }\n",
       "\n",
       "    .dataframe thead th {\n",
       "        text-align: right;\n",
       "    }\n",
       "</style>\n",
       "<table border=\"1\" class=\"dataframe\">\n",
       "  <thead>\n",
       "    <tr style=\"text-align: right;\">\n",
       "      <th></th>\n",
       "      <th>survived</th>\n",
       "      <th>pclass</th>\n",
       "      <th>age</th>\n",
       "      <th>sibsp</th>\n",
       "      <th>parch</th>\n",
       "      <th>fare</th>\n",
       "    </tr>\n",
       "  </thead>\n",
       "  <tbody>\n",
       "    <tr>\n",
       "      <th>count</th>\n",
       "      <td>891.000000</td>\n",
       "      <td>891.000000</td>\n",
       "      <td>714.000000</td>\n",
       "      <td>891.000000</td>\n",
       "      <td>891.000000</td>\n",
       "      <td>891.000000</td>\n",
       "    </tr>\n",
       "    <tr>\n",
       "      <th>mean</th>\n",
       "      <td>0.383838</td>\n",
       "      <td>2.308642</td>\n",
       "      <td>29.699118</td>\n",
       "      <td>0.523008</td>\n",
       "      <td>0.381594</td>\n",
       "      <td>32.204208</td>\n",
       "    </tr>\n",
       "    <tr>\n",
       "      <th>std</th>\n",
       "      <td>0.486592</td>\n",
       "      <td>0.836071</td>\n",
       "      <td>14.526497</td>\n",
       "      <td>1.102743</td>\n",
       "      <td>0.806057</td>\n",
       "      <td>49.693429</td>\n",
       "    </tr>\n",
       "    <tr>\n",
       "      <th>min</th>\n",
       "      <td>0.000000</td>\n",
       "      <td>1.000000</td>\n",
       "      <td>0.420000</td>\n",
       "      <td>0.000000</td>\n",
       "      <td>0.000000</td>\n",
       "      <td>0.000000</td>\n",
       "    </tr>\n",
       "    <tr>\n",
       "      <th>25%</th>\n",
       "      <td>0.000000</td>\n",
       "      <td>2.000000</td>\n",
       "      <td>20.125000</td>\n",
       "      <td>0.000000</td>\n",
       "      <td>0.000000</td>\n",
       "      <td>7.910400</td>\n",
       "    </tr>\n",
       "    <tr>\n",
       "      <th>50%</th>\n",
       "      <td>0.000000</td>\n",
       "      <td>3.000000</td>\n",
       "      <td>28.000000</td>\n",
       "      <td>0.000000</td>\n",
       "      <td>0.000000</td>\n",
       "      <td>14.454200</td>\n",
       "    </tr>\n",
       "    <tr>\n",
       "      <th>75%</th>\n",
       "      <td>1.000000</td>\n",
       "      <td>3.000000</td>\n",
       "      <td>38.000000</td>\n",
       "      <td>1.000000</td>\n",
       "      <td>0.000000</td>\n",
       "      <td>31.000000</td>\n",
       "    </tr>\n",
       "    <tr>\n",
       "      <th>max</th>\n",
       "      <td>1.000000</td>\n",
       "      <td>3.000000</td>\n",
       "      <td>80.000000</td>\n",
       "      <td>8.000000</td>\n",
       "      <td>6.000000</td>\n",
       "      <td>512.329200</td>\n",
       "    </tr>\n",
       "  </tbody>\n",
       "</table>\n",
       "</div>"
      ],
      "text/plain": [
       "         survived      pclass         age       sibsp       parch        fare\n",
       "count  891.000000  891.000000  714.000000  891.000000  891.000000  891.000000\n",
       "mean     0.383838    2.308642   29.699118    0.523008    0.381594   32.204208\n",
       "std      0.486592    0.836071   14.526497    1.102743    0.806057   49.693429\n",
       "min      0.000000    1.000000    0.420000    0.000000    0.000000    0.000000\n",
       "25%      0.000000    2.000000   20.125000    0.000000    0.000000    7.910400\n",
       "50%      0.000000    3.000000   28.000000    0.000000    0.000000   14.454200\n",
       "75%      1.000000    3.000000   38.000000    1.000000    0.000000   31.000000\n",
       "max      1.000000    3.000000   80.000000    8.000000    6.000000  512.329200"
      ]
     },
     "execution_count": 10,
     "metadata": {},
     "output_type": "execute_result"
    }
   ],
   "source": [
    "df.describe()"
   ]
  },
  {
   "cell_type": "code",
   "execution_count": 11,
   "metadata": {},
   "outputs": [
    {
     "data": {
      "text/html": [
       "<div>\n",
       "<style scoped>\n",
       "    .dataframe tbody tr th:only-of-type {\n",
       "        vertical-align: middle;\n",
       "    }\n",
       "\n",
       "    .dataframe tbody tr th {\n",
       "        vertical-align: top;\n",
       "    }\n",
       "\n",
       "    .dataframe thead th {\n",
       "        text-align: right;\n",
       "    }\n",
       "</style>\n",
       "<table border=\"1\" class=\"dataframe\">\n",
       "  <thead>\n",
       "    <tr style=\"text-align: right;\">\n",
       "      <th></th>\n",
       "      <th>survived</th>\n",
       "      <th>pclass</th>\n",
       "      <th>age</th>\n",
       "      <th>sibsp</th>\n",
       "      <th>parch</th>\n",
       "      <th>fare</th>\n",
       "    </tr>\n",
       "  </thead>\n",
       "  <tbody>\n",
       "    <tr>\n",
       "      <th>count</th>\n",
       "      <td>891.000000</td>\n",
       "      <td>891.000000</td>\n",
       "      <td>714.000000</td>\n",
       "      <td>891.000000</td>\n",
       "      <td>891.000000</td>\n",
       "      <td>891.000000</td>\n",
       "    </tr>\n",
       "    <tr>\n",
       "      <th>mean</th>\n",
       "      <td>0.383838</td>\n",
       "      <td>2.308642</td>\n",
       "      <td>29.699118</td>\n",
       "      <td>0.523008</td>\n",
       "      <td>0.381594</td>\n",
       "      <td>32.204208</td>\n",
       "    </tr>\n",
       "    <tr>\n",
       "      <th>std</th>\n",
       "      <td>0.486592</td>\n",
       "      <td>0.836071</td>\n",
       "      <td>14.526497</td>\n",
       "      <td>1.102743</td>\n",
       "      <td>0.806057</td>\n",
       "      <td>49.693429</td>\n",
       "    </tr>\n",
       "    <tr>\n",
       "      <th>min</th>\n",
       "      <td>0.000000</td>\n",
       "      <td>1.000000</td>\n",
       "      <td>0.420000</td>\n",
       "      <td>0.000000</td>\n",
       "      <td>0.000000</td>\n",
       "      <td>0.000000</td>\n",
       "    </tr>\n",
       "    <tr>\n",
       "      <th>1%</th>\n",
       "      <td>0.000000</td>\n",
       "      <td>1.000000</td>\n",
       "      <td>1.000000</td>\n",
       "      <td>0.000000</td>\n",
       "      <td>0.000000</td>\n",
       "      <td>0.000000</td>\n",
       "    </tr>\n",
       "    <tr>\n",
       "      <th>5%</th>\n",
       "      <td>0.000000</td>\n",
       "      <td>1.000000</td>\n",
       "      <td>4.000000</td>\n",
       "      <td>0.000000</td>\n",
       "      <td>0.000000</td>\n",
       "      <td>7.225000</td>\n",
       "    </tr>\n",
       "    <tr>\n",
       "      <th>10%</th>\n",
       "      <td>0.000000</td>\n",
       "      <td>1.000000</td>\n",
       "      <td>14.000000</td>\n",
       "      <td>0.000000</td>\n",
       "      <td>0.000000</td>\n",
       "      <td>7.550000</td>\n",
       "    </tr>\n",
       "    <tr>\n",
       "      <th>50%</th>\n",
       "      <td>0.000000</td>\n",
       "      <td>3.000000</td>\n",
       "      <td>28.000000</td>\n",
       "      <td>0.000000</td>\n",
       "      <td>0.000000</td>\n",
       "      <td>14.454200</td>\n",
       "    </tr>\n",
       "    <tr>\n",
       "      <th>99%</th>\n",
       "      <td>1.000000</td>\n",
       "      <td>3.000000</td>\n",
       "      <td>65.870000</td>\n",
       "      <td>5.000000</td>\n",
       "      <td>4.000000</td>\n",
       "      <td>249.006220</td>\n",
       "    </tr>\n",
       "    <tr>\n",
       "      <th>max</th>\n",
       "      <td>1.000000</td>\n",
       "      <td>3.000000</td>\n",
       "      <td>80.000000</td>\n",
       "      <td>8.000000</td>\n",
       "      <td>6.000000</td>\n",
       "      <td>512.329200</td>\n",
       "    </tr>\n",
       "  </tbody>\n",
       "</table>\n",
       "</div>"
      ],
      "text/plain": [
       "         survived      pclass         age       sibsp       parch        fare\n",
       "count  891.000000  891.000000  714.000000  891.000000  891.000000  891.000000\n",
       "mean     0.383838    2.308642   29.699118    0.523008    0.381594   32.204208\n",
       "std      0.486592    0.836071   14.526497    1.102743    0.806057   49.693429\n",
       "min      0.000000    1.000000    0.420000    0.000000    0.000000    0.000000\n",
       "1%       0.000000    1.000000    1.000000    0.000000    0.000000    0.000000\n",
       "5%       0.000000    1.000000    4.000000    0.000000    0.000000    7.225000\n",
       "10%      0.000000    1.000000   14.000000    0.000000    0.000000    7.550000\n",
       "50%      0.000000    3.000000   28.000000    0.000000    0.000000   14.454200\n",
       "99%      1.000000    3.000000   65.870000    5.000000    4.000000  249.006220\n",
       "max      1.000000    3.000000   80.000000    8.000000    6.000000  512.329200"
      ]
     },
     "execution_count": 11,
     "metadata": {},
     "output_type": "execute_result"
    }
   ],
   "source": [
    "df.describe(percentiles=[0.01,0.05,0.10,0.50,0.99])"
   ]
  },
  {
   "cell_type": "markdown",
   "metadata": {},
   "source": [
    "cross tab"
   ]
  },
  {
   "cell_type": "code",
   "execution_count": 12,
   "metadata": {},
   "outputs": [
    {
     "data": {
      "text/html": [
       "<div>\n",
       "<style scoped>\n",
       "    .dataframe tbody tr th:only-of-type {\n",
       "        vertical-align: middle;\n",
       "    }\n",
       "\n",
       "    .dataframe tbody tr th {\n",
       "        vertical-align: top;\n",
       "    }\n",
       "\n",
       "    .dataframe thead th {\n",
       "        text-align: right;\n",
       "    }\n",
       "</style>\n",
       "<table border=\"1\" class=\"dataframe\">\n",
       "  <thead>\n",
       "    <tr style=\"text-align: right;\">\n",
       "      <th>survived</th>\n",
       "      <th>0</th>\n",
       "      <th>1</th>\n",
       "      <th>total</th>\n",
       "    </tr>\n",
       "    <tr>\n",
       "      <th>sex</th>\n",
       "      <th></th>\n",
       "      <th></th>\n",
       "      <th></th>\n",
       "    </tr>\n",
       "  </thead>\n",
       "  <tbody>\n",
       "    <tr>\n",
       "      <th>female</th>\n",
       "      <td>81</td>\n",
       "      <td>233</td>\n",
       "      <td>314</td>\n",
       "    </tr>\n",
       "    <tr>\n",
       "      <th>male</th>\n",
       "      <td>468</td>\n",
       "      <td>109</td>\n",
       "      <td>577</td>\n",
       "    </tr>\n",
       "    <tr>\n",
       "      <th>total</th>\n",
       "      <td>549</td>\n",
       "      <td>342</td>\n",
       "      <td>891</td>\n",
       "    </tr>\n",
       "  </tbody>\n",
       "</table>\n",
       "</div>"
      ],
      "text/plain": [
       "survived    0    1  total\n",
       "sex                      \n",
       "female     81  233    314\n",
       "male      468  109    577\n",
       "total     549  342    891"
      ]
     },
     "execution_count": 12,
     "metadata": {},
     "output_type": "execute_result"
    }
   ],
   "source": [
    "cross_df=pd.crosstab(df['sex'],df['survived'],margins=True,margins_name='total')\n",
    "cross_df"
   ]
  },
  {
   "cell_type": "markdown",
   "metadata": {},
   "source": [
    "getting the ratio of people who survived,not with respect to sex"
   ]
  },
  {
   "cell_type": "code",
   "execution_count": 13,
   "metadata": {},
   "outputs": [
    {
     "data": {
      "text/html": [
       "<div>\n",
       "<style scoped>\n",
       "    .dataframe tbody tr th:only-of-type {\n",
       "        vertical-align: middle;\n",
       "    }\n",
       "\n",
       "    .dataframe tbody tr th {\n",
       "        vertical-align: top;\n",
       "    }\n",
       "\n",
       "    .dataframe thead th {\n",
       "        text-align: right;\n",
       "    }\n",
       "</style>\n",
       "<table border=\"1\" class=\"dataframe\">\n",
       "  <thead>\n",
       "    <tr style=\"text-align: right;\">\n",
       "      <th>survived</th>\n",
       "      <th>0</th>\n",
       "      <th>1</th>\n",
       "      <th>total</th>\n",
       "    </tr>\n",
       "    <tr>\n",
       "      <th>sex</th>\n",
       "      <th></th>\n",
       "      <th></th>\n",
       "      <th></th>\n",
       "    </tr>\n",
       "  </thead>\n",
       "  <tbody>\n",
       "    <tr>\n",
       "      <th>female</th>\n",
       "      <td>0.257962</td>\n",
       "      <td>0.742038</td>\n",
       "      <td>1.0</td>\n",
       "    </tr>\n",
       "    <tr>\n",
       "      <th>male</th>\n",
       "      <td>0.811092</td>\n",
       "      <td>0.188908</td>\n",
       "      <td>1.0</td>\n",
       "    </tr>\n",
       "    <tr>\n",
       "      <th>total</th>\n",
       "      <td>0.616162</td>\n",
       "      <td>0.383838</td>\n",
       "      <td>1.0</td>\n",
       "    </tr>\n",
       "  </tbody>\n",
       "</table>\n",
       "</div>"
      ],
      "text/plain": [
       "survived         0         1  total\n",
       "sex                                \n",
       "female    0.257962  0.742038    1.0\n",
       "male      0.811092  0.188908    1.0\n",
       "total     0.616162  0.383838    1.0"
      ]
     },
     "execution_count": 13,
     "metadata": {},
     "output_type": "execute_result"
    }
   ],
   "source": [
    "cross_df.div(cross_df['total'], axis=0)"
   ]
  },
  {
   "cell_type": "markdown",
   "metadata": {},
   "source": [
    "Aggregate functions"
   ]
  },
  {
   "cell_type": "code",
   "execution_count": 14,
   "metadata": {},
   "outputs": [
    {
     "name": "stdout",
     "output_type": "stream",
     "text": [
      "min 0.42 max 80.0 mean 29.69911764705882 sum 21205.17 count 714\n"
     ]
    }
   ],
   "source": [
    "print('min',df['age'].min(),\n",
    "      'max',df['age'].max(),\n",
    "      'mean',df['age'].mean(),\n",
    "      'sum',df['age'].sum(),\n",
    "      'count',df['age'].count())"
   ]
  },
  {
   "cell_type": "markdown",
   "metadata": {},
   "source": [
    "GROUPBY"
   ]
  },
  {
   "cell_type": "code",
   "execution_count": 22,
   "metadata": {},
   "outputs": [
    {
     "name": "stderr",
     "output_type": "stream",
     "text": [
      "C:\\Users\\Sai\\AppData\\Local\\Temp\\ipykernel_22828\\843820449.py:1: FutureWarning: The default value of numeric_only in DataFrameGroupBy.mean is deprecated. In a future version, numeric_only will default to False. Either specify numeric_only or select only columns which should be valid for the function.\n",
      "  df.groupby(['pclass','sex']).mean()\n"
     ]
    },
    {
     "data": {
      "text/html": [
       "<div>\n",
       "<style scoped>\n",
       "    .dataframe tbody tr th:only-of-type {\n",
       "        vertical-align: middle;\n",
       "    }\n",
       "\n",
       "    .dataframe tbody tr th {\n",
       "        vertical-align: top;\n",
       "    }\n",
       "\n",
       "    .dataframe thead th {\n",
       "        text-align: right;\n",
       "    }\n",
       "</style>\n",
       "<table border=\"1\" class=\"dataframe\">\n",
       "  <thead>\n",
       "    <tr style=\"text-align: right;\">\n",
       "      <th></th>\n",
       "      <th></th>\n",
       "      <th>survived</th>\n",
       "      <th>age</th>\n",
       "      <th>sibsp</th>\n",
       "      <th>parch</th>\n",
       "      <th>fare</th>\n",
       "      <th>adult_male</th>\n",
       "      <th>alone</th>\n",
       "    </tr>\n",
       "    <tr>\n",
       "      <th>pclass</th>\n",
       "      <th>sex</th>\n",
       "      <th></th>\n",
       "      <th></th>\n",
       "      <th></th>\n",
       "      <th></th>\n",
       "      <th></th>\n",
       "      <th></th>\n",
       "      <th></th>\n",
       "    </tr>\n",
       "  </thead>\n",
       "  <tbody>\n",
       "    <tr>\n",
       "      <th rowspan=\"2\" valign=\"top\">1</th>\n",
       "      <th>female</th>\n",
       "      <td>0.968085</td>\n",
       "      <td>34.611765</td>\n",
       "      <td>0.553191</td>\n",
       "      <td>0.457447</td>\n",
       "      <td>106.125798</td>\n",
       "      <td>0.000000</td>\n",
       "      <td>0.361702</td>\n",
       "    </tr>\n",
       "    <tr>\n",
       "      <th>male</th>\n",
       "      <td>0.368852</td>\n",
       "      <td>41.281386</td>\n",
       "      <td>0.311475</td>\n",
       "      <td>0.278689</td>\n",
       "      <td>67.226127</td>\n",
       "      <td>0.975410</td>\n",
       "      <td>0.614754</td>\n",
       "    </tr>\n",
       "    <tr>\n",
       "      <th rowspan=\"2\" valign=\"top\">2</th>\n",
       "      <th>female</th>\n",
       "      <td>0.921053</td>\n",
       "      <td>28.722973</td>\n",
       "      <td>0.486842</td>\n",
       "      <td>0.605263</td>\n",
       "      <td>21.970121</td>\n",
       "      <td>0.000000</td>\n",
       "      <td>0.421053</td>\n",
       "    </tr>\n",
       "    <tr>\n",
       "      <th>male</th>\n",
       "      <td>0.157407</td>\n",
       "      <td>30.740707</td>\n",
       "      <td>0.342593</td>\n",
       "      <td>0.222222</td>\n",
       "      <td>19.741782</td>\n",
       "      <td>0.916667</td>\n",
       "      <td>0.666667</td>\n",
       "    </tr>\n",
       "    <tr>\n",
       "      <th rowspan=\"2\" valign=\"top\">3</th>\n",
       "      <th>female</th>\n",
       "      <td>0.500000</td>\n",
       "      <td>21.750000</td>\n",
       "      <td>0.895833</td>\n",
       "      <td>0.798611</td>\n",
       "      <td>16.118810</td>\n",
       "      <td>0.000000</td>\n",
       "      <td>0.416667</td>\n",
       "    </tr>\n",
       "    <tr>\n",
       "      <th>male</th>\n",
       "      <td>0.135447</td>\n",
       "      <td>26.507589</td>\n",
       "      <td>0.498559</td>\n",
       "      <td>0.224784</td>\n",
       "      <td>12.661633</td>\n",
       "      <td>0.919308</td>\n",
       "      <td>0.760807</td>\n",
       "    </tr>\n",
       "  </tbody>\n",
       "</table>\n",
       "</div>"
      ],
      "text/plain": [
       "               survived        age     sibsp     parch        fare  \\\n",
       "pclass sex                                                           \n",
       "1      female  0.968085  34.611765  0.553191  0.457447  106.125798   \n",
       "       male    0.368852  41.281386  0.311475  0.278689   67.226127   \n",
       "2      female  0.921053  28.722973  0.486842  0.605263   21.970121   \n",
       "       male    0.157407  30.740707  0.342593  0.222222   19.741782   \n",
       "3      female  0.500000  21.750000  0.895833  0.798611   16.118810   \n",
       "       male    0.135447  26.507589  0.498559  0.224784   12.661633   \n",
       "\n",
       "               adult_male     alone  \n",
       "pclass sex                           \n",
       "1      female    0.000000  0.361702  \n",
       "       male      0.975410  0.614754  \n",
       "2      female    0.000000  0.421053  \n",
       "       male      0.916667  0.666667  \n",
       "3      female    0.000000  0.416667  \n",
       "       male      0.919308  0.760807  "
      ]
     },
     "execution_count": 22,
     "metadata": {},
     "output_type": "execute_result"
    }
   ],
   "source": [
    "df.groupby(['pclass','sex']).mean()"
   ]
  },
  {
   "cell_type": "code",
   "execution_count": 26,
   "metadata": {},
   "outputs": [
    {
     "name": "stderr",
     "output_type": "stream",
     "text": [
      "C:\\Users\\Sai\\AppData\\Local\\Temp\\ipykernel_22828\\1399143361.py:1: FutureWarning: ['embarked', 'class', 'who', 'deck', 'embark_town', 'alive'] did not aggregate successfully. If any error is raised this will raise in a future version of pandas. Drop these columns/ops to avoid this warning.\n",
      "  grouped=df.groupby(['pclass','sex']).agg(['min','max','mean','sum'])\n"
     ]
    },
    {
     "data": {
      "text/html": [
       "<div>\n",
       "<style scoped>\n",
       "    .dataframe tbody tr th:only-of-type {\n",
       "        vertical-align: middle;\n",
       "    }\n",
       "\n",
       "    .dataframe tbody tr th {\n",
       "        vertical-align: top;\n",
       "    }\n",
       "\n",
       "    .dataframe thead tr th {\n",
       "        text-align: left;\n",
       "    }\n",
       "\n",
       "    .dataframe thead tr:last-of-type th {\n",
       "        text-align: right;\n",
       "    }\n",
       "</style>\n",
       "<table border=\"1\" class=\"dataframe\">\n",
       "  <thead>\n",
       "    <tr>\n",
       "      <th></th>\n",
       "      <th></th>\n",
       "      <th colspan=\"4\" halign=\"left\">survived</th>\n",
       "      <th colspan=\"4\" halign=\"left\">age</th>\n",
       "      <th colspan=\"2\" halign=\"left\">sibsp</th>\n",
       "      <th>...</th>\n",
       "      <th colspan=\"2\" halign=\"left\">fare</th>\n",
       "      <th colspan=\"4\" halign=\"left\">adult_male</th>\n",
       "      <th colspan=\"4\" halign=\"left\">alone</th>\n",
       "    </tr>\n",
       "    <tr>\n",
       "      <th></th>\n",
       "      <th></th>\n",
       "      <th>min</th>\n",
       "      <th>max</th>\n",
       "      <th>mean</th>\n",
       "      <th>sum</th>\n",
       "      <th>min</th>\n",
       "      <th>max</th>\n",
       "      <th>mean</th>\n",
       "      <th>sum</th>\n",
       "      <th>min</th>\n",
       "      <th>max</th>\n",
       "      <th>...</th>\n",
       "      <th>mean</th>\n",
       "      <th>sum</th>\n",
       "      <th>min</th>\n",
       "      <th>max</th>\n",
       "      <th>mean</th>\n",
       "      <th>sum</th>\n",
       "      <th>min</th>\n",
       "      <th>max</th>\n",
       "      <th>mean</th>\n",
       "      <th>sum</th>\n",
       "    </tr>\n",
       "    <tr>\n",
       "      <th>pclass</th>\n",
       "      <th>sex</th>\n",
       "      <th></th>\n",
       "      <th></th>\n",
       "      <th></th>\n",
       "      <th></th>\n",
       "      <th></th>\n",
       "      <th></th>\n",
       "      <th></th>\n",
       "      <th></th>\n",
       "      <th></th>\n",
       "      <th></th>\n",
       "      <th></th>\n",
       "      <th></th>\n",
       "      <th></th>\n",
       "      <th></th>\n",
       "      <th></th>\n",
       "      <th></th>\n",
       "      <th></th>\n",
       "      <th></th>\n",
       "      <th></th>\n",
       "      <th></th>\n",
       "      <th></th>\n",
       "    </tr>\n",
       "  </thead>\n",
       "  <tbody>\n",
       "    <tr>\n",
       "      <th rowspan=\"2\" valign=\"top\">1</th>\n",
       "      <th>female</th>\n",
       "      <td>0</td>\n",
       "      <td>1</td>\n",
       "      <td>0.968085</td>\n",
       "      <td>91</td>\n",
       "      <td>2.00</td>\n",
       "      <td>63.0</td>\n",
       "      <td>34.611765</td>\n",
       "      <td>2942.00</td>\n",
       "      <td>0</td>\n",
       "      <td>3</td>\n",
       "      <td>...</td>\n",
       "      <td>106.125798</td>\n",
       "      <td>9975.8250</td>\n",
       "      <td>False</td>\n",
       "      <td>False</td>\n",
       "      <td>0.000000</td>\n",
       "      <td>0</td>\n",
       "      <td>False</td>\n",
       "      <td>True</td>\n",
       "      <td>0.361702</td>\n",
       "      <td>34</td>\n",
       "    </tr>\n",
       "    <tr>\n",
       "      <th>male</th>\n",
       "      <td>0</td>\n",
       "      <td>1</td>\n",
       "      <td>0.368852</td>\n",
       "      <td>45</td>\n",
       "      <td>0.92</td>\n",
       "      <td>80.0</td>\n",
       "      <td>41.281386</td>\n",
       "      <td>4169.42</td>\n",
       "      <td>0</td>\n",
       "      <td>3</td>\n",
       "      <td>...</td>\n",
       "      <td>67.226127</td>\n",
       "      <td>8201.5875</td>\n",
       "      <td>False</td>\n",
       "      <td>True</td>\n",
       "      <td>0.975410</td>\n",
       "      <td>119</td>\n",
       "      <td>False</td>\n",
       "      <td>True</td>\n",
       "      <td>0.614754</td>\n",
       "      <td>75</td>\n",
       "    </tr>\n",
       "    <tr>\n",
       "      <th rowspan=\"2\" valign=\"top\">2</th>\n",
       "      <th>female</th>\n",
       "      <td>0</td>\n",
       "      <td>1</td>\n",
       "      <td>0.921053</td>\n",
       "      <td>70</td>\n",
       "      <td>2.00</td>\n",
       "      <td>57.0</td>\n",
       "      <td>28.722973</td>\n",
       "      <td>2125.50</td>\n",
       "      <td>0</td>\n",
       "      <td>3</td>\n",
       "      <td>...</td>\n",
       "      <td>21.970121</td>\n",
       "      <td>1669.7292</td>\n",
       "      <td>False</td>\n",
       "      <td>False</td>\n",
       "      <td>0.000000</td>\n",
       "      <td>0</td>\n",
       "      <td>False</td>\n",
       "      <td>True</td>\n",
       "      <td>0.421053</td>\n",
       "      <td>32</td>\n",
       "    </tr>\n",
       "    <tr>\n",
       "      <th>male</th>\n",
       "      <td>0</td>\n",
       "      <td>1</td>\n",
       "      <td>0.157407</td>\n",
       "      <td>17</td>\n",
       "      <td>0.67</td>\n",
       "      <td>70.0</td>\n",
       "      <td>30.740707</td>\n",
       "      <td>3043.33</td>\n",
       "      <td>0</td>\n",
       "      <td>2</td>\n",
       "      <td>...</td>\n",
       "      <td>19.741782</td>\n",
       "      <td>2132.1125</td>\n",
       "      <td>False</td>\n",
       "      <td>True</td>\n",
       "      <td>0.916667</td>\n",
       "      <td>99</td>\n",
       "      <td>False</td>\n",
       "      <td>True</td>\n",
       "      <td>0.666667</td>\n",
       "      <td>72</td>\n",
       "    </tr>\n",
       "    <tr>\n",
       "      <th rowspan=\"2\" valign=\"top\">3</th>\n",
       "      <th>female</th>\n",
       "      <td>0</td>\n",
       "      <td>1</td>\n",
       "      <td>0.500000</td>\n",
       "      <td>72</td>\n",
       "      <td>0.75</td>\n",
       "      <td>63.0</td>\n",
       "      <td>21.750000</td>\n",
       "      <td>2218.50</td>\n",
       "      <td>0</td>\n",
       "      <td>8</td>\n",
       "      <td>...</td>\n",
       "      <td>16.118810</td>\n",
       "      <td>2321.1086</td>\n",
       "      <td>False</td>\n",
       "      <td>False</td>\n",
       "      <td>0.000000</td>\n",
       "      <td>0</td>\n",
       "      <td>False</td>\n",
       "      <td>True</td>\n",
       "      <td>0.416667</td>\n",
       "      <td>60</td>\n",
       "    </tr>\n",
       "    <tr>\n",
       "      <th>male</th>\n",
       "      <td>0</td>\n",
       "      <td>1</td>\n",
       "      <td>0.135447</td>\n",
       "      <td>47</td>\n",
       "      <td>0.42</td>\n",
       "      <td>74.0</td>\n",
       "      <td>26.507589</td>\n",
       "      <td>6706.42</td>\n",
       "      <td>0</td>\n",
       "      <td>8</td>\n",
       "      <td>...</td>\n",
       "      <td>12.661633</td>\n",
       "      <td>4393.5865</td>\n",
       "      <td>False</td>\n",
       "      <td>True</td>\n",
       "      <td>0.919308</td>\n",
       "      <td>319</td>\n",
       "      <td>False</td>\n",
       "      <td>True</td>\n",
       "      <td>0.760807</td>\n",
       "      <td>264</td>\n",
       "    </tr>\n",
       "  </tbody>\n",
       "</table>\n",
       "<p>6 rows × 28 columns</p>\n",
       "</div>"
      ],
      "text/plain": [
       "              survived                     age                            \\\n",
       "                   min max      mean sum   min   max       mean      sum   \n",
       "pclass sex                                                                 \n",
       "1      female        0   1  0.968085  91  2.00  63.0  34.611765  2942.00   \n",
       "       male          0   1  0.368852  45  0.92  80.0  41.281386  4169.42   \n",
       "2      female        0   1  0.921053  70  2.00  57.0  28.722973  2125.50   \n",
       "       male          0   1  0.157407  17  0.67  70.0  30.740707  3043.33   \n",
       "3      female        0   1  0.500000  72  0.75  63.0  21.750000  2218.50   \n",
       "       male          0   1  0.135447  47  0.42  74.0  26.507589  6706.42   \n",
       "\n",
       "              sibsp      ...        fare            adult_male         \\\n",
       "                min max  ...        mean        sum        min    max   \n",
       "pclass sex               ...                                            \n",
       "1      female     0   3  ...  106.125798  9975.8250      False  False   \n",
       "       male       0   3  ...   67.226127  8201.5875      False   True   \n",
       "2      female     0   3  ...   21.970121  1669.7292      False  False   \n",
       "       male       0   2  ...   19.741782  2132.1125      False   True   \n",
       "3      female     0   8  ...   16.118810  2321.1086      False  False   \n",
       "       male       0   8  ...   12.661633  4393.5865      False   True   \n",
       "\n",
       "                              alone                       \n",
       "                   mean  sum    min   max      mean  sum  \n",
       "pclass sex                                                \n",
       "1      female  0.000000    0  False  True  0.361702   34  \n",
       "       male    0.975410  119  False  True  0.614754   75  \n",
       "2      female  0.000000    0  False  True  0.421053   32  \n",
       "       male    0.916667   99  False  True  0.666667   72  \n",
       "3      female  0.000000    0  False  True  0.416667   60  \n",
       "       male    0.919308  319  False  True  0.760807  264  \n",
       "\n",
       "[6 rows x 28 columns]"
      ]
     },
     "execution_count": 26,
     "metadata": {},
     "output_type": "execute_result"
    }
   ],
   "source": [
    "grouped=df.groupby(['pclass','sex']).agg(['min','max','mean','sum'])\n",
    "grouped"
   ]
  },
  {
   "cell_type": "code",
   "execution_count": 27,
   "metadata": {},
   "outputs": [
    {
     "data": {
      "text/html": [
       "<div>\n",
       "<style scoped>\n",
       "    .dataframe tbody tr th:only-of-type {\n",
       "        vertical-align: middle;\n",
       "    }\n",
       "\n",
       "    .dataframe tbody tr th {\n",
       "        vertical-align: top;\n",
       "    }\n",
       "\n",
       "    .dataframe thead th {\n",
       "        text-align: right;\n",
       "    }\n",
       "</style>\n",
       "<table border=\"1\" class=\"dataframe\">\n",
       "  <thead>\n",
       "    <tr style=\"text-align: right;\">\n",
       "      <th></th>\n",
       "      <th></th>\n",
       "      <th>min</th>\n",
       "      <th>max</th>\n",
       "      <th>mean</th>\n",
       "      <th>sum</th>\n",
       "    </tr>\n",
       "    <tr>\n",
       "      <th>pclass</th>\n",
       "      <th>sex</th>\n",
       "      <th></th>\n",
       "      <th></th>\n",
       "      <th></th>\n",
       "      <th></th>\n",
       "    </tr>\n",
       "  </thead>\n",
       "  <tbody>\n",
       "    <tr>\n",
       "      <th rowspan=\"2\" valign=\"top\">1</th>\n",
       "      <th>female</th>\n",
       "      <td>2.00</td>\n",
       "      <td>63.0</td>\n",
       "      <td>34.611765</td>\n",
       "      <td>2942.00</td>\n",
       "    </tr>\n",
       "    <tr>\n",
       "      <th>male</th>\n",
       "      <td>0.92</td>\n",
       "      <td>80.0</td>\n",
       "      <td>41.281386</td>\n",
       "      <td>4169.42</td>\n",
       "    </tr>\n",
       "    <tr>\n",
       "      <th rowspan=\"2\" valign=\"top\">2</th>\n",
       "      <th>female</th>\n",
       "      <td>2.00</td>\n",
       "      <td>57.0</td>\n",
       "      <td>28.722973</td>\n",
       "      <td>2125.50</td>\n",
       "    </tr>\n",
       "    <tr>\n",
       "      <th>male</th>\n",
       "      <td>0.67</td>\n",
       "      <td>70.0</td>\n",
       "      <td>30.740707</td>\n",
       "      <td>3043.33</td>\n",
       "    </tr>\n",
       "    <tr>\n",
       "      <th rowspan=\"2\" valign=\"top\">3</th>\n",
       "      <th>female</th>\n",
       "      <td>0.75</td>\n",
       "      <td>63.0</td>\n",
       "      <td>21.750000</td>\n",
       "      <td>2218.50</td>\n",
       "    </tr>\n",
       "    <tr>\n",
       "      <th>male</th>\n",
       "      <td>0.42</td>\n",
       "      <td>74.0</td>\n",
       "      <td>26.507589</td>\n",
       "      <td>6706.42</td>\n",
       "    </tr>\n",
       "  </tbody>\n",
       "</table>\n",
       "</div>"
      ],
      "text/plain": [
       "                min   max       mean      sum\n",
       "pclass sex                                   \n",
       "1      female  2.00  63.0  34.611765  2942.00\n",
       "       male    0.92  80.0  41.281386  4169.42\n",
       "2      female  2.00  57.0  28.722973  2125.50\n",
       "       male    0.67  70.0  30.740707  3043.33\n",
       "3      female  0.75  63.0  21.750000  2218.50\n",
       "       male    0.42  74.0  26.507589  6706.42"
      ]
     },
     "execution_count": 27,
     "metadata": {},
     "output_type": "execute_result"
    }
   ],
   "source": [
    "grouped['age']"
   ]
  },
  {
   "cell_type": "markdown",
   "metadata": {},
   "source": [
    "concat"
   ]
  },
  {
   "cell_type": "code",
   "execution_count": 32,
   "metadata": {},
   "outputs": [],
   "source": [
    "data_a = {'id' : ['1', '2', '3'],\n",
    "          'first' : ['Alex', 'Amy', 'Allen'],\n",
    "          'last' : ['Anderson', 'Ackerman', 'Ali']}\n",
    "\n",
    "dataframe_a = pd.DataFrame(data_a, columns = ['id', 'first', 'last'])\n",
    "data_b = {'id' : ['4', '5', '6'],\n",
    "          'first' : ['Billy', 'Brian', 'Brian'],\n",
    "          'last' : ['Bonder', 'Black', 'Balwner']}\n",
    "\n",
    "dataframe_b = pd.DataFrame(data_b, columns = ['id', 'first', 'last'])"
   ]
  },
  {
   "cell_type": "code",
   "execution_count": 33,
   "metadata": {},
   "outputs": [
    {
     "name": "stdout",
     "output_type": "stream",
     "text": [
      "  id  first      last\n",
      "0  1   Alex  Anderson\n",
      "1  2    Amy  Ackerman\n",
      "2  3  Allen       Ali\n",
      "\n",
      "  id  first     last\n",
      "0  4  Billy   Bonder\n",
      "1  5  Brian    Black\n",
      "2  6  Brian  Balwner\n"
     ]
    }
   ],
   "source": [
    "print(dataframe_a,dataframe_b,sep='\\n\\n')"
   ]
  },
  {
   "cell_type": "code",
   "execution_count": 35,
   "metadata": {},
   "outputs": [
    {
     "data": {
      "text/html": [
       "<div>\n",
       "<style scoped>\n",
       "    .dataframe tbody tr th:only-of-type {\n",
       "        vertical-align: middle;\n",
       "    }\n",
       "\n",
       "    .dataframe tbody tr th {\n",
       "        vertical-align: top;\n",
       "    }\n",
       "\n",
       "    .dataframe thead th {\n",
       "        text-align: right;\n",
       "    }\n",
       "</style>\n",
       "<table border=\"1\" class=\"dataframe\">\n",
       "  <thead>\n",
       "    <tr style=\"text-align: right;\">\n",
       "      <th></th>\n",
       "      <th>id</th>\n",
       "      <th>first</th>\n",
       "      <th>last</th>\n",
       "    </tr>\n",
       "  </thead>\n",
       "  <tbody>\n",
       "    <tr>\n",
       "      <th>0</th>\n",
       "      <td>1</td>\n",
       "      <td>Alex</td>\n",
       "      <td>Anderson</td>\n",
       "    </tr>\n",
       "    <tr>\n",
       "      <th>1</th>\n",
       "      <td>2</td>\n",
       "      <td>Amy</td>\n",
       "      <td>Ackerman</td>\n",
       "    </tr>\n",
       "    <tr>\n",
       "      <th>2</th>\n",
       "      <td>3</td>\n",
       "      <td>Allen</td>\n",
       "      <td>Ali</td>\n",
       "    </tr>\n",
       "    <tr>\n",
       "      <th>0</th>\n",
       "      <td>4</td>\n",
       "      <td>Billy</td>\n",
       "      <td>Bonder</td>\n",
       "    </tr>\n",
       "    <tr>\n",
       "      <th>1</th>\n",
       "      <td>5</td>\n",
       "      <td>Brian</td>\n",
       "      <td>Black</td>\n",
       "    </tr>\n",
       "    <tr>\n",
       "      <th>2</th>\n",
       "      <td>6</td>\n",
       "      <td>Brian</td>\n",
       "      <td>Balwner</td>\n",
       "    </tr>\n",
       "  </tbody>\n",
       "</table>\n",
       "</div>"
      ],
      "text/plain": [
       "  id  first      last\n",
       "0  1   Alex  Anderson\n",
       "1  2    Amy  Ackerman\n",
       "2  3  Allen       Ali\n",
       "0  4  Billy    Bonder\n",
       "1  5  Brian     Black\n",
       "2  6  Brian   Balwner"
      ]
     },
     "execution_count": 35,
     "metadata": {},
     "output_type": "execute_result"
    }
   ],
   "source": [
    "pd.concat([dataframe_a, dataframe_b])"
   ]
  },
  {
   "cell_type": "code",
   "execution_count": 36,
   "metadata": {},
   "outputs": [
    {
     "data": {
      "text/html": [
       "<div>\n",
       "<style scoped>\n",
       "    .dataframe tbody tr th:only-of-type {\n",
       "        vertical-align: middle;\n",
       "    }\n",
       "\n",
       "    .dataframe tbody tr th {\n",
       "        vertical-align: top;\n",
       "    }\n",
       "\n",
       "    .dataframe thead th {\n",
       "        text-align: right;\n",
       "    }\n",
       "</style>\n",
       "<table border=\"1\" class=\"dataframe\">\n",
       "  <thead>\n",
       "    <tr style=\"text-align: right;\">\n",
       "      <th></th>\n",
       "      <th>id</th>\n",
       "      <th>first</th>\n",
       "      <th>last</th>\n",
       "    </tr>\n",
       "  </thead>\n",
       "  <tbody>\n",
       "    <tr>\n",
       "      <th>0</th>\n",
       "      <td>1</td>\n",
       "      <td>Alex</td>\n",
       "      <td>Anderson</td>\n",
       "    </tr>\n",
       "    <tr>\n",
       "      <th>1</th>\n",
       "      <td>2</td>\n",
       "      <td>Amy</td>\n",
       "      <td>Ackerman</td>\n",
       "    </tr>\n",
       "    <tr>\n",
       "      <th>2</th>\n",
       "      <td>3</td>\n",
       "      <td>Allen</td>\n",
       "      <td>Ali</td>\n",
       "    </tr>\n",
       "    <tr>\n",
       "      <th>0</th>\n",
       "      <td>4</td>\n",
       "      <td>Billy</td>\n",
       "      <td>Bonder</td>\n",
       "    </tr>\n",
       "    <tr>\n",
       "      <th>1</th>\n",
       "      <td>5</td>\n",
       "      <td>Brian</td>\n",
       "      <td>Black</td>\n",
       "    </tr>\n",
       "    <tr>\n",
       "      <th>2</th>\n",
       "      <td>6</td>\n",
       "      <td>Brian</td>\n",
       "      <td>Balwner</td>\n",
       "    </tr>\n",
       "  </tbody>\n",
       "</table>\n",
       "</div>"
      ],
      "text/plain": [
       "  id  first      last\n",
       "0  1   Alex  Anderson\n",
       "1  2    Amy  Ackerman\n",
       "2  3  Allen       Ali\n",
       "0  4  Billy    Bonder\n",
       "1  5  Brian     Black\n",
       "2  6  Brian   Balwner"
      ]
     },
     "execution_count": 36,
     "metadata": {},
     "output_type": "execute_result"
    }
   ],
   "source": [
    "pd.concat([dataframe_a, dataframe_b],axis=0)"
   ]
  },
  {
   "cell_type": "markdown",
   "metadata": {},
   "source": [
    "as you can see above , axis=0 is the default"
   ]
  },
  {
   "cell_type": "code",
   "execution_count": 37,
   "metadata": {},
   "outputs": [
    {
     "data": {
      "text/html": [
       "<div>\n",
       "<style scoped>\n",
       "    .dataframe tbody tr th:only-of-type {\n",
       "        vertical-align: middle;\n",
       "    }\n",
       "\n",
       "    .dataframe tbody tr th {\n",
       "        vertical-align: top;\n",
       "    }\n",
       "\n",
       "    .dataframe thead th {\n",
       "        text-align: right;\n",
       "    }\n",
       "</style>\n",
       "<table border=\"1\" class=\"dataframe\">\n",
       "  <thead>\n",
       "    <tr style=\"text-align: right;\">\n",
       "      <th></th>\n",
       "      <th>id</th>\n",
       "      <th>first</th>\n",
       "      <th>last</th>\n",
       "      <th>id</th>\n",
       "      <th>first</th>\n",
       "      <th>last</th>\n",
       "    </tr>\n",
       "  </thead>\n",
       "  <tbody>\n",
       "    <tr>\n",
       "      <th>0</th>\n",
       "      <td>1</td>\n",
       "      <td>Alex</td>\n",
       "      <td>Anderson</td>\n",
       "      <td>4</td>\n",
       "      <td>Billy</td>\n",
       "      <td>Bonder</td>\n",
       "    </tr>\n",
       "    <tr>\n",
       "      <th>1</th>\n",
       "      <td>2</td>\n",
       "      <td>Amy</td>\n",
       "      <td>Ackerman</td>\n",
       "      <td>5</td>\n",
       "      <td>Brian</td>\n",
       "      <td>Black</td>\n",
       "    </tr>\n",
       "    <tr>\n",
       "      <th>2</th>\n",
       "      <td>3</td>\n",
       "      <td>Allen</td>\n",
       "      <td>Ali</td>\n",
       "      <td>6</td>\n",
       "      <td>Brian</td>\n",
       "      <td>Balwner</td>\n",
       "    </tr>\n",
       "  </tbody>\n",
       "</table>\n",
       "</div>"
      ],
      "text/plain": [
       "  id  first      last id  first     last\n",
       "0  1   Alex  Anderson  4  Billy   Bonder\n",
       "1  2    Amy  Ackerman  5  Brian    Black\n",
       "2  3  Allen       Ali  6  Brian  Balwner"
      ]
     },
     "execution_count": 37,
     "metadata": {},
     "output_type": "execute_result"
    }
   ],
   "source": [
    "pd.concat([dataframe_a, dataframe_b],axis=1)"
   ]
  },
  {
   "cell_type": "markdown",
   "metadata": {},
   "source": [
    "merging"
   ]
  },
  {
   "cell_type": "code",
   "execution_count": 2,
   "metadata": {},
   "outputs": [
    {
     "name": "stdout",
     "output_type": "stream",
     "text": [
      "  employee_id         name\n",
      "0           1    Amy Jones\n",
      "1           2   Allen Keys\n",
      "2           3   Alice Bees\n",
      "3           4  Tim Hortons\n",
      "\n",
      "  id  total_sales\n",
      "0  3        23456\n",
      "1  4         2512\n",
      "2  5         2345\n",
      "3  6         1455\n"
     ]
    }
   ],
   "source": [
    "employee_data = {'employee_id' : ['1', '2', '3', '4'],\n",
    "                 'name' : ['Amy Jones', 'Allen Keys', 'Alice Bees' ,'Tim Hortons']}\n",
    "\n",
    "employee_df = pd.DataFrame(employee_data)\n",
    "\n",
    "sales_data = {'id' : ['3', '4', '5', '6'],\n",
    "              'total_sales' : [23456, 2512, 2345, 1455]}\n",
    "\n",
    "sales_df = pd.DataFrame(sales_data)    \n",
    "\n",
    "print(employee_df,sales_df,sep='\\n\\n')"
   ]
  },
  {
   "cell_type": "code",
   "execution_count": 15,
   "metadata": {},
   "outputs": [],
   "source": [
    "df2=pd.merge(employee_df,sales_df,left_on='employee_id',right_on='id',how='outer')"
   ]
  },
  {
   "cell_type": "code",
   "execution_count": 16,
   "metadata": {},
   "outputs": [
    {
     "data": {
      "text/html": [
       "<div>\n",
       "<style scoped>\n",
       "    .dataframe tbody tr th:only-of-type {\n",
       "        vertical-align: middle;\n",
       "    }\n",
       "\n",
       "    .dataframe tbody tr th {\n",
       "        vertical-align: top;\n",
       "    }\n",
       "\n",
       "    .dataframe thead th {\n",
       "        text-align: right;\n",
       "    }\n",
       "</style>\n",
       "<table border=\"1\" class=\"dataframe\">\n",
       "  <thead>\n",
       "    <tr style=\"text-align: right;\">\n",
       "      <th></th>\n",
       "      <th>employee_id</th>\n",
       "      <th>name</th>\n",
       "      <th>id</th>\n",
       "      <th>total_sales</th>\n",
       "    </tr>\n",
       "  </thead>\n",
       "  <tbody>\n",
       "    <tr>\n",
       "      <th>0</th>\n",
       "      <td>1</td>\n",
       "      <td>Amy Jones</td>\n",
       "      <td>NaN</td>\n",
       "      <td>NaN</td>\n",
       "    </tr>\n",
       "    <tr>\n",
       "      <th>1</th>\n",
       "      <td>2</td>\n",
       "      <td>Allen Keys</td>\n",
       "      <td>NaN</td>\n",
       "      <td>NaN</td>\n",
       "    </tr>\n",
       "    <tr>\n",
       "      <th>2</th>\n",
       "      <td>3</td>\n",
       "      <td>Alice Bees</td>\n",
       "      <td>3</td>\n",
       "      <td>23456.0</td>\n",
       "    </tr>\n",
       "    <tr>\n",
       "      <th>3</th>\n",
       "      <td>4</td>\n",
       "      <td>Tim Hortons</td>\n",
       "      <td>4</td>\n",
       "      <td>2512.0</td>\n",
       "    </tr>\n",
       "    <tr>\n",
       "      <th>4</th>\n",
       "      <td>NaN</td>\n",
       "      <td>NaN</td>\n",
       "      <td>5</td>\n",
       "      <td>2345.0</td>\n",
       "    </tr>\n",
       "    <tr>\n",
       "      <th>5</th>\n",
       "      <td>NaN</td>\n",
       "      <td>NaN</td>\n",
       "      <td>6</td>\n",
       "      <td>1455.0</td>\n",
       "    </tr>\n",
       "  </tbody>\n",
       "</table>\n",
       "</div>"
      ],
      "text/plain": [
       "  employee_id         name   id  total_sales\n",
       "0           1    Amy Jones  NaN          NaN\n",
       "1           2   Allen Keys  NaN          NaN\n",
       "2           3   Alice Bees    3      23456.0\n",
       "3           4  Tim Hortons    4       2512.0\n",
       "4         NaN          NaN    5       2345.0\n",
       "5         NaN          NaN    6       1455.0"
      ]
     },
     "execution_count": 16,
     "metadata": {},
     "output_type": "execute_result"
    }
   ],
   "source": [
    "df2"
   ]
  },
  {
   "cell_type": "code",
   "execution_count": 19,
   "metadata": {},
   "outputs": [
    {
     "data": {
      "text/plain": [
       "NaN    2\n",
       "1      1\n",
       "2      1\n",
       "3      1\n",
       "4      1\n",
       "Name: employee_id, dtype: int64"
      ]
     },
     "execution_count": 19,
     "metadata": {},
     "output_type": "execute_result"
    }
   ],
   "source": [
    "df2['employee_id'].value_counts(dropna=False)"
   ]
  },
  {
   "cell_type": "markdown",
   "metadata": {},
   "source": [
    "deleting dataframe"
   ]
  },
  {
   "cell_type": "code",
   "execution_count": 152,
   "metadata": {},
   "outputs": [],
   "source": [
    "del cross_df"
   ]
  },
  {
   "cell_type": "markdown",
   "metadata": {},
   "source": [
    "Regression with randomly generated data"
   ]
  },
  {
   "attachments": {
    "WhatsApp Image 2024-03-12 at 10.49.54_ebb37370.jpg": {
     "image/jpeg": "[encoded data removed]"
    }
   },
   "cell_type": "markdown",
   "metadata": {},
   "source": [
    "![WhatsApp Image 2024-03-12 at 10.49.54_ebb37370.jpg](<attachment:WhatsApp Image 2024-03-12 at 10.49.54_ebb37370.jpg>)"
   ]
  },
  {
   "cell_type": "code",
   "execution_count": 137,
   "metadata": {},
   "outputs": [
    {
     "name": "stdout",
     "output_type": "stream",
     "text": [
      "[[-1.11911540e+00 -8.90555584e-01  1.95607890e+00]\n",
      " [ 8.46160648e-01  3.15159392e-01 -8.59515941e-01]\n",
      " [ 5.82815214e-01  4.22137467e-02 -1.10061918e+00]\n",
      " [ 2.52832571e+00  9.01486892e-01 -2.48634778e-01]\n",
      " [ 1.25286816e+00 -7.54397941e-01  5.12929820e-01]\n",
      " [-2.26314243e-01  4.36689932e-02  1.33145711e+00]\n",
      " [-5.45774168e-01  2.44936865e+00 -1.98837863e-01]\n",
      " [-1.44411381e+00 -1.39649634e+00 -5.04465863e-01]\n",
      " [ 7.40556451e-01  1.69382433e-01 -9.53700602e-01]\n",
      " [-3.96753527e-01 -6.91660752e-01 -6.87172700e-01]\n",
      " [-2.67888080e-01 -9.35769434e-01  5.30355467e-01]\n",
      " [ 8.68886157e-01 -1.01745873e-01  7.50411640e-01]\n",
      " [ 8.09271010e-02 -1.11647002e+00 -1.86578994e-01]\n",
      " [ 1.61694960e+00  1.29101580e-01  5.02740882e-01]\n",
      " [-6.06998398e-01  4.29526140e-01  1.06222724e-01]\n",
      " [ 1.93752881e+00 -2.79308500e+00  3.66332015e-01]\n",
      " [ 3.13547720e-01 -1.27255876e+00  5.03184813e-01]\n",
      " [ 1.04444209e+00  8.10951673e-01 -4.00878192e-01]\n",
      " [-1.89636092e+00  2.19069973e+00 -6.46916688e-01]\n",
      " [ 1.23225307e+00 -1.44087602e+00 -2.54179868e-01]\n",
      " [-3.44987210e-01 -1.30572692e+00 -2.30839743e-01]\n",
      " [-7.61206901e-01  1.74481176e+00  3.19039096e-01]\n",
      " [ 2.76499305e-01  2.62467445e-01 -7.33271604e-01]\n",
      " [ 6.80069840e-01 -2.87307863e-01 -3.19801599e-01]\n",
      " [-4.34956683e-01  6.23362177e-01  1.40754000e+00]\n",
      " [ 4.65672984e-02  8.01861032e-01 -1.86569772e-01]\n",
      " [-4.43171931e-01  6.18539131e-01  1.81053491e+00]\n",
      " [-6.83727859e-01  9.00855949e-01 -1.22890226e-01]\n",
      " [-3.06204013e-01 -2.02220122e+00  8.27974643e-01]\n",
      " [-5.17094458e-01 -1.12201873e+00 -9.97026828e-01]\n",
      " [-1.91835552e-01  7.42044161e-01 -8.87628964e-01]\n",
      " [-2.96641152e-01  2.48799161e-01  4.95211324e-01]\n",
      " [ 2.34415698e-01 -1.11731035e+00  1.65980218e+00]\n",
      " [-1.85798186e+00  1.96710175e+00  1.23616403e+00]\n",
      " [-1.23312074e+00 -1.20464572e-01 -1.18231813e+00]\n",
      " [-1.76068856e+00 -1.33195167e+00 -1.65072127e+00]\n",
      " [-2.43483776e+00 -3.10116774e-01  1.03882460e+00]\n",
      " [ 1.46210794e+00 -2.49370375e-01 -2.06014071e+00]\n",
      " [-3.84054355e-01 -3.22417204e-01  1.13376944e+00]\n",
      " [ 4.88518147e-01 -2.98092835e-01 -7.55717130e-02]\n",
      " [ 9.21450069e-01  9.54250872e-02  6.07501958e-02]\n",
      " [ 5.93578523e-01  4.03491642e-01 -1.09491185e+00]\n",
      " [ 1.11105670e+00  1.90465871e+00  6.59049796e-01]\n",
      " [ 9.86335188e-01 -1.74703160e-01  2.13533901e-01]\n",
      " [ 8.65407629e-01 -1.07296862e+00 -2.30153870e+00]\n",
      " [-2.97361883e-01 -8.45080274e-02  4.17302005e-01]\n",
      " [ 7.62011180e-01  2.30094735e-01 -2.22328143e-01]\n",
      " [ 3.26145467e-02 -2.66218506e-01 -1.37311732e+00]\n",
      " [ 1.69245460e+00 -7.47158294e-01  5.08077548e-02]\n",
      " [ 9.01590721e-01  1.14472371e+00  5.02494339e-01]\n",
      " [-1.10447026e-01  1.29322588e+00 -6.17362064e-01]\n",
      " [-4.47128565e-01  6.98032034e-01  1.22450770e+00]\n",
      " [ 6.61020288e-01  2.01830179e-01  1.79215821e+00]\n",
      " [-6.11756414e-01  1.62434536e+00 -5.28171752e-01]\n",
      " [-1.31228341e+00  3.50545979e-01 -3.86955093e-02]\n",
      " [ 8.76168921e-01  1.60037069e-01  3.15634947e-01]\n",
      " [ 1.09402696e-01  1.55880554e+00 -1.21974440e+00]\n",
      " [-1.14251820e+00 -3.52249846e-01 -3.49342722e-01]\n",
      " [ 6.17203110e-01  1.20158952e-01  3.00170320e-01]\n",
      " [ 5.50537496e-01 -1.23005814e+00  7.92806866e-01]\n",
      " [-7.75161619e-01 -2.46169559e-02  1.27375593e+00]\n",
      " [ 2.05117344e+00 -1.04458938e+00  5.85662000e-01]\n",
      " [ 1.12141771e+00 -1.61577235e+00  4.08900538e-01]\n",
      " [-5.62305431e-01  8.24005618e-01  1.95487808e+00]\n",
      " [ 1.20205486e+00  1.34048197e-01  2.84748111e-01]\n",
      " [ 3.38011697e-01  1.62765075e+00 -1.19926803e+00]\n",
      " [ 1.16033857e+00 -7.31127037e-02  3.69492716e-01]\n",
      " [-8.61316361e-01 -1.39662042e+00  6.74711526e-01]\n",
      " [-3.10984978e-01 -4.98213564e-01 -1.89148284e-03]\n",
      " [-1.67419581e+00 -6.65754518e-01  8.25029824e-01]\n",
      " [ 6.02319280e-01 -1.62743834e+00  4.20282204e-01]\n",
      " [-6.71246131e-01 -8.45205641e-01 -1.26645989e-02]\n",
      " [-1.34267579e+00 -3.26499498e-01  1.11438298e+00]\n",
      " [ 2.85587325e-01  9.31102081e-01  8.85141164e-01]\n",
      " [-1.80920302e-01  8.63345318e-01 -6.03920628e-01]\n",
      " [ 1.86561391e-01 -2.00758069e-01  4.10051647e-01]\n",
      " [ 1.19008646e-01  1.98299720e-01 -6.70662286e-01]\n",
      " [ 1.37701210e-01  5.29465324e-01  7.78211279e-02]\n",
      " [-1.23685338e+00 -5.86523939e-01  8.75838928e-01]\n",
      " [ 1.90915485e-01 -6.36995647e-01  2.10025514e+00]\n",
      " [ 1.65275673e-02  2.11124755e-01  1.77187720e-01]\n",
      " [ 5.20576337e-01 -6.23530730e-01 -1.14434139e+00]\n",
      " [ 2.32494559e-01  6.18380262e-01  6.82551407e-01]\n",
      " [ 4.23494354e-01 -6.38730407e-01  7.73400683e-02]\n",
      " [-1.19054188e-01 -1.36444744e-01  1.74094083e-02]\n",
      " [ 7.95026094e-01 -1.52568032e+00 -3.74438319e-01]\n",
      " [ 1.21821271e-01  3.77563786e-01  1.12948391e+00]\n",
      " [ 5.86623191e-01 -2.08894233e-01  8.38983414e-01]\n",
      " [ 1.54335911e+00  8.36004719e-01  7.58805660e-01]\n",
      " [ 4.92336556e-01 -5.68244809e-02 -6.80678141e-01]\n",
      " [-7.81911683e-01  1.39984394e+00 -4.37508983e-01]\n",
      " [-8.77281519e-01  8.84908814e-01 -8.67787223e-01]\n",
      " [-1.72428208e-01 -1.09989127e+00 -8.77858418e-01]\n",
      " [ 1.51981682e+00  1.13162939e+00  2.18557541e+00]\n",
      " [ 1.85156417e-01  1.19891788e+00 -3.75284950e-01]\n",
      " [-9.55425262e-01  7.84770651e-01  5.85910431e-01]\n",
      " [ 2.40737092e-01  5.62761097e-01  2.80665077e-01]\n",
      " [-2.03394449e-01 -7.00398505e-01  2.42669441e-01]\n",
      " [ 4.35968568e-02 -3.43853676e-01 -6.20000844e-01]\n",
      " [ 4.41364444e-01  2.18697965e+00 -1.00155233e-01]]\n",
      "[-1.04439256e+02  6.31378200e+01  3.57606596e+01  1.86878803e+02\n",
      "  3.95268134e+01 -1.12321735e+01  7.64976566e+01 -1.45698167e+02\n",
      "  5.05541723e+01 -5.36390735e+01 -5.69318174e+01  4.60362622e+01\n",
      " -4.46307507e+01  9.97431896e+01 -1.63207115e+01 -1.07453234e+01\n",
      " -3.79996891e+01  9.65786941e+01 -1.34801081e+01  7.99212630e+00\n",
      " -7.77643084e+01  3.28339052e+01  2.76791237e+01  2.68550680e+01\n",
      "  2.25054343e+00  3.81428311e+01  1.55963072e+00  4.51424650e-02\n",
      " -1.07170071e+02 -7.96555334e+01  2.16345268e+01 -6.25743778e+00\n",
      " -3.57413352e+01 -2.11289592e+01 -7.70388970e+01 -1.61257183e+02\n",
      " -1.55308856e+02  7.40131107e+01 -3.65834879e+01  1.52382617e+01\n",
      "  5.78063296e+01  5.23516542e+01  1.48784231e+02  4.96428187e+01\n",
      "  2.91520981e+00 -2.10283412e+01  5.44848335e+01 -9.86752139e+00\n",
      "  6.54120911e+01  1.03020310e+02  5.07248558e+01  4.84234725e+00\n",
      "  4.73624085e+01  3.62021461e+01 -6.08286615e+01  5.80281116e+01\n",
      "  7.52468978e+01 -8.20123487e+01  4.12050140e+01 -2.23387786e+01\n",
      " -4.61694823e+01  7.31307613e+01 -6.18255170e+00  3.71074754e+00\n",
      "  7.58324422e+01  9.15845802e+01  6.42517880e+01 -1.11809468e+02\n",
      " -4.01024544e+01 -1.26787423e+02 -3.68876684e+01 -7.63881576e+01\n",
      " -9.25151430e+01  5.77549132e+01  2.76296831e+01  1.97840400e+00\n",
      "  1.56842235e+01  3.14056906e+01 -9.78513419e+01 -1.70458970e+01\n",
      "  1.02908993e+01  2.72145378e+00  4.08478468e+01 -3.59629528e+00\n",
      " -1.29534742e+01 -2.11835448e+01  2.37695552e+01  2.48855539e+01\n",
      "  1.26701685e+02  2.61220836e+01  1.63854861e+01 -1.19162118e+01\n",
      " -5.86327009e+01  1.38396299e+02  6.37489733e+01 -2.08860237e+01\n",
      "  3.88693792e+01 -4.27798714e+01 -1.26595464e+01  1.22312326e+02]\n",
      "[58.15774073 44.19042807  0.        ]\n"
     ]
    }
   ],
   "source": [
    "from sklearn.datasets import make_regression\n",
    "\n",
    "data_info_dict={\n",
    "    'n_samples':100,\n",
    "    'n_features': 3,\n",
    "    'n_informative':2,\n",
    "    'n_targets':1,\n",
    "    'noise':0.0,\n",
    "    'coef':True,\n",
    "    'random_state':1\n",
    "}\n",
    "\n",
    "feats,target,coeffs=make_regression(**data_info_dict)\n",
    "\n",
    "print(feats)\n",
    "print(target)\n",
    "print(coeffs)\n"
   ]
  },
  {
   "cell_type": "markdown",
   "metadata": {},
   "source": [
    "classification with randomly generated data"
   ]
  },
  {
   "cell_type": "code",
   "execution_count": 138,
   "metadata": {},
   "outputs": [
    {
     "name": "stdout",
     "output_type": "stream",
     "text": [
      "[[ 1.06354768e+00 -1.42632219e+00  1.02163151e+00]\n",
      " [ 2.31569771e-01  1.49535261e+00  3.32515785e-01]\n",
      " [ 1.59729509e-01  8.35335154e-01 -4.08695544e-01]\n",
      " [-7.06121328e-01 -1.03281003e+00  1.39477986e+00]\n",
      " [ 8.44490198e-01 -6.19971892e-01  1.08791124e+00]\n",
      " [ 5.59394552e-01 -1.45815378e+00  1.47602390e+00]\n",
      " [-2.34279989e+00 -8.62141541e-01 -7.02236503e-01]\n",
      " [-5.02301432e-01 -1.11266501e+00  9.94591165e-01]\n",
      " [ 9.18051403e-01 -1.31813097e+00  1.37672287e+00]\n",
      " [-6.37174666e-01  5.90888879e-01 -2.20412713e-01]\n",
      " [ 1.27505434e+00  1.81333214e+00 -1.76262615e-01]\n",
      " [-8.44318348e-02 -8.41896666e-01  1.27619816e+00]\n",
      " [ 1.17033878e+00 -2.50462535e-01  6.51088535e-02]\n",
      " [ 1.86526206e+00 -1.44673919e+00  5.82315275e-01]\n",
      " [-4.51512990e-01 -1.00104693e+00  1.42523865e+00]\n",
      " [-1.52227032e+00 -9.58868332e-01  9.82710762e-01]\n",
      " [-7.51474297e-01 -9.71645767e-01  9.59587901e-01]\n",
      " [ 9.79144440e-01 -3.36999556e-01  4.07143853e-01]\n",
      " [ 8.86706299e-01 -1.18285338e+00  1.49055825e+00]\n",
      " [-1.29255057e+00 -8.91797450e-01 -1.40785868e-01]\n",
      " [-1.78196613e+00 -8.84226984e-01  6.61826443e-01]\n",
      " [ 1.67813645e+00  3.12535456e-01  1.73399927e+00]\n",
      " [ 1.42343127e+00 -1.36055919e+00  1.18167125e+00]\n",
      " [-6.08273048e-01 -1.97911139e-03 -8.38638903e-01]\n",
      " [ 1.62503286e+00 -7.77760821e-02  6.49323627e-01]\n",
      " [-1.41111014e+00  9.34041094e-01 -1.26198687e+00]\n",
      " [-7.85218909e-01  1.47094549e+00  3.54287215e-01]\n",
      " [ 6.00410573e-01 -8.65605360e-01  9.94567937e-01]\n",
      " [-5.99810034e-01 -1.14365370e+00  1.62170864e+00]\n",
      " [-2.42158085e+00 -1.16929799e+00  2.71260488e-01]\n",
      " [ 1.29394198e-02 -3.03153730e-01  1.86106869e+00]\n",
      " [-1.96923251e+00 -1.40473916e+00  4.89942105e-01]\n",
      " [ 1.36771802e+00 -1.99718176e+00  1.97516758e+00]\n",
      " [ 1.42680420e-01 -1.40515165e+00  2.10428084e+00]\n",
      " [ 1.45157163e+00  6.25663673e-01  1.84912249e+00]\n",
      " [ 1.14379942e+00 -1.03861696e+00  4.70762042e-01]\n",
      " [ 6.56204846e-01 -1.07959994e+00  1.18158608e+00]\n",
      " [ 8.34747298e-01 -1.72715339e+00  2.53452735e+00]\n",
      " [ 8.97012252e-01 -1.13462882e+00  1.46713706e+00]\n",
      " [-7.50876328e-01  1.29774238e-02  8.41235764e-02]\n",
      " [ 2.18627490e+00 -7.72690725e-01  3.19723802e-01]\n",
      " [ 1.13016990e+00 -2.62653708e-01  1.12572143e+00]\n",
      " [-1.51627324e+00 -1.50779533e+00  1.99835804e-01]\n",
      " [ 5.50063828e-01 -2.05242820e+00  1.88342271e+00]\n",
      " [ 1.55545556e+00 -5.61950906e-01  4.42000299e-01]\n",
      " [ 6.46315964e-01 -4.54484253e-01  1.29521314e+00]\n",
      " [-8.17144515e-01 -7.43980740e-01  1.83296858e+00]\n",
      " [ 6.68106986e-01 -3.93472459e-01  1.87143851e+00]\n",
      " [ 8.70827366e-01 -1.27353458e+00  4.96468921e-01]\n",
      " [ 5.80652681e-01 -1.63444675e+00  1.85449968e+00]\n",
      " [-9.61253919e-01 -1.96732581e+00  1.43585626e+00]\n",
      " [ 1.12610823e+00 -6.24802320e-01  1.27124321e+00]\n",
      " [ 1.19902439e+00  7.18426566e-01  7.34912716e-01]\n",
      " [-4.91229422e-01 -7.92173445e-01  1.26436684e+00]\n",
      " [ 8.04844565e-02 -2.70380917e+00  2.41298744e+00]\n",
      " [-2.70999375e+00 -1.68896656e+00  6.72376419e-01]\n",
      " [ 1.30254895e+00 -1.29297524e-02  5.61769368e-01]\n",
      " [-2.33686970e+00  6.82795463e-01 -2.00692730e+00]\n",
      " [-1.73782517e+00  2.13690514e+00 -2.16243270e+00]\n",
      " [ 1.18385411e+00 -1.62250860e+00  1.03400066e+00]\n",
      " [-3.17244517e-01 -5.21746509e-01  1.63865326e+00]\n",
      " [-1.77253752e+00 -1.21398001e+00  6.36577955e-01]\n",
      " [ 1.39394227e+00  6.52211049e-01  1.95513822e+00]\n",
      " [-1.01100072e-01 -1.24258559e+00  1.16293046e+00]\n",
      " [-2.33275215e-01 -1.27428253e+00  1.42113022e+00]\n",
      " [ 1.41088304e+00 -8.67906157e-02  4.55987299e-01]\n",
      " [-1.65421331e+00 -2.00472045e-01 -4.77938179e-02]\n",
      " [ 1.05180063e+00 -1.94786850e+00  1.53751741e+00]\n",
      " [ 1.27294546e-01  1.96878830e+00  2.13708226e-01]\n",
      " [ 6.36248267e-01 -1.12533943e+00  1.68321341e+00]\n",
      " [ 1.07722483e+00  2.38861398e+00 -5.85568008e-01]\n",
      " [-6.47509455e-01 -6.86416167e-01  6.49068078e-01]\n",
      " [-9.56385637e-02 -7.84608945e-01  7.08673483e-01]\n",
      " [-3.79657225e-01  1.42529169e+00 -5.50634976e-01]\n",
      " [ 1.64950863e+00 -6.95010397e-01  4.62138607e-01]\n",
      " [ 1.41857094e+00 -4.95259665e-01  2.01068112e+00]\n",
      " [-8.40552567e-01 -4.74231865e-01  1.03450742e+00]\n",
      " [-2.58501280e+00 -1.49017798e+00  1.46526730e-01]\n",
      " [ 1.39718477e+00 -4.16943750e-01  9.15714993e-01]\n",
      " [ 1.58507927e+00 -4.19350912e-01  2.23623681e-01]\n",
      " [-1.15756869e+00 -1.26592565e+00  1.45523297e+00]\n",
      " [-2.50510046e-01 -5.55087346e-02  1.21318284e+00]\n",
      " [-2.09578348e+00 -1.70342966e+00  1.15280824e+00]\n",
      " [ 9.93521344e-01 -1.24676718e+00  1.52541126e+00]\n",
      " [-1.07568849e+00  1.77241160e-02  3.07719573e-01]\n",
      " [ 1.45085006e+00 -1.60853230e+00  1.07534504e+00]\n",
      " [-1.50578912e+00  7.17757879e-01 -1.14772203e+00]\n",
      " [-2.05138559e+00  5.32160696e-01 -2.01013229e-01]\n",
      " [ 1.39206480e+00  2.03488471e-01  1.80784740e-01]\n",
      " [ 1.97371644e-01  1.24901942e+00  1.58570711e+00]\n",
      " [-8.86532754e-01 -1.58356865e+00  2.09202902e+00]\n",
      " [ 1.15542253e-03 -4.39315891e-01  8.15908401e-01]\n",
      " [ 8.74065083e-02  2.25918566e+00  1.89187657e+00]\n",
      " [ 1.35998713e+00 -8.16312669e-01  4.43161822e-01]\n",
      " [ 1.13310429e+00  3.55571042e-01  2.25386712e+00]\n",
      " [ 1.10641096e+00 -1.61551585e+00  1.60329579e+00]\n",
      " [-2.43862320e+00 -1.78462959e+00  5.00375675e-01]\n",
      " [-1.30468982e+00 -1.65292563e+00  9.92339722e-01]\n",
      " [ 1.19020761e+00 -9.61064243e-01  2.92125104e-01]\n",
      " [-1.08804668e+00  8.28037776e-01 -5.66882363e-01]]\n",
      "[1 0 0 1 1 1 0 1 1 0 0 1 1 1 1 1 1 1 1 0 1 0 1 0 0 0 0 1 1 1 1 1 1 1 1 1 1\n",
      " 1 1 1 1 1 1 1 1 1 1 1 1 1 1 1 0 1 1 1 1 0 0 1 1 1 0 1 1 1 1 1 0 1 0 1 1 0\n",
      " 1 0 1 1 1 1 1 1 1 1 1 1 0 0 1 0 1 1 0 1 0 1 1 1 1 0]\n"
     ]
    }
   ],
   "source": [
    "from sklearn.datasets import make_classification\n",
    "\n",
    "data_info_dict={\n",
    "    'n_samples':100,\n",
    "    'n_features': 3,\n",
    "    'n_informative':3,\n",
    "    'n_redundant':0,\n",
    "    'n_classes':2,\n",
    "    'weights':[.25,.75],\n",
    "    'random_state':1\n",
    "}\n",
    "\n",
    "feats,target=make_classification(**data_info_dict)\n",
    "\n",
    "print(feats)\n",
    "print(target)"
   ]
  },
  {
   "cell_type": "code",
   "execution_count": 8,
   "metadata": {},
   "outputs": [
    {
     "name": "stdout",
     "output_type": "stream",
     "text": [
      "[[-7.94152277e-01  2.10495117e+00]\n",
      " [-9.15155186e+00 -4.81286449e+00]\n",
      " [-1.14418263e+01 -4.45781441e+00]\n",
      " [-9.76761777e+00 -3.19133737e+00]\n",
      " [-4.53655648e+00 -8.40186288e+00]\n",
      " [-6.26302115e+00 -8.10666081e+00]\n",
      " [-6.38481234e+00 -8.47302970e+00]\n",
      " [-9.20490564e+00 -4.57687928e+00]\n",
      " [-2.76017908e+00  5.55121358e+00]\n",
      " [-1.17104176e+00  4.33091816e+00]\n",
      " [-1.00364080e+01 -5.56912090e+00]\n",
      " [-9.87589123e+00 -2.82386464e+00]\n",
      " [-7.17532921e+00 -8.77059017e+00]\n",
      " [-2.40671820e+00  6.09894447e+00]\n",
      " [-4.87418245e+00 -1.00495890e+01]\n",
      " [-6.07854700e+00 -7.93969420e+00]\n",
      " [-6.83238762e+00 -7.47067670e+00]\n",
      " [-2.34673261e+00  3.56128423e+00]\n",
      " [-1.03415662e+01 -3.90975169e+00]\n",
      " [-1.10926243e+01 -3.78396611e+00]\n",
      " [-6.50212109e+00 -7.91249101e+00]\n",
      " [-1.02639310e+01 -3.92073400e+00]\n",
      " [-6.81608302e+00 -8.44986926e+00]\n",
      " [-1.34052081e+00  4.15711949e+00]\n",
      " [-1.03729975e+01 -4.59207895e+00]\n",
      " [-7.37499896e+00 -1.05880659e+01]\n",
      " [-6.62351774e+00 -8.25338334e+00]\n",
      " [-1.35938959e+00  4.05424002e+00]\n",
      " [-1.97451969e-01  2.34634916e+00]\n",
      " [-6.54430585e+00 -9.29756949e+00]\n",
      " [-1.92744799e+00  4.93684534e+00]\n",
      " [-2.80207810e+00  4.05714715e+00]\n",
      " [-7.58197664e+00 -9.15025493e+00]\n",
      " [-1.85139546e+00  3.51886090e+00]\n",
      " [-8.37006175e+00 -3.61533685e+00]\n",
      " [-7.25145196e+00 -8.25497398e+00]\n",
      " [-8.79879462e+00 -3.76819213e+00]\n",
      " [-1.13708298e+01 -3.63818916e+00]\n",
      " [-1.01786328e+01 -4.55726918e+00]\n",
      " [-7.20132693e+00 -8.27228229e+00]\n",
      " [-6.78421711e+00 -8.22634081e+00]\n",
      " [-9.64716652e+00 -5.26563196e+00]\n",
      " [-1.98197711e+00  4.02243551e+00]\n",
      " [-1.12277706e+01 -3.40281105e+00]\n",
      " [-9.79941278e+00 -3.83433990e+00]\n",
      " [-6.53541686e+00 -8.01552689e+00]\n",
      " [-7.57969185e-01  4.90898421e+00]\n",
      " [ 5.26015501e-01  3.00999353e+00]\n",
      " [-2.77687025e+00  4.64090557e+00]\n",
      " [-1.78245013e+00  3.47072043e+00]\n",
      " [-1.02200406e+01 -4.15410662e+00]\n",
      " [-6.40583239e+00 -9.78066645e+00]\n",
      " [-6.98706106e+00 -7.53484784e+00]\n",
      " [-7.46576038e+00 -7.32922249e+00]\n",
      " [-1.53940095e+00  5.02369298e+00]\n",
      " [-6.56967086e+00 -8.32793126e+00]\n",
      " [-1.06177133e+01 -3.25531651e+00]\n",
      " [-8.72395657e+00 -1.98624680e+00]\n",
      " [-1.61734616e+00  4.98930508e+00]\n",
      " [-1.14663009e+00  4.10839703e+00]\n",
      " [-9.81115111e+00 -3.54329690e+00]\n",
      " [-7.71179887e+00 -7.25174121e+00]\n",
      " [-6.56169737e+00 -6.86000222e+00]\n",
      " [-1.00223295e+01 -4.72851017e+00]\n",
      " [-1.18556944e+01 -2.71718452e+00]\n",
      " [-5.73342507e+00 -8.44053597e+00]\n",
      " [-2.41395785e+00  5.65935802e+00]\n",
      " [-8.33744094e+00 -7.83968038e+00]\n",
      " [-1.83198811e+00  3.52863145e+00]\n",
      " [-9.57421815e+00 -3.87600848e+00]\n",
      " [-9.59422086e+00 -3.35977002e+00]\n",
      " [-9.25715605e+00 -4.90704915e+00]\n",
      " [-6.46256290e+00 -7.73294590e+00]\n",
      " [-8.20576492e-01  5.33759195e+00]\n",
      " [ 2.42271161e-04  5.14853403e+00]\n",
      " [-9.68207756e+00 -5.97554976e+00]\n",
      " [-6.19599603e+00 -7.40281646e+00]\n",
      " [-7.02121319e+00 -8.37954235e+00]\n",
      " [-2.18773166e+00  3.33352125e+00]\n",
      " [-1.04448411e+01 -2.72884084e+00]\n",
      " [-5.27930518e-01  5.92630669e+00]\n",
      " [-1.11969805e+01 -3.09000323e+00]\n",
      " [-9.83767543e+00 -3.07717963e+00]\n",
      " [-5.16022348e+00 -7.04217141e+00]\n",
      " [-2.35122066e+00  4.00973634e+00]\n",
      " [-5.25790464e-01  3.30659860e+00]\n",
      " [-1.46864442e+00  6.50674501e+00]\n",
      " [-7.58703957e-01  3.72276201e+00]\n",
      " [-1.03039165e+01 -3.12537390e+00]\n",
      " [-2.33080604e+00  4.39382527e+00]\n",
      " [-5.90454361e+00 -7.78373539e+00]\n",
      " [-1.60875215e+00  3.76949422e+00]\n",
      " [-1.86845414e+00  4.99311306e+00]\n",
      " [-1.06683748e+01 -3.57578476e+00]\n",
      " [-8.87629480e+00 -3.54444801e+00]\n",
      " [-6.02605758e+00 -5.96624846e+00]\n",
      " [-7.04747278e+00 -9.27524683e+00]\n",
      " [-1.37397258e+00  5.29163103e+00]\n",
      " [-6.25393051e+00 -7.10878601e+00]\n",
      " [ 8.52518583e-02  3.64528297e+00]]\n",
      "[0 1 1 1 2 2 2 1 0 0 1 1 2 0 2 2 2 0 1 1 2 1 2 0 1 2 2 0 0 2 0 0 2 0 1 2 1\n",
      " 1 1 2 2 1 0 1 1 2 0 0 0 0 1 2 2 2 0 2 1 1 0 0 1 2 2 1 1 2 0 2 0 1 1 1 2 0\n",
      " 0 1 2 2 0 1 0 1 1 2 0 0 0 0 1 0 2 0 0 1 1 2 2 0 2 0]\n"
     ]
    }
   ],
   "source": [
    "from sklearn.datasets import make_blobs\n",
    "\n",
    "data_info_dict={\n",
    "    'n_samples':100,\n",
    "    'centers':3,\n",
    "    'n_features':2,\n",
    "    'random_state':1\n",
    "}\n",
    "\n",
    "feats,cluster_id=make_blobs(**data_info_dict)\n",
    "print(feats)\n",
    "print(cluster_id)"
   ]
  },
  {
   "cell_type": "markdown",
   "metadata": {},
   "source": [
    "pandas misc"
   ]
  },
  {
   "cell_type": "code",
   "execution_count": 21,
   "metadata": {},
   "outputs": [
    {
     "data": {
      "text/html": [
       "<div>\n",
       "<style scoped>\n",
       "    .dataframe tbody tr th:only-of-type {\n",
       "        vertical-align: middle;\n",
       "    }\n",
       "\n",
       "    .dataframe tbody tr th {\n",
       "        vertical-align: top;\n",
       "    }\n",
       "\n",
       "    .dataframe thead th {\n",
       "        text-align: right;\n",
       "    }\n",
       "</style>\n",
       "<table border=\"1\" class=\"dataframe\">\n",
       "  <thead>\n",
       "    <tr style=\"text-align: right;\">\n",
       "      <th></th>\n",
       "      <th>LotArea</th>\n",
       "      <th>SalePrice</th>\n",
       "    </tr>\n",
       "  </thead>\n",
       "  <tbody>\n",
       "    <tr>\n",
       "      <th>0</th>\n",
       "      <td>8450</td>\n",
       "      <td>208500</td>\n",
       "    </tr>\n",
       "    <tr>\n",
       "      <th>1</th>\n",
       "      <td>9600</td>\n",
       "      <td>181500</td>\n",
       "    </tr>\n",
       "    <tr>\n",
       "      <th>2</th>\n",
       "      <td>11250</td>\n",
       "      <td>223500</td>\n",
       "    </tr>\n",
       "    <tr>\n",
       "      <th>3</th>\n",
       "      <td>9550</td>\n",
       "      <td>140000</td>\n",
       "    </tr>\n",
       "    <tr>\n",
       "      <th>4</th>\n",
       "      <td>14260</td>\n",
       "      <td>250000</td>\n",
       "    </tr>\n",
       "  </tbody>\n",
       "</table>\n",
       "</div>"
      ],
      "text/plain": [
       "   LotArea  SalePrice\n",
       "0     8450     208500\n",
       "1     9600     181500\n",
       "2    11250     223500\n",
       "3     9550     140000\n",
       "4    14260     250000"
      ]
     },
     "execution_count": 21,
     "metadata": {},
     "output_type": "execute_result"
    }
   ],
   "source": [
    "df=pd.read_csv('../Practice_File.csv')\n",
    "df=df[['LotArea','SalePrice']].copy()\n",
    "df.head()"
   ]
  },
  {
   "cell_type": "code",
   "execution_count": 23,
   "metadata": {},
   "outputs": [
    {
     "data": {
      "text/plain": [
       "array([[<Axes: title={'center': 'LotArea'}>,\n",
       "        <Axes: title={'center': 'SalePrice'}>]], dtype=object)"
      ]
     },
     "execution_count": 23,
     "metadata": {},
     "output_type": "execute_result"
    },
    {
     "data": {
      "image/png": "[encoded data removed]",
      "text/plain": [
       "<Figure size 640x480 with 2 Axes>"
      ]
     },
     "metadata": {},
     "output_type": "display_data"
    }
   ],
   "source": [
    "df.hist()"
   ]
  },
  {
   "cell_type": "code",
   "execution_count": 24,
   "metadata": {},
   "outputs": [
    {
     "data": {
      "text/plain": [
       "<Axes: >"
      ]
     },
     "execution_count": 24,
     "metadata": {},
     "output_type": "execute_result"
    },
    {
     "data": {
      "image/png": "[encoded data removed]",
      "text/plain": [
       "<Figure size 640x480 with 1 Axes>"
      ]
     },
     "metadata": {},
     "output_type": "display_data"
    }
   ],
   "source": [
    "df.boxplot()"
   ]
  },
  {
   "cell_type": "markdown",
   "metadata": {},
   "source": [
    "calculation  of upper and lower whisker \n",
    "- iqr=q3-q1\n",
    "- upperwhisker= q3+1.5*iqr\n",
    "- lower whisker= q1-1.5*iqr"
   ]
  },
  {
   "cell_type": "code",
   "execution_count": 34,
   "metadata": {},
   "outputs": [
    {
     "name": "stdout",
     "output_type": "stream",
     "text": [
      "q1:129975.0\n",
      "q3:214000.0\n",
      "IQR:84025.0\n",
      "[upperwhisker= q3+1.5*iqr][340037.5]\n",
      "[lower whisker= q1-1.5*iqr][3937.5]\n"
     ]
    },
    {
     "data": {
      "text/plain": [
       "count        61.000000\n",
       "mean     425954.180328\n",
       "std       89557.255611\n",
       "min      341000.000000\n",
       "25%      372500.000000\n",
       "50%      394617.000000\n",
       "75%      440000.000000\n",
       "max      755000.000000\n",
       "Name: SalePrice, dtype: float64"
      ]
     },
     "execution_count": 34,
     "metadata": {},
     "output_type": "execute_result"
    }
   ],
   "source": [
    "q1=df.SalePrice.quantile(0.25)\n",
    "q3=df.SalePrice.quantile(0.75)\n",
    "iqr=q3-q1\n",
    "upperwhisker= q3+1.5*iqr\n",
    "lowerwhisker= q1-1.5*iqr\n",
    "out_filt = (df.SalePrice>upperwhisker) | (df.SalePrice<lowerwhisker)\n",
    "print(f'q1:{q1}\\nq3:{q3}\\nIQR:{iqr}\\n[upperwhisker= q3+1.5*iqr][{upperwhisker}]\\n[lower whisker= q1-1.5*iqr][{lowerwhisker}]')\n",
    "df[out_filt]['SalePrice'].describe()"
   ]
  },
  {
   "cell_type": "code",
   "execution_count": 35,
   "metadata": {},
   "outputs": [
    {
     "data": {
      "text/html": [
       "<div>\n",
       "<style scoped>\n",
       "    .dataframe tbody tr th:only-of-type {\n",
       "        vertical-align: middle;\n",
       "    }\n",
       "\n",
       "    .dataframe tbody tr th {\n",
       "        vertical-align: top;\n",
       "    }\n",
       "\n",
       "    .dataframe thead th {\n",
       "        text-align: right;\n",
       "    }\n",
       "</style>\n",
       "<table border=\"1\" class=\"dataframe\">\n",
       "  <thead>\n",
       "    <tr style=\"text-align: right;\">\n",
       "      <th></th>\n",
       "      <th>LotArea</th>\n",
       "      <th>SalePrice</th>\n",
       "    </tr>\n",
       "  </thead>\n",
       "  <tbody>\n",
       "    <tr>\n",
       "      <th>count</th>\n",
       "      <td>0.0</td>\n",
       "      <td>0.0</td>\n",
       "    </tr>\n",
       "    <tr>\n",
       "      <th>mean</th>\n",
       "      <td>NaN</td>\n",
       "      <td>NaN</td>\n",
       "    </tr>\n",
       "    <tr>\n",
       "      <th>std</th>\n",
       "      <td>NaN</td>\n",
       "      <td>NaN</td>\n",
       "    </tr>\n",
       "    <tr>\n",
       "      <th>min</th>\n",
       "      <td>NaN</td>\n",
       "      <td>NaN</td>\n",
       "    </tr>\n",
       "    <tr>\n",
       "      <th>25%</th>\n",
       "      <td>NaN</td>\n",
       "      <td>NaN</td>\n",
       "    </tr>\n",
       "    <tr>\n",
       "      <th>50%</th>\n",
       "      <td>NaN</td>\n",
       "      <td>NaN</td>\n",
       "    </tr>\n",
       "    <tr>\n",
       "      <th>75%</th>\n",
       "      <td>NaN</td>\n",
       "      <td>NaN</td>\n",
       "    </tr>\n",
       "    <tr>\n",
       "      <th>max</th>\n",
       "      <td>NaN</td>\n",
       "      <td>NaN</td>\n",
       "    </tr>\n",
       "  </tbody>\n",
       "</table>\n",
       "</div>"
      ],
      "text/plain": [
       "       LotArea  SalePrice\n",
       "count      0.0        0.0\n",
       "mean       NaN        NaN\n",
       "std        NaN        NaN\n",
       "min        NaN        NaN\n",
       "25%        NaN        NaN\n",
       "50%        NaN        NaN\n",
       "75%        NaN        NaN\n",
       "max        NaN        NaN"
      ]
     },
     "execution_count": 35,
     "metadata": {},
     "output_type": "execute_result"
    }
   ],
   "source": [
    "df[df.SalePrice<lowerwhisker].describe()"
   ]
  },
  {
   "cell_type": "markdown",
   "metadata": {},
   "source": [
    "box plot `plt.boxplot(df.SalePrice,vert=False)`"
   ]
  },
  {
   "cell_type": "code",
   "execution_count": 39,
   "metadata": {},
   "outputs": [
    {
     "data": {
      "image/png": "[encoded data removed]",
      "text/plain": [
       "<Figure size 640x480 with 1 Axes>"
      ]
     },
     "metadata": {},
     "output_type": "display_data"
    }
   ],
   "source": [
    "import matplotlib.pyplot as plt\n",
    "plt.boxplot(df.SalePrice,vert=False)\n",
    "plt.show()"
   ]
  },
  {
   "cell_type": "markdown",
   "metadata": {},
   "source": [
    "scatter plot `plt.scatter(df.LotArea,df.SalePrice)`"
   ]
  },
  {
   "cell_type": "code",
   "execution_count": 38,
   "metadata": {},
   "outputs": [
    {
     "data": {
      "text/plain": [
       "Text(0, 0.5, 'Sales Price')"
      ]
     },
     "execution_count": 38,
     "metadata": {},
     "output_type": "execute_result"
    },
    {
     "data": {
      "image/png": "[encoded data removed]",
      "text/plain": [
       "<Figure size 640x480 with 1 Axes>"
      ]
     },
     "metadata": {},
     "output_type": "display_data"
    }
   ],
   "source": [
    "plt.scatter(df.LotArea,df.SalePrice)\n",
    "plt.xlabel('LotArea')\n",
    "plt.ylabel('Sales Price')"
   ]
  },
  {
   "cell_type": "markdown",
   "metadata": {},
   "source": [
    "# OUTLIER MANAGEMENT"
   ]
  },
  {
   "cell_type": "markdown",
   "metadata": {},
   "source": [
    "---\n",
    "---\n",
    "NUMPY   \n",
    "---\n",
    "---"
   ]
  },
  {
   "cell_type": "code",
   "execution_count": 51,
   "metadata": {},
   "outputs": [],
   "source": [
    "import numpy as np"
   ]
  },
  {
   "cell_type": "markdown",
   "metadata": {},
   "source": [
    "getting np array"
   ]
  },
  {
   "cell_type": "code",
   "execution_count": 52,
   "metadata": {},
   "outputs": [
    {
     "data": {
      "text/plain": [
       "array([1, 2, 3, 4, 5, 6, 3])"
      ]
     },
     "execution_count": 52,
     "metadata": {},
     "output_type": "execute_result"
    }
   ],
   "source": [
    "vec=np.array([1,2,3,4,5,6,3])\n",
    "vec"
   ]
  },
  {
   "cell_type": "markdown",
   "metadata": {},
   "source": [
    "finding the indixes of val 3"
   ]
  },
  {
   "cell_type": "code",
   "execution_count": 53,
   "metadata": {},
   "outputs": [
    {
     "data": {
      "text/plain": [
       "(array([2, 6], dtype=int64),)"
      ]
     },
     "execution_count": 53,
     "metadata": {},
     "output_type": "execute_result"
    }
   ],
   "source": [
    "np.where(vec==3)"
   ]
  },
  {
   "cell_type": "code",
   "execution_count": 54,
   "metadata": {},
   "outputs": [
    {
     "data": {
      "text/plain": [
       "array([2, 6], dtype=int64)"
      ]
     },
     "execution_count": 54,
     "metadata": {},
     "output_type": "execute_result"
    }
   ],
   "source": [
    "np.where(vec==3)[0]"
   ]
  },
  {
   "cell_type": "markdown",
   "metadata": {},
   "source": [
    "np.where"
   ]
  },
  {
   "cell_type": "code",
   "execution_count": 55,
   "metadata": {},
   "outputs": [
    {
     "data": {
      "text/html": [
       "<div>\n",
       "<style scoped>\n",
       "    .dataframe tbody tr th:only-of-type {\n",
       "        vertical-align: middle;\n",
       "    }\n",
       "\n",
       "    .dataframe tbody tr th {\n",
       "        vertical-align: top;\n",
       "    }\n",
       "\n",
       "    .dataframe thead th {\n",
       "        text-align: right;\n",
       "    }\n",
       "</style>\n",
       "<table border=\"1\" class=\"dataframe\">\n",
       "  <thead>\n",
       "    <tr style=\"text-align: right;\">\n",
       "      <th></th>\n",
       "      <th>Score</th>\n",
       "      <th>name</th>\n",
       "    </tr>\n",
       "  </thead>\n",
       "  <tbody>\n",
       "    <tr>\n",
       "      <th>0</th>\n",
       "      <td>90</td>\n",
       "      <td>a</td>\n",
       "    </tr>\n",
       "    <tr>\n",
       "      <th>1</th>\n",
       "      <td>85</td>\n",
       "      <td>b</td>\n",
       "    </tr>\n",
       "    <tr>\n",
       "      <th>2</th>\n",
       "      <td>99</td>\n",
       "      <td>c</td>\n",
       "    </tr>\n",
       "    <tr>\n",
       "      <th>3</th>\n",
       "      <td>45</td>\n",
       "      <td>d</td>\n",
       "    </tr>\n",
       "  </tbody>\n",
       "</table>\n",
       "</div>"
      ],
      "text/plain": [
       "   Score name\n",
       "0     90    a\n",
       "1     85    b\n",
       "2     99    c\n",
       "3     45    d"
      ]
     },
     "execution_count": 55,
     "metadata": {},
     "output_type": "execute_result"
    }
   ],
   "source": [
    "df=pd.DataFrame({\n",
    "    'Score':[90,85,99,45],\n",
    "    'name':['a','b','c','d']\n",
    "})\n",
    "df"
   ]
  },
  {
   "cell_type": "code",
   "execution_count": 56,
   "metadata": {},
   "outputs": [
    {
     "data": {
      "text/plain": [
       "array(['Pass', 'Pass', 'Pass', 'Fail'], dtype='<U4')"
      ]
     },
     "execution_count": 56,
     "metadata": {},
     "output_type": "execute_result"
    }
   ],
   "source": [
    "np.where(df['Score']>50,'Pass','Fail')"
   ]
  },
  {
   "cell_type": "markdown",
   "metadata": {},
   "source": [
    "---\n",
    "---\n",
    "# SQLITE\n",
    "---"
   ]
  },
  {
   "cell_type": "code",
   "execution_count": 139,
   "metadata": {},
   "outputs": [],
   "source": [
    "import sqlite3 as sq"
   ]
  },
  {
   "cell_type": "markdown",
   "metadata": {},
   "source": [
    "# create connection step #1"
   ]
  },
  {
   "cell_type": "code",
   "execution_count": 140,
   "metadata": {},
   "outputs": [],
   "source": [
    "con = sq.connect('dbdb')"
   ]
  },
  {
   "cell_type": "markdown",
   "metadata": {},
   "source": [
    "# Step 2 Create Cursor"
   ]
  },
  {
   "cell_type": "code",
   "execution_count": 141,
   "metadata": {},
   "outputs": [],
   "source": [
    "cur = con.cursor()"
   ]
  },
  {
   "cell_type": "markdown",
   "metadata": {},
   "source": [
    "# Create Table"
   ]
  },
  {
   "cell_type": "code",
   "execution_count": 142,
   "metadata": {},
   "outputs": [],
   "source": [
    "create_table = ''' \n",
    "CREATE TABLE movies (\n",
    "name string, \n",
    "imdb float,\n",
    "year date\n",
    ")\n",
    "'''"
   ]
  },
  {
   "cell_type": "code",
   "execution_count": 143,
   "metadata": {},
   "outputs": [
    {
     "data": {
      "text/plain": [
       "<sqlite3.Cursor at 0x23513511bc0>"
      ]
     },
     "execution_count": 143,
     "metadata": {},
     "output_type": "execute_result"
    }
   ],
   "source": [
    "cur.execute(create_table)"
   ]
  },
  {
   "cell_type": "markdown",
   "metadata": {},
   "source": [
    "# Step 3: Insert 1 value"
   ]
  },
  {
   "cell_type": "code",
   "execution_count": 144,
   "metadata": {},
   "outputs": [],
   "source": [
    "val=('Race 3', 3.2, '01/01/2069')"
   ]
  },
  {
   "cell_type": "markdown",
   "metadata": {},
   "source": [
    "Insert via query"
   ]
  },
  {
   "cell_type": "code",
   "execution_count": 145,
   "metadata": {},
   "outputs": [
    {
     "data": {
      "text/plain": [
       "\"INSERT INTO movies VALUES\\n('Race 3', 3.2, '01/01/2069') \\n\""
      ]
     },
     "execution_count": 145,
     "metadata": {},
     "output_type": "execute_result"
    }
   ],
   "source": [
    "insert = f'''INSERT INTO movies VALUES\n",
    "{val} \n",
    "'''\n",
    "insert"
   ]
  },
  {
   "cell_type": "code",
   "execution_count": 146,
   "metadata": {},
   "outputs": [
    {
     "data": {
      "text/plain": [
       "<sqlite3.Cursor at 0x23513511bc0>"
      ]
     },
     "execution_count": 146,
     "metadata": {},
     "output_type": "execute_result"
    }
   ],
   "source": [
    "cur.execute(insert)"
   ]
  },
  {
   "cell_type": "markdown",
   "metadata": {},
   "source": [
    "# Step 4: Fetch one record"
   ]
  },
  {
   "cell_type": "code",
   "execution_count": 147,
   "metadata": {},
   "outputs": [],
   "source": [
    "select = 'SELECT * from movies'"
   ]
  },
  {
   "cell_type": "code",
   "execution_count": 148,
   "metadata": {},
   "outputs": [
    {
     "data": {
      "text/plain": [
       "<sqlite3.Cursor at 0x23513511bc0>"
      ]
     },
     "execution_count": 148,
     "metadata": {},
     "output_type": "execute_result"
    }
   ],
   "source": [
    "cur.execute(select)"
   ]
  },
  {
   "cell_type": "code",
   "execution_count": 149,
   "metadata": {},
   "outputs": [],
   "source": [
    "res = cur.fetchone()"
   ]
  },
  {
   "cell_type": "code",
   "execution_count": 150,
   "metadata": {},
   "outputs": [
    {
     "data": {
      "text/plain": [
       "('Race 3', 3.2, '01/01/2069')"
      ]
     },
     "execution_count": 150,
     "metadata": {},
     "output_type": "execute_result"
    }
   ],
   "source": [
    "res"
   ]
  },
  {
   "cell_type": "markdown",
   "metadata": {},
   "source": [
    "##### Showing the iterative nature of fetchone()"
   ]
  },
  {
   "cell_type": "code",
   "execution_count": 151,
   "metadata": {},
   "outputs": [],
   "source": [
    "res = cur.fetchone()\n",
    "res"
   ]
  },
  {
   "cell_type": "markdown",
   "metadata": {},
   "source": [
    "returns nothing as it has only 1 record and it already returned that record, in order to return that 1st record, we neeed to execute the select statemnet again."
   ]
  },
  {
   "cell_type": "markdown",
   "metadata": {},
   "source": [
    "# Step 5: Inserting mulptiple values"
   ]
  },
  {
   "cell_type": "code",
   "execution_count": 152,
   "metadata": {},
   "outputs": [],
   "source": [
    "vals = [('50 Shades', 10, '20/02/2022'),\n",
    "        ('Conjuring', 2.3, '30/03/2021'),\n",
    "        ('Death Note', 5.4,'20/04/2011')]"
   ]
  },
  {
   "cell_type": "code",
   "execution_count": 153,
   "metadata": {},
   "outputs": [],
   "source": [
    "\n",
    "insert_q  = 'Insert into movies values (?,?,?)'"
   ]
  },
  {
   "cell_type": "code",
   "execution_count": 154,
   "metadata": {},
   "outputs": [
    {
     "data": {
      "text/plain": [
       "<sqlite3.Cursor at 0x23513511bc0>"
      ]
     },
     "execution_count": 154,
     "metadata": {},
     "output_type": "execute_result"
    }
   ],
   "source": [
    "cur.executemany(insert_q, vals)"
   ]
  },
  {
   "cell_type": "code",
   "execution_count": 155,
   "metadata": {},
   "outputs": [
    {
     "data": {
      "text/plain": [
       "<sqlite3.Cursor at 0x23513511bc0>"
      ]
     },
     "execution_count": 155,
     "metadata": {},
     "output_type": "execute_result"
    }
   ],
   "source": [
    "cur.execute(select)"
   ]
  },
  {
   "cell_type": "code",
   "execution_count": 156,
   "metadata": {},
   "outputs": [],
   "source": [
    "res = cur.fetchall()"
   ]
  },
  {
   "cell_type": "code",
   "execution_count": 157,
   "metadata": {},
   "outputs": [
    {
     "data": {
      "text/plain": [
       "[('Race 3', 3.2, '01/01/2069'),\n",
       " ('50 Shades', 10.0, '20/02/2022'),\n",
       " ('Conjuring', 2.3, '30/03/2021'),\n",
       " ('Death Note', 5.4, '20/04/2011')]"
      ]
     },
     "execution_count": 157,
     "metadata": {},
     "output_type": "execute_result"
    }
   ],
   "source": [
    "res"
   ]
  },
  {
   "cell_type": "markdown",
   "metadata": {},
   "source": [
    "# Step 6: iteratively accessing the records"
   ]
  },
  {
   "cell_type": "code",
   "execution_count": 158,
   "metadata": {},
   "outputs": [
    {
     "data": {
      "text/plain": [
       "<sqlite3.Cursor at 0x23513511bc0>"
      ]
     },
     "execution_count": 158,
     "metadata": {},
     "output_type": "execute_result"
    }
   ],
   "source": [
    "cur.execute(select)"
   ]
  },
  {
   "cell_type": "code",
   "execution_count": 159,
   "metadata": {},
   "outputs": [
    {
     "name": "stdout",
     "output_type": "stream",
     "text": [
      "('Race 3', 3.2, '01/01/2069')\n",
      "('50 Shades', 10.0, '20/02/2022')\n",
      "('Conjuring', 2.3, '30/03/2021')\n",
      "('Death Note', 5.4, '20/04/2011')\n"
     ]
    }
   ],
   "source": [
    "res = True\n",
    "while res:\n",
    "    res=cur.fetchone()\n",
    "    if res:\n",
    "        print(res)"
   ]
  },
  {
   "cell_type": "markdown",
   "metadata": {},
   "source": [
    "# Step 7: commit"
   ]
  },
  {
   "cell_type": "code",
   "execution_count": 160,
   "metadata": {},
   "outputs": [],
   "source": [
    "con.commit()"
   ]
  },
  {
   "cell_type": "markdown",
   "metadata": {},
   "source": [
    "# Step 8: Change the column name"
   ]
  },
  {
   "cell_type": "code",
   "execution_count": 161,
   "metadata": {},
   "outputs": [],
   "source": [
    "alter = 'ALTER TABLE movies RENAME COLUMN name TO movies_name '"
   ]
  },
  {
   "cell_type": "code",
   "execution_count": 162,
   "metadata": {},
   "outputs": [
    {
     "data": {
      "text/plain": [
       "<sqlite3.Cursor at 0x23513511bc0>"
      ]
     },
     "execution_count": 162,
     "metadata": {},
     "output_type": "execute_result"
    }
   ],
   "source": [
    "cur.execute(alter)"
   ]
  },
  {
   "cell_type": "code",
   "execution_count": 163,
   "metadata": {},
   "outputs": [
    {
     "data": {
      "text/plain": [
       "<sqlite3.Cursor at 0x23513511bc0>"
      ]
     },
     "execution_count": 163,
     "metadata": {},
     "output_type": "execute_result"
    }
   ],
   "source": [
    "cur.execute(select)"
   ]
  },
  {
   "cell_type": "markdown",
   "metadata": {},
   "source": [
    "# Step 9: rename table name"
   ]
  },
  {
   "cell_type": "code",
   "execution_count": 164,
   "metadata": {},
   "outputs": [],
   "source": [
    "rename = 'ALTER TABLE movies RENAME TO movie'"
   ]
  },
  {
   "cell_type": "code",
   "execution_count": 165,
   "metadata": {},
   "outputs": [
    {
     "data": {
      "text/plain": [
       "<sqlite3.Cursor at 0x23513511bc0>"
      ]
     },
     "execution_count": 165,
     "metadata": {},
     "output_type": "execute_result"
    }
   ],
   "source": [
    "cur.execute(rename)"
   ]
  },
  {
   "cell_type": "markdown",
   "metadata": {},
   "source": [
    "# Step 10: View the Tables avaiable in DB"
   ]
  },
  {
   "cell_type": "code",
   "execution_count": 166,
   "metadata": {},
   "outputs": [],
   "source": [
    "get_tables = \"SELECT * FROM sqlite_master\""
   ]
  },
  {
   "cell_type": "code",
   "execution_count": 167,
   "metadata": {},
   "outputs": [
    {
     "data": {
      "text/plain": [
       "<sqlite3.Cursor at 0x23513511bc0>"
      ]
     },
     "execution_count": 167,
     "metadata": {},
     "output_type": "execute_result"
    }
   ],
   "source": [
    "cur.execute(get_tables)"
   ]
  },
  {
   "cell_type": "code",
   "execution_count": 168,
   "metadata": {},
   "outputs": [
    {
     "name": "stdout",
     "output_type": "stream",
     "text": [
      "return value of the table: \n",
      " [('table', 'movie', 'movie', 2, 'CREATE TABLE \"movie\" (\\nmovies_name string, \\nimdb float,\\nyear date\\n)')]\n"
     ]
    }
   ],
   "source": [
    "rows = cur.fetchall()\n",
    "print('return value of the table: \\n',rows  )"
   ]
  },
  {
   "cell_type": "code",
   "execution_count": 169,
   "metadata": {},
   "outputs": [
    {
     "name": "stdout",
     "output_type": "stream",
     "text": [
      "Type: table # The type of the object (e.g., table, index)\n",
      "Name: movie # The name of the object\n",
      "Table Name: movie # The name of the table associated with the object\n",
      "Root Page: 2 # The root page number in the database file\n",
      "SQL: CREATE TABLE \"movie\" (\n",
      "movies_name string, \n",
      "imdb float,\n",
      "year date\n",
      ") # The SQL statement used to create the object\n",
      "--------------------------------------------------------------------------------\n"
     ]
    }
   ],
   "source": [
    "\n",
    "# Iterate over each row and print it with comments\n",
    "for row in rows:\n",
    "    type, name, tbl_name, rootpage, sql = row\n",
    "    print(f\"Type: {type} # The type of the object (e.g., table, index)\")\n",
    "    print(f\"Name: {name} # The name of the object\")\n",
    "    print(f\"Table Name: {tbl_name} # The name of the table associated with the object\")\n",
    "    print(f\"Root Page: {rootpage} # The root page number in the database file\")\n",
    "    print(f\"SQL: {sql} # The SQL statement used to create the object\")\n",
    "    print(\"-\" * 80)  # Separator for readability\n"
   ]
  },
  {
   "cell_type": "markdown",
   "metadata": {},
   "source": []
  },
  {
   "cell_type": "code",
   "execution_count": 170,
   "metadata": {},
   "outputs": [],
   "source": [
    "con.commit()"
   ]
  },
  {
   "cell_type": "markdown",
   "metadata": {},
   "source": [
    "# Step 10: Closing sql"
   ]
  },
  {
   "cell_type": "code",
   "execution_count": 171,
   "metadata": {},
   "outputs": [],
   "source": [
    "con.close()"
   ]
  },
  {
   "cell_type": "markdown",
   "metadata": {},
   "source": [
    "# Using the existing DB"
   ]
  },
  {
   "cell_type": "code",
   "execution_count": 172,
   "metadata": {},
   "outputs": [],
   "source": [
    "con2= sq.connect('dbdb')"
   ]
  },
  {
   "cell_type": "code",
   "execution_count": 173,
   "metadata": {},
   "outputs": [
    {
     "data": {
      "text/plain": [
       "[('Race 3', 3.2, '01/01/2069'),\n",
       " ('50 Shades', 10.0, '20/02/2022'),\n",
       " ('Conjuring', 2.3, '30/03/2021'),\n",
       " ('Death Note', 5.4, '20/04/2011')]"
      ]
     },
     "execution_count": 173,
     "metadata": {},
     "output_type": "execute_result"
    }
   ],
   "source": [
    "con2.execute('SELECT * FROM movie').fetchall()"
   ]
  },
  {
   "cell_type": "markdown",
   "metadata": {},
   "source": [
    "# Step 11: making DF"
   ]
  },
  {
   "cell_type": "code",
   "execution_count": 174,
   "metadata": {},
   "outputs": [],
   "source": [
    "import pandas as pd"
   ]
  },
  {
   "cell_type": "code",
   "execution_count": 175,
   "metadata": {},
   "outputs": [],
   "source": [
    "df = pd.read_sql_query('SELECT * FROM movie',con2)"
   ]
  },
  {
   "cell_type": "code",
   "execution_count": 176,
   "metadata": {},
   "outputs": [
    {
     "data": {
      "text/html": [
       "<div>\n",
       "<style scoped>\n",
       "    .dataframe tbody tr th:only-of-type {\n",
       "        vertical-align: middle;\n",
       "    }\n",
       "\n",
       "    .dataframe tbody tr th {\n",
       "        vertical-align: top;\n",
       "    }\n",
       "\n",
       "    .dataframe thead th {\n",
       "        text-align: right;\n",
       "    }\n",
       "</style>\n",
       "<table border=\"1\" class=\"dataframe\">\n",
       "  <thead>\n",
       "    <tr style=\"text-align: right;\">\n",
       "      <th></th>\n",
       "      <th>movies_name</th>\n",
       "      <th>imdb</th>\n",
       "      <th>year</th>\n",
       "    </tr>\n",
       "  </thead>\n",
       "  <tbody>\n",
       "    <tr>\n",
       "      <th>0</th>\n",
       "      <td>Race 3</td>\n",
       "      <td>3.2</td>\n",
       "      <td>01/01/2069</td>\n",
       "    </tr>\n",
       "    <tr>\n",
       "      <th>1</th>\n",
       "      <td>50 Shades</td>\n",
       "      <td>10.0</td>\n",
       "      <td>20/02/2022</td>\n",
       "    </tr>\n",
       "    <tr>\n",
       "      <th>2</th>\n",
       "      <td>Conjuring</td>\n",
       "      <td>2.3</td>\n",
       "      <td>30/03/2021</td>\n",
       "    </tr>\n",
       "    <tr>\n",
       "      <th>3</th>\n",
       "      <td>Death Note</td>\n",
       "      <td>5.4</td>\n",
       "      <td>20/04/2011</td>\n",
       "    </tr>\n",
       "  </tbody>\n",
       "</table>\n",
       "</div>"
      ],
      "text/plain": [
       "  movies_name  imdb        year\n",
       "0      Race 3   3.2  01/01/2069\n",
       "1   50 Shades  10.0  20/02/2022\n",
       "2   Conjuring   2.3  30/03/2021\n",
       "3  Death Note   5.4  20/04/2011"
      ]
     },
     "execution_count": 176,
     "metadata": {},
     "output_type": "execute_result"
    }
   ],
   "source": [
    "df"
   ]
  },
  {
   "cell_type": "markdown",
   "metadata": {},
   "source": [
    "# DROPPING THE TABLE"
   ]
  },
  {
   "cell_type": "code",
   "execution_count": 177,
   "metadata": {},
   "outputs": [],
   "source": [
    "drop = 'DROP TABLE movie'"
   ]
  },
  {
   "cell_type": "code",
   "execution_count": 178,
   "metadata": {},
   "outputs": [
    {
     "data": {
      "text/plain": [
       "<sqlite3.Cursor at 0x23563194040>"
      ]
     },
     "execution_count": 178,
     "metadata": {},
     "output_type": "execute_result"
    }
   ],
   "source": [
    "con2.execute(drop)"
   ]
  },
  {
   "cell_type": "code",
   "execution_count": 179,
   "metadata": {},
   "outputs": [
    {
     "data": {
      "text/html": [
       "<div>\n",
       "<style scoped>\n",
       "    .dataframe tbody tr th:only-of-type {\n",
       "        vertical-align: middle;\n",
       "    }\n",
       "\n",
       "    .dataframe tbody tr th {\n",
       "        vertical-align: top;\n",
       "    }\n",
       "\n",
       "    .dataframe thead th {\n",
       "        text-align: right;\n",
       "    }\n",
       "</style>\n",
       "<table border=\"1\" class=\"dataframe\">\n",
       "  <thead>\n",
       "    <tr style=\"text-align: right;\">\n",
       "      <th></th>\n",
       "      <th>type</th>\n",
       "      <th>name</th>\n",
       "      <th>tbl_name</th>\n",
       "      <th>rootpage</th>\n",
       "      <th>sql</th>\n",
       "    </tr>\n",
       "  </thead>\n",
       "  <tbody>\n",
       "  </tbody>\n",
       "</table>\n",
       "</div>"
      ],
      "text/plain": [
       "Empty DataFrame\n",
       "Columns: [type, name, tbl_name, rootpage, sql]\n",
       "Index: []"
      ]
     },
     "execution_count": 179,
     "metadata": {},
     "output_type": "execute_result"
    }
   ],
   "source": [
    "pd.read_sql_query('SELECT * FROM sqlite_master',con2)"
   ]
  },
  {
   "cell_type": "code",
   "execution_count": 180,
   "metadata": {},
   "outputs": [],
   "source": [
    "con2.close()"
   ]
  },
  {
   "cell_type": "markdown",
   "metadata": {},
   "source": [
    "---\n",
    "---\n",
    "# MONGO DB\n",
    "---"
   ]
  },
  {
   "cell_type": "code",
   "execution_count": 2,
   "metadata": {},
   "outputs": [],
   "source": [
    "from pymongo import MongoClient"
   ]
  },
  {
   "cell_type": "markdown",
   "metadata": {},
   "source": [
    "STEP 1: CREATE CLIENT"
   ]
  },
  {
   "cell_type": "code",
   "execution_count": 3,
   "metadata": {},
   "outputs": [],
   "source": [
    "client = MongoClient('localhost',27017)"
   ]
  },
  {
   "cell_type": "markdown",
   "metadata": {},
   "source": [
    "test database"
   ]
  },
  {
   "cell_type": "code",
   "execution_count": 4,
   "metadata": {},
   "outputs": [
    {
     "data": {
      "text/plain": [
       "Database(MongoClient(host=['localhost:27017'], document_class=dict, tz_aware=False, connect=True), 'test_database')"
      ]
     },
     "execution_count": 4,
     "metadata": {},
     "output_type": "execute_result"
    }
   ],
   "source": [
    "client.test_database"
   ]
  },
  {
   "cell_type": "markdown",
   "metadata": {},
   "source": [
    "Step 2: creating or using database"
   ]
  },
  {
   "cell_type": "code",
   "execution_count": 84,
   "metadata": {},
   "outputs": [],
   "source": [
    "db=client.sample_database"
   ]
  },
  {
   "cell_type": "markdown",
   "metadata": {},
   "source": [
    "step 3: Creating or using collection"
   ]
  },
  {
   "cell_type": "code",
   "execution_count": 85,
   "metadata": {},
   "outputs": [],
   "source": [
    "emp_document=db.emp_doc"
   ]
  },
  {
   "cell_type": "markdown",
   "metadata": {},
   "source": [
    "Step 3: Inserting into collection"
   ]
  },
  {
   "cell_type": "code",
   "execution_count": 86,
   "metadata": {},
   "outputs": [],
   "source": [
    "employee_details={\"_id\":0,\n",
    "    'name':'abc',\n",
    "    'address':'defgh st',\n",
    "    'age':27\n",
    "}"
   ]
  },
  {
   "cell_type": "code",
   "execution_count": 87,
   "metadata": {},
   "outputs": [],
   "source": [
    "result=emp_document.insert_one(employee_details)"
   ]
  },
  {
   "cell_type": "code",
   "execution_count": 88,
   "metadata": {},
   "outputs": [
    {
     "data": {
      "text/plain": [
       "InsertOneResult(0, acknowledged=True)"
      ]
     },
     "execution_count": 88,
     "metadata": {},
     "output_type": "execute_result"
    }
   ],
   "source": [
    "result"
   ]
  },
  {
   "cell_type": "code",
   "execution_count": 10,
   "metadata": {},
   "outputs": [
    {
     "ename": "AttributeError",
     "evalue": "'InsertOneResult' object has no attribute 'inserted_ids'",
     "output_type": "error",
     "traceback": [
      "\u001b[1;31m---------------------------------------------------------------------------\u001b[0m",
      "\u001b[1;31mAttributeError\u001b[0m                            Traceback (most recent call last)",
      "Cell \u001b[1;32mIn[10], line 1\u001b[0m\n\u001b[1;32m----> 1\u001b[0m \u001b[43mresult\u001b[49m\u001b[38;5;241;43m.\u001b[39;49m\u001b[43minserted_ids\u001b[49m\n",
      "\u001b[1;31mAttributeError\u001b[0m: 'InsertOneResult' object has no attribute 'inserted_ids'"
     ]
    }
   ],
   "source": [
    "result.inserted_ids"
   ]
  },
  {
   "cell_type": "markdown",
   "metadata": {},
   "source": [
    "step 4: inserting many "
   ]
  },
  {
   "cell_type": "code",
   "execution_count": 89,
   "metadata": {},
   "outputs": [],
   "source": [
    "emp_details_many = [\n",
    "            {\"_id\":1,\"name\":\"John\",\"address\":\"Highway 37\"},\n",
    "            {\"_id\":2,\"name\":\"Peter\",\"address\":\"Lowstreet 27\"},\n",
    "            {\"_id\":3,\"name\":\"Amy\",\"address\":\"Close st 652\"},\n",
    "            {\"_id\":4,\"name\":\"Hannah\",\"address\":\"Mountain 21\"},\n",
    "            {\"_id\":5,\"name\":\"Michael\",\"address\":\"Valley 345\"},\n",
    "            {\"_id\":6,\"name\": \"Vicky\", \"address\": \"Yellow Garden 124\"},\n",
    "            {\"_id\":7,\"name\": \"Nicky\", \"address\": \"Yellow Garden 23\"},\n",
    "            {\"_id\":8,\"name\": \"Nancy\", \"address\": \"Younge Ave. 123\"},\n",
    "            {\"_id\":9,\"name\": \"Viola\", \"address\": \"Sideway Ave\"}\n",
    "            ]"
   ]
  },
  {
   "cell_type": "code",
   "execution_count": 90,
   "metadata": {},
   "outputs": [],
   "source": [
    "result=emp_document.insert_many(emp_details_many)"
   ]
  },
  {
   "cell_type": "code",
   "execution_count": 91,
   "metadata": {},
   "outputs": [
    {
     "data": {
      "text/plain": [
       "InsertManyResult([1, 2, 3, 4, 5, 6, 7, 8, 9], acknowledged=True)"
      ]
     },
     "execution_count": 91,
     "metadata": {},
     "output_type": "execute_result"
    }
   ],
   "source": [
    "result"
   ]
  },
  {
   "cell_type": "markdown",
   "metadata": {},
   "source": [
    "getting the ids of records inserted"
   ]
  },
  {
   "cell_type": "code",
   "execution_count": 92,
   "metadata": {},
   "outputs": [
    {
     "data": {
      "text/plain": [
       "[1, 2, 3, 4, 5, 6, 7, 8, 9]"
      ]
     },
     "execution_count": 92,
     "metadata": {},
     "output_type": "execute_result"
    }
   ],
   "source": [
    "result.inserted_ids"
   ]
  },
  {
   "cell_type": "markdown",
   "metadata": {},
   "source": [
    "total documents in a collections"
   ]
  },
  {
   "cell_type": "code",
   "execution_count": 93,
   "metadata": {},
   "outputs": [
    {
     "data": {
      "text/plain": [
       "10"
      ]
     },
     "execution_count": 93,
     "metadata": {},
     "output_type": "execute_result"
    }
   ],
   "source": [
    "emp_document.count_documents({})"
   ]
  },
  {
   "cell_type": "markdown",
   "metadata": {},
   "source": [
    "Fetching one record (IT IS NOT ITERATIVE LIKE SQLITE)"
   ]
  },
  {
   "cell_type": "code",
   "execution_count": 94,
   "metadata": {},
   "outputs": [
    {
     "data": {
      "text/plain": [
       "{'_id': 0, 'name': 'abc', 'address': 'defgh st', 'age': 27}"
      ]
     },
     "execution_count": 94,
     "metadata": {},
     "output_type": "execute_result"
    }
   ],
   "source": [
    "emp_document.find_one()"
   ]
  },
  {
   "cell_type": "code",
   "execution_count": 95,
   "metadata": {},
   "outputs": [
    {
     "data": {
      "text/plain": [
       "{'_id': 0, 'name': 'abc', 'address': 'defgh st', 'age': 27}"
      ]
     },
     "execution_count": 95,
     "metadata": {},
     "output_type": "execute_result"
    }
   ],
   "source": [
    "emp_document.find_one()"
   ]
  },
  {
   "cell_type": "markdown",
   "metadata": {},
   "source": [
    "Getting first 10 records"
   ]
  },
  {
   "cell_type": "code",
   "execution_count": 96,
   "metadata": {},
   "outputs": [
    {
     "name": "stdout",
     "output_type": "stream",
     "text": [
      "{'_id': 0, 'name': 'abc', 'address': 'defgh st', 'age': 27}\n",
      "{'_id': 1, 'name': 'John', 'address': 'Highway 37'}\n",
      "{'_id': 2, 'name': 'Peter', 'address': 'Lowstreet 27'}\n",
      "{'_id': 3, 'name': 'Amy', 'address': 'Close st 652'}\n",
      "{'_id': 4, 'name': 'Hannah', 'address': 'Mountain 21'}\n",
      "{'_id': 5, 'name': 'Michael', 'address': 'Valley 345'}\n",
      "{'_id': 6, 'name': 'Vicky', 'address': 'Yellow Garden 124'}\n",
      "{'_id': 7, 'name': 'Nicky', 'address': 'Yellow Garden 23'}\n",
      "{'_id': 8, 'name': 'Nancy', 'address': 'Younge Ave. 123'}\n",
      "{'_id': 9, 'name': 'Viola', 'address': 'Sideway Ave'}\n"
     ]
    }
   ],
   "source": [
    "for record in emp_document.find().limit(10):\n",
    "    print(record) "
   ]
  },
  {
   "cell_type": "markdown",
   "metadata": {},
   "source": [
    "Finding a record"
   ]
  },
  {
   "cell_type": "markdown",
   "metadata": {},
   "source": [
    "`find(\n",
    "    {\"col\": {(filter condition for \"val\")},\n",
    "    {\"col1\":0,\"col2\":1,\"col3\":1}  \n",
    "     )`\n",
    "1 will show yeild the result , 0 will ignore"
   ]
  },
  {
   "cell_type": "code",
   "execution_count": 97,
   "metadata": {},
   "outputs": [
    {
     "data": {
      "text/plain": [
       "<pymongo.cursor.Cursor at 0x19581c92fe0>"
      ]
     },
     "execution_count": 97,
     "metadata": {},
     "output_type": "execute_result"
    }
   ],
   "source": [
    "emp_document.find({\"address\":\"Highway 37\"},{\"_id\":0,\"name\":1,\"address\":1})"
   ]
  },
  {
   "cell_type": "code",
   "execution_count": 98,
   "metadata": {},
   "outputs": [
    {
     "name": "stdout",
     "output_type": "stream",
     "text": [
      "{'name': 'John', 'address': 'Highway 37'}\n"
     ]
    }
   ],
   "source": [
    "for record in emp_document.find({\"address\":\"Highway 37\"},{\"_id\":0,\"name\":1,\"address\":1}):\n",
    "    print(record) "
   ]
  },
  {
   "cell_type": "markdown",
   "metadata": {},
   "source": [
    "all the columns in the doc  (METHOD 1)"
   ]
  },
  {
   "cell_type": "code",
   "execution_count": 99,
   "metadata": {},
   "outputs": [
    {
     "name": "stdout",
     "output_type": "stream",
     "text": [
      "{'_id': 1, 'name': 'John', 'address': 'Highway 37'}\n"
     ]
    }
   ],
   "source": [
    "for record in emp_document.find({\"address\":\"Highway 37\"}):\n",
    "    print(record) "
   ]
  },
  {
   "cell_type": "markdown",
   "metadata": {},
   "source": [
    "all the columns in the doc  (METHOD 2)"
   ]
  },
  {
   "cell_type": "code",
   "execution_count": 100,
   "metadata": {},
   "outputs": [
    {
     "name": "stdout",
     "output_type": "stream",
     "text": [
      "{'_id': 1, 'name': 'John', 'address': 'Highway 37'}\n"
     ]
    }
   ],
   "source": [
    "for record in emp_document.find({\"address\":\"Highway 37\"},{}):\n",
    "    print(record) "
   ]
  },
  {
   "cell_type": "markdown",
   "metadata": {},
   "source": [
    "without Name"
   ]
  },
  {
   "cell_type": "code",
   "execution_count": 101,
   "metadata": {},
   "outputs": [
    {
     "name": "stdout",
     "output_type": "stream",
     "text": [
      "{'_id': 1, 'address': 'Highway 37'}\n"
     ]
    }
   ],
   "source": [
    "for record in emp_document.find({\"address\":\"Highway 37\"},{\"name\":0}):\n",
    "    print(record) "
   ]
  },
  {
   "cell_type": "markdown",
   "metadata": {},
   "source": [
    "only name"
   ]
  },
  {
   "cell_type": "code",
   "execution_count": 102,
   "metadata": {},
   "outputs": [
    {
     "name": "stdout",
     "output_type": "stream",
     "text": [
      "{'_id': 1, 'name': 'John'}\n"
     ]
    }
   ],
   "source": [
    "for record in emp_document.find({\"address\":\"Highway 37\"},{\"name\":1}):\n",
    "    print(record) "
   ]
  },
  {
   "cell_type": "markdown",
   "metadata": {},
   "source": [
    "# MongoDB Query Operators\n",
    "\n",
    "## Comparison Operators\n",
    "\n",
    "- **Name:** `$eq`\n",
    "  - **Description:** Matches values that are equal to a specified value.\n",
    "- **Name:** `$gt`\n",
    "  - **Description:** Matches values that are greater than a specified value.\n",
    "- **Name:** `$gte`\n",
    "  - **Description:** Matches values that are greater than or equal to a specified value.\n",
    "- **Name:** `$in`\n",
    "  - **Description:** Matches any of the values specified in an array.\n",
    "- **Name:** `$lt`\n",
    "  - **Description:** Matches values that are less than a specified value.\n",
    "- **Name:** `$lte`\n",
    "  - **Description:** Matches values that are less than or equal to a specified value.\n",
    "- **Name:** `$ne`\n",
    "  - **Description:** Matches all values that are not equal to a specified value.\n",
    "- **Name:** `$nin`\n",
    "  - **Description:** Matches none of the values specified in an array.\n",
    "\n",
    "## Logical Operators\n",
    "\n",
    "- **Name:** `$and`\n",
    "  - **Description:** Joins query clauses with a logical AND returns all documents that match the conditions of both clauses.\n",
    "- **Name:** `$not`\n",
    "  - **Description:** Inverts the effect of a query expression and returns documents that do not match the query expression.\n",
    "- **Name:** `$nor`\n",
    "  - **Description:** Joins query clauses with a logical NOR returns all documents that fail to match both clauses.\n",
    "- **Name:** `$or`\n",
    "  - **Description:** Joins query clauses with a logical OR returns all documents that match the conditions of either clause.\n",
    "\n",
    "## Element Operators\n",
    "\n",
    "- **Name:** `$exists`\n",
    "  - **Description:** Matches documents that have the specified field.\n",
    "- **Name:** `$type`\n",
    "  - **Description:** Selects documents if a field is of the specified type.\n",
    "\n",
    "## Evaluation Operators\n",
    "\n",
    "- **Name:** `$expr`\n",
    "  - **Description:** Allows use of aggregation expressions within the query language.\n",
    "- **Name:** `$jsonSchema`\n",
    "  - **Description:** Validate documents against the given JSON Schema.\n",
    "- **Name:** `$mod`\n",
    "  - **Description:** Performs a modulo operation on the value of a field and selects documents with a specified result.\n",
    "- **Name:** `$regex`\n",
    "  - **Description:** Selects documents where values match a specified regular expression.\n",
    "- **Name:** `$text`\n",
    "  - **Description:** Performs text search.\n",
    "\n",
    "## Array Operators\n",
    "\n",
    "- **Name:** `$all`\n",
    "  - **Description:** Matches arrays that contain all elements specified in the query.\n",
    "- **Name:** `$elemMatch`\n",
    "  - **Description:** Selects documents if an element in the array field matches all the specified `$elemMatch` conditions.\n",
    "- **Name:** `$size`\n",
    "  - **Description:** Selects documents if the array field is a specified size.\n",
    "\n",
    "## Projection Operators\n",
    "\n",
    "- **Name:** `$`\n",
    "  - **Description:** Projects the first element in an array that matches the query condition.\n",
    "- **Name:** `$elemMatch`\n",
    "  - **Description:** Projects the first element in an array that matches the specified `$elemMatch` condition.\n",
    "- **Name:** `$meta`\n",
    "  - **Description:** Projects the document's score assigned during `$text` operation.\n",
    "- **Name:** `$slice`\n",
    "  - **Description:** Limits the number of elements projected from an array. Supports skip and limit slices.\n"
   ]
  },
  {
   "cell_type": "markdown",
   "metadata": {},
   "source": [
    "# Mongodb query operators: (REGEX)"
   ]
  },
  {
   "cell_type": "markdown",
   "metadata": {},
   "source": [
    "Finding a record by advanced filtering using `REGEX`"
   ]
  },
  {
   "cell_type": "code",
   "execution_count": 103,
   "metadata": {},
   "outputs": [],
   "source": [
    "name_filt={'$regex':'^N'}"
   ]
  },
  {
   "cell_type": "code",
   "execution_count": 104,
   "metadata": {},
   "outputs": [
    {
     "name": "stdout",
     "output_type": "stream",
     "text": [
      "{'_id': 7, 'name': 'Nicky'}\n",
      "{'_id': 8, 'name': 'Nancy'}\n"
     ]
    }
   ],
   "source": [
    "for record in emp_document.find({'name':name_filt},{\"name\":1}):\n",
    "    print(record) "
   ]
  },
  {
   "cell_type": "markdown",
   "metadata": {},
   "source": [
    "Condition with AND"
   ]
  },
  {
   "cell_type": "code",
   "execution_count": 105,
   "metadata": {},
   "outputs": [],
   "source": [
    "and_filt={\n",
    "            \"$and\":[\n",
    "                        {\"address\":{\"$regex\": '^Y'}},\n",
    "                        {\"address\":{\"$regex\": 'l'}}\n",
    "                    ]\n",
    "            }"
   ]
  },
  {
   "cell_type": "code",
   "execution_count": 106,
   "metadata": {},
   "outputs": [
    {
     "name": "stdout",
     "output_type": "stream",
     "text": [
      "{'_id': 6, 'name': 'Vicky', 'address': 'Yellow Garden 124'}\n",
      "{'_id': 7, 'name': 'Nicky', 'address': 'Yellow Garden 23'}\n"
     ]
    }
   ],
   "source": [
    "for record in emp_document.find(and_filt):\n",
    "    print(record) "
   ]
  },
  {
   "cell_type": "markdown",
   "metadata": {},
   "source": [
    "Condition with OR"
   ]
  },
  {
   "cell_type": "code",
   "execution_count": 107,
   "metadata": {},
   "outputs": [],
   "source": [
    "or_filt={\n",
    "            \"$or\":[\n",
    "                        {\"address\":{\"$regex\": '^Y'}},\n",
    "                        {\"address\":{\"$regex\": 'l'}}\n",
    "                    ]\n",
    "            }"
   ]
  },
  {
   "cell_type": "code",
   "execution_count": 108,
   "metadata": {},
   "outputs": [
    {
     "name": "stdout",
     "output_type": "stream",
     "text": [
      "{'_id': 3, 'name': 'Amy', 'address': 'Close st 652'}\n",
      "{'_id': 5, 'name': 'Michael', 'address': 'Valley 345'}\n",
      "{'_id': 6, 'name': 'Vicky', 'address': 'Yellow Garden 124'}\n",
      "{'_id': 7, 'name': 'Nicky', 'address': 'Yellow Garden 23'}\n",
      "{'_id': 8, 'name': 'Nancy', 'address': 'Younge Ave. 123'}\n"
     ]
    }
   ],
   "source": [
    "for record in emp_document.find(or_filt):\n",
    "    print(record) "
   ]
  },
  {
   "cell_type": "markdown",
   "metadata": {},
   "source": [
    "Nested condition"
   ]
  },
  {
   "cell_type": "code",
   "execution_count": 110,
   "metadata": {},
   "outputs": [
    {
     "name": "stdout",
     "output_type": "stream",
     "text": [
      "{'_id': 6, 'name': 'Vicky', 'address': 'Yellow Garden 124'}\n",
      "{'_id': 7, 'name': 'Nicky', 'address': 'Yellow Garden 23'}\n",
      "{'_id': 8, 'name': 'Nancy', 'address': 'Younge Ave. 123'}\n"
     ]
    }
   ],
   "source": [
    "filt1={\n",
    "\"$and\":[\n",
    "            {\"address\":{\"$regex\": '^Y'}},\n",
    "            {\"address\":{\"$regex\": '1'}}\n",
    "        ]\n",
    "}\n",
    "filt2={\"name\":{\"$regex\":'^N'}}\n",
    "\n",
    "nested_filt={\"$or\":[filt1,filt2]}\n",
    "\n",
    "for record in emp_document.find(nested_filt):\n",
    "    print(record) "
   ]
  },
  {
   "cell_type": "markdown",
   "metadata": {},
   "source": [
    "$gt"
   ]
  },
  {
   "cell_type": "code",
   "execution_count": 111,
   "metadata": {},
   "outputs": [
    {
     "name": "stdout",
     "output_type": "stream",
     "text": [
      "{'_id': 0, 'name': 'abc', 'address': 'defgh st', 'age': 27}\n",
      "{'_id': 5, 'name': 'Michael', 'address': 'Valley 345'}\n",
      "{'_id': 6, 'name': 'Vicky', 'address': 'Yellow Garden 124'}\n",
      "{'_id': 7, 'name': 'Nicky', 'address': 'Yellow Garden 23'}\n",
      "{'_id': 8, 'name': 'Nancy', 'address': 'Younge Ave. 123'}\n",
      "{'_id': 9, 'name': 'Viola', 'address': 'Sideway Ave'}\n"
     ]
    }
   ],
   "source": [
    "filt={'address':{'$gt':'S'}}\n",
    "for record in emp_document.find(filt):\n",
    "    print(record) "
   ]
  },
  {
   "cell_type": "markdown",
   "metadata": {},
   "source": [
    "$lt"
   ]
  },
  {
   "cell_type": "code",
   "execution_count": 112,
   "metadata": {},
   "outputs": [
    {
     "name": "stdout",
     "output_type": "stream",
     "text": [
      "{'_id': 1, 'name': 'John', 'address': 'Highway 37'}\n",
      "{'_id': 2, 'name': 'Peter', 'address': 'Lowstreet 27'}\n",
      "{'_id': 3, 'name': 'Amy', 'address': 'Close st 652'}\n",
      "{'_id': 4, 'name': 'Hannah', 'address': 'Mountain 21'}\n"
     ]
    }
   ],
   "source": [
    "filt={'address':{'$lt':'S'}}\n",
    "for record in emp_document.find(filt):\n",
    "    print(record) "
   ]
  },
  {
   "cell_type": "markdown",
   "metadata": {},
   "source": [
    "$gte"
   ]
  },
  {
   "cell_type": "code",
   "execution_count": 113,
   "metadata": {},
   "outputs": [
    {
     "name": "stdout",
     "output_type": "stream",
     "text": [
      "{'_id': 0, 'name': 'abc', 'address': 'defgh st', 'age': 27}\n",
      "{'_id': 5, 'name': 'Michael', 'address': 'Valley 345'}\n",
      "{'_id': 6, 'name': 'Vicky', 'address': 'Yellow Garden 124'}\n",
      "{'_id': 7, 'name': 'Nicky', 'address': 'Yellow Garden 23'}\n",
      "{'_id': 8, 'name': 'Nancy', 'address': 'Younge Ave. 123'}\n",
      "{'_id': 9, 'name': 'Viola', 'address': 'Sideway Ave'}\n"
     ]
    }
   ],
   "source": [
    "filt={'address':{'$gte':'S'}}\n",
    "for record in emp_document.find(filt):\n",
    "    print(record) "
   ]
  },
  {
   "cell_type": "markdown",
   "metadata": {},
   "source": [
    "$lte"
   ]
  },
  {
   "cell_type": "code",
   "execution_count": 114,
   "metadata": {},
   "outputs": [
    {
     "name": "stdout",
     "output_type": "stream",
     "text": [
      "{'_id': 1, 'name': 'John', 'address': 'Highway 37'}\n",
      "{'_id': 2, 'name': 'Peter', 'address': 'Lowstreet 27'}\n",
      "{'_id': 3, 'name': 'Amy', 'address': 'Close st 652'}\n",
      "{'_id': 4, 'name': 'Hannah', 'address': 'Mountain 21'}\n"
     ]
    }
   ],
   "source": [
    "filt={'address':{'$lte':'S'}}\n",
    "for record in emp_document.find(filt):\n",
    "    print(record) "
   ]
  },
  {
   "cell_type": "markdown",
   "metadata": {},
   "source": [
    "$ne"
   ]
  },
  {
   "cell_type": "code",
   "execution_count": 115,
   "metadata": {},
   "outputs": [
    {
     "name": "stdout",
     "output_type": "stream",
     "text": [
      "{'_id': 0, 'name': 'abc', 'address': 'defgh st', 'age': 27}\n",
      "{'_id': 2, 'name': 'Peter', 'address': 'Lowstreet 27'}\n",
      "{'_id': 3, 'name': 'Amy', 'address': 'Close st 652'}\n",
      "{'_id': 4, 'name': 'Hannah', 'address': 'Mountain 21'}\n",
      "{'_id': 5, 'name': 'Michael', 'address': 'Valley 345'}\n",
      "{'_id': 6, 'name': 'Vicky', 'address': 'Yellow Garden 124'}\n",
      "{'_id': 7, 'name': 'Nicky', 'address': 'Yellow Garden 23'}\n",
      "{'_id': 8, 'name': 'Nancy', 'address': 'Younge Ave. 123'}\n",
      "{'_id': 9, 'name': 'Viola', 'address': 'Sideway Ave'}\n"
     ]
    }
   ],
   "source": [
    "filt={'name':{'$ne':'John'}}\n",
    "for record in emp_document.find(filt):\n",
    "    print(record) "
   ]
  },
  {
   "cell_type": "markdown",
   "metadata": {},
   "source": [
    "# Update Values"
   ]
  },
  {
   "cell_type": "markdown",
   "metadata": {},
   "source": [
    "update one"
   ]
  },
  {
   "cell_type": "code",
   "execution_count": 116,
   "metadata": {},
   "outputs": [
    {
     "data": {
      "text/plain": [
       "UpdateResult({'n': 1, 'nModified': 1, 'ok': 1.0, 'updatedExisting': True}, acknowledged=True)"
      ]
     },
     "execution_count": 116,
     "metadata": {},
     "output_type": "execute_result"
    }
   ],
   "source": [
    "filt={'address':'Valley 345'}\n",
    "update={'$set':{'address':'Canyon 123'}}\n",
    "emp_document.update_one(filt,update)"
   ]
  },
  {
   "cell_type": "code",
   "execution_count": 117,
   "metadata": {},
   "outputs": [
    {
     "name": "stdout",
     "output_type": "stream",
     "text": [
      "{'_id': 0, 'name': 'abc', 'address': 'defgh st', 'age': 27}\n",
      "{'_id': 1, 'name': 'John', 'address': 'Highway 37'}\n",
      "{'_id': 2, 'name': 'Peter', 'address': 'Lowstreet 27'}\n",
      "{'_id': 3, 'name': 'Amy', 'address': 'Close st 652'}\n",
      "{'_id': 4, 'name': 'Hannah', 'address': 'Mountain 21'}\n",
      "{'_id': 5, 'name': 'Michael', 'address': 'Canyon 123'}\n",
      "{'_id': 6, 'name': 'Vicky', 'address': 'Yellow Garden 124'}\n",
      "{'_id': 7, 'name': 'Nicky', 'address': 'Yellow Garden 23'}\n",
      "{'_id': 8, 'name': 'Nancy', 'address': 'Younge Ave. 123'}\n",
      "{'_id': 9, 'name': 'Viola', 'address': 'Sideway Ave'}\n"
     ]
    }
   ],
   "source": [
    "for record in emp_document.find():\n",
    "    print(record) "
   ]
  },
  {
   "cell_type": "markdown",
   "metadata": {},
   "source": [
    "update many"
   ]
  },
  {
   "cell_type": "code",
   "execution_count": 118,
   "metadata": {},
   "outputs": [
    {
     "data": {
      "text/plain": [
       "UpdateResult({'n': 2, 'nModified': 2, 'ok': 1.0, 'updatedExisting': True}, acknowledged=True)"
      ]
     },
     "execution_count": 118,
     "metadata": {},
     "output_type": "execute_result"
    }
   ],
   "source": [
    "query={'address':{'$regex':'^C'}}\n",
    "new_vals={'$set':{'name':'Minnie'}}\n",
    "emp_document.update_many(query,new_vals)"
   ]
  },
  {
   "cell_type": "code",
   "execution_count": 119,
   "metadata": {},
   "outputs": [
    {
     "name": "stdout",
     "output_type": "stream",
     "text": [
      "{'_id': 0, 'name': 'abc', 'address': 'defgh st', 'age': 27}\n",
      "{'_id': 1, 'name': 'John', 'address': 'Highway 37'}\n",
      "{'_id': 2, 'name': 'Peter', 'address': 'Lowstreet 27'}\n",
      "{'_id': 3, 'name': 'Minnie', 'address': 'Close st 652'}\n",
      "{'_id': 4, 'name': 'Hannah', 'address': 'Mountain 21'}\n",
      "{'_id': 5, 'name': 'Minnie', 'address': 'Canyon 123'}\n",
      "{'_id': 6, 'name': 'Vicky', 'address': 'Yellow Garden 124'}\n",
      "{'_id': 7, 'name': 'Nicky', 'address': 'Yellow Garden 23'}\n",
      "{'_id': 8, 'name': 'Nancy', 'address': 'Younge Ave. 123'}\n",
      "{'_id': 9, 'name': 'Viola', 'address': 'Sideway Ave'}\n"
     ]
    }
   ],
   "source": [
    "for record in emp_document.find():\n",
    "    print(record) "
   ]
  },
  {
   "cell_type": "markdown",
   "metadata": {},
   "source": [
    "# Delete"
   ]
  },
  {
   "cell_type": "markdown",
   "metadata": {},
   "source": [
    "delete one"
   ]
  },
  {
   "cell_type": "code",
   "execution_count": 120,
   "metadata": {},
   "outputs": [
    {
     "data": {
      "text/plain": [
       "DeleteResult({'n': 1, 'ok': 1.0}, acknowledged=True)"
      ]
     },
     "execution_count": 120,
     "metadata": {},
     "output_type": "execute_result"
    }
   ],
   "source": [
    "filt={'name':'abc'}\n",
    "emp_document.delete_one(filt)"
   ]
  },
  {
   "cell_type": "code",
   "execution_count": 121,
   "metadata": {},
   "outputs": [
    {
     "name": "stdout",
     "output_type": "stream",
     "text": [
      "{'_id': 1, 'name': 'John', 'address': 'Highway 37'}\n",
      "{'_id': 2, 'name': 'Peter', 'address': 'Lowstreet 27'}\n",
      "{'_id': 3, 'name': 'Minnie', 'address': 'Close st 652'}\n",
      "{'_id': 4, 'name': 'Hannah', 'address': 'Mountain 21'}\n",
      "{'_id': 5, 'name': 'Minnie', 'address': 'Canyon 123'}\n",
      "{'_id': 6, 'name': 'Vicky', 'address': 'Yellow Garden 124'}\n",
      "{'_id': 7, 'name': 'Nicky', 'address': 'Yellow Garden 23'}\n",
      "{'_id': 8, 'name': 'Nancy', 'address': 'Younge Ave. 123'}\n",
      "{'_id': 9, 'name': 'Viola', 'address': 'Sideway Ave'}\n"
     ]
    }
   ],
   "source": [
    "for record in emp_document.find():\n",
    "    print(record) "
   ]
  },
  {
   "cell_type": "markdown",
   "metadata": {},
   "source": [
    "delete many"
   ]
  },
  {
   "cell_type": "code",
   "execution_count": 122,
   "metadata": {},
   "outputs": [],
   "source": [
    "filt={'address':{\"$regex\":'^Y'}}\n",
    "response=emp_document.delete_many(filt)"
   ]
  },
  {
   "cell_type": "code",
   "execution_count": 123,
   "metadata": {},
   "outputs": [
    {
     "data": {
      "text/plain": [
       "DeleteResult({'n': 3, 'ok': 1.0}, acknowledged=True)"
      ]
     },
     "execution_count": 123,
     "metadata": {},
     "output_type": "execute_result"
    }
   ],
   "source": [
    "response"
   ]
  },
  {
   "cell_type": "code",
   "execution_count": 124,
   "metadata": {},
   "outputs": [
    {
     "data": {
      "text/plain": [
       "3"
      ]
     },
     "execution_count": 124,
     "metadata": {},
     "output_type": "execute_result"
    }
   ],
   "source": [
    "response.deleted_count"
   ]
  },
  {
   "cell_type": "code",
   "execution_count": 125,
   "metadata": {},
   "outputs": [
    {
     "name": "stdout",
     "output_type": "stream",
     "text": [
      "{'_id': 1, 'name': 'John', 'address': 'Highway 37'}\n",
      "{'_id': 2, 'name': 'Peter', 'address': 'Lowstreet 27'}\n",
      "{'_id': 3, 'name': 'Minnie', 'address': 'Close st 652'}\n",
      "{'_id': 4, 'name': 'Hannah', 'address': 'Mountain 21'}\n",
      "{'_id': 5, 'name': 'Minnie', 'address': 'Canyon 123'}\n",
      "{'_id': 9, 'name': 'Viola', 'address': 'Sideway Ave'}\n"
     ]
    }
   ],
   "source": [
    "for record in emp_document.find():\n",
    "    print(record) "
   ]
  },
  {
   "cell_type": "markdown",
   "metadata": {},
   "source": [
    "Renaming columns"
   ]
  },
  {
   "cell_type": "code",
   "execution_count": 126,
   "metadata": {},
   "outputs": [
    {
     "data": {
      "text/plain": [
       "UpdateResult({'n': 6, 'nModified': 6, 'ok': 1.0, 'updatedExisting': True}, acknowledged=True)"
      ]
     },
     "execution_count": 126,
     "metadata": {},
     "output_type": "execute_result"
    }
   ],
   "source": [
    "filt={}\n",
    "update={\"$rename\":{'address':'home_address'}}\n",
    "# you can never leave filter argument , so kept as empty dictionary\n",
    "emp_document.update_many(filt,update)"
   ]
  },
  {
   "cell_type": "code",
   "execution_count": 127,
   "metadata": {},
   "outputs": [
    {
     "name": "stdout",
     "output_type": "stream",
     "text": [
      "{'_id': 1, 'name': 'John', 'home_address': 'Highway 37'}\n",
      "{'_id': 2, 'name': 'Peter', 'home_address': 'Lowstreet 27'}\n",
      "{'_id': 3, 'name': 'Minnie', 'home_address': 'Close st 652'}\n",
      "{'_id': 4, 'name': 'Hannah', 'home_address': 'Mountain 21'}\n",
      "{'_id': 5, 'name': 'Minnie', 'home_address': 'Canyon 123'}\n",
      "{'_id': 9, 'name': 'Viola', 'home_address': 'Sideway Ave'}\n"
     ]
    }
   ],
   "source": [
    "for record in emp_document.find():\n",
    "    print(record) "
   ]
  },
  {
   "cell_type": "markdown",
   "metadata": {},
   "source": [
    "# Sort"
   ]
  },
  {
   "cell_type": "markdown",
   "metadata": {},
   "source": [
    "ascending"
   ]
  },
  {
   "cell_type": "code",
   "execution_count": 128,
   "metadata": {},
   "outputs": [
    {
     "name": "stdout",
     "output_type": "stream",
     "text": [
      "{'_id': 4, 'name': 'Hannah', 'home_address': 'Mountain 21'}\n",
      "{'_id': 1, 'name': 'John', 'home_address': 'Highway 37'}\n",
      "{'_id': 3, 'name': 'Minnie', 'home_address': 'Close st 652'}\n",
      "{'_id': 5, 'name': 'Minnie', 'home_address': 'Canyon 123'}\n",
      "{'_id': 2, 'name': 'Peter', 'home_address': 'Lowstreet 27'}\n",
      "{'_id': 9, 'name': 'Viola', 'home_address': 'Sideway Ave'}\n"
     ]
    }
   ],
   "source": [
    "for record in emp_document.find().sort('name'):\n",
    "    print(record) "
   ]
  },
  {
   "cell_type": "markdown",
   "metadata": {},
   "source": [
    "descending"
   ]
  },
  {
   "cell_type": "code",
   "execution_count": 129,
   "metadata": {},
   "outputs": [
    {
     "name": "stdout",
     "output_type": "stream",
     "text": [
      "{'_id': 9, 'name': 'Viola', 'home_address': 'Sideway Ave'}\n",
      "{'_id': 2, 'name': 'Peter', 'home_address': 'Lowstreet 27'}\n",
      "{'_id': 3, 'name': 'Minnie', 'home_address': 'Close st 652'}\n",
      "{'_id': 5, 'name': 'Minnie', 'home_address': 'Canyon 123'}\n",
      "{'_id': 1, 'name': 'John', 'home_address': 'Highway 37'}\n",
      "{'_id': 4, 'name': 'Hannah', 'home_address': 'Mountain 21'}\n"
     ]
    }
   ],
   "source": [
    "for record in emp_document.find().sort('name',-1):\n",
    "    print(record) "
   ]
  },
  {
   "cell_type": "markdown",
   "metadata": {},
   "source": [
    "# Cloninig a collection"
   ]
  },
  {
   "cell_type": "code",
   "execution_count": 130,
   "metadata": {},
   "outputs": [],
   "source": [
    "response=emp_document.aggregate([{\"$out\":\"emp_document_2\"}])"
   ]
  },
  {
   "cell_type": "code",
   "execution_count": 131,
   "metadata": {},
   "outputs": [],
   "source": [
    "emp_document_2=db.emp_document_2"
   ]
  },
  {
   "cell_type": "code",
   "execution_count": 132,
   "metadata": {},
   "outputs": [
    {
     "name": "stdout",
     "output_type": "stream",
     "text": [
      "{'_id': 1, 'name': 'John', 'home_address': 'Highway 37'}\n",
      "{'_id': 2, 'name': 'Peter', 'home_address': 'Lowstreet 27'}\n",
      "{'_id': 3, 'name': 'Minnie', 'home_address': 'Close st 652'}\n",
      "{'_id': 4, 'name': 'Hannah', 'home_address': 'Mountain 21'}\n",
      "{'_id': 5, 'name': 'Minnie', 'home_address': 'Canyon 123'}\n",
      "{'_id': 9, 'name': 'Viola', 'home_address': 'Sideway Ave'}\n"
     ]
    }
   ],
   "source": [
    "for record in emp_document_2.find():\n",
    "    print(record) "
   ]
  },
  {
   "cell_type": "markdown",
   "metadata": {},
   "source": [
    "Remove a column "
   ]
  },
  {
   "cell_type": "code",
   "execution_count": 133,
   "metadata": {},
   "outputs": [],
   "source": [
    "filt={}\n",
    "remove={\n",
    "            '$unset':\n",
    "                    {'home_address':1}\n",
    "        }"
   ]
  },
  {
   "cell_type": "code",
   "execution_count": 134,
   "metadata": {},
   "outputs": [
    {
     "data": {
      "text/plain": [
       "UpdateResult({'n': 6, 'nModified': 6, 'ok': 1.0, 'updatedExisting': True}, acknowledged=True)"
      ]
     },
     "execution_count": 134,
     "metadata": {},
     "output_type": "execute_result"
    }
   ],
   "source": [
    "emp_document_2.update_many(filt,remove)"
   ]
  },
  {
   "cell_type": "code",
   "execution_count": 135,
   "metadata": {},
   "outputs": [
    {
     "name": "stdout",
     "output_type": "stream",
     "text": [
      "{'_id': 1, 'name': 'John'}\n",
      "{'_id': 2, 'name': 'Peter'}\n",
      "{'_id': 3, 'name': 'Minnie'}\n",
      "{'_id': 4, 'name': 'Hannah'}\n",
      "{'_id': 5, 'name': 'Minnie'}\n",
      "{'_id': 9, 'name': 'Viola'}\n"
     ]
    }
   ],
   "source": [
    "for record in emp_document_2.find():\n",
    "    print(record) "
   ]
  },
  {
   "cell_type": "markdown",
   "metadata": {},
   "source": [
    "# Truncating a collection"
   ]
  },
  {
   "cell_type": "code",
   "execution_count": 136,
   "metadata": {},
   "outputs": [
    {
     "data": {
      "text/plain": [
       "6"
      ]
     },
     "execution_count": 136,
     "metadata": {},
     "output_type": "execute_result"
    }
   ],
   "source": [
    "response=emp_document_2.delete_many({})\n",
    "response.deleted_count"
   ]
  },
  {
   "cell_type": "code",
   "execution_count": 137,
   "metadata": {},
   "outputs": [],
   "source": [
    "for record in emp_document_2.find():\n",
    "    print(record) "
   ]
  },
  {
   "cell_type": "markdown",
   "metadata": {},
   "source": [
    "Dropping collection"
   ]
  },
  {
   "cell_type": "code",
   "execution_count": 138,
   "metadata": {},
   "outputs": [],
   "source": [
    "emp_document_2.drop()"
   ]
  },
  {
   "cell_type": "markdown",
   "metadata": {},
   "source": [
    "checking the collections in db"
   ]
  },
  {
   "cell_type": "code",
   "execution_count": 140,
   "metadata": {},
   "outputs": [
    {
     "data": {
      "text/plain": [
       "Collection(Database(MongoClient(host=['localhost:27017'], document_class=dict, tz_aware=False, connect=True), 'sample_database'), 'list_collection')"
      ]
     },
     "execution_count": 140,
     "metadata": {},
     "output_type": "execute_result"
    }
   ],
   "source": [
    "db.list_collection"
   ]
  }
 ],
 "metadata": {
  "kernelspec": {
   "display_name": "Python 3",
   "language": "python",
   "name": "python3"
  },
  "language_info": {
   "codemirror_mode": {
    "name": "ipython",
    "version": 3
   },
   "file_extension": ".py",
   "mimetype": "text/x-python",
   "name": "python",
   "nbconvert_exporter": "python",
   "pygments_lexer": "ipython3",
   "version": "3.10.11"
  }
 },
 "nbformat": 4,
 "nbformat_minor": 2
}
