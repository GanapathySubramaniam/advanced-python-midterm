{
 "cells": [
  {
   "cell_type": "markdown",
   "metadata": {},
   "source": [
    "A-Write a Python program to check if a number is a perfect square"
   ]
  },
  {
   "cell_type": "code",
   "execution_count": 17,
   "metadata": {},
   "outputs": [
    {
     "name": "stdout",
     "output_type": "stream",
     "text": [
      "False\n"
     ]
    }
   ],
   "source": [
    "user_num1=141\n",
    "print(user_num1==(round(user_num1**(0.5),1))**2)"
   ]
  },
  {
   "cell_type": "markdown",
   "metadata": {},
   "source": [
    "B- Write a Python program to find a missing number from a list. \n",
    "Input : [1,2,3,4,6,7,8]\n",
    "Output : 5"
   ]
  },
  {
   "cell_type": "code",
   "execution_count": 27,
   "metadata": {},
   "outputs": [
    {
     "data": {
      "text/plain": [
       "[5, 9]"
      ]
     },
     "execution_count": 27,
     "metadata": {},
     "output_type": "execute_result"
    }
   ],
   "source": [
    "lst=[1,3,4,7,6,8,2,10]\n",
    "lst.sort()\n",
    "max_elem=lst[-1]\n",
    "lst1=[i for i in range(1,max_elem+1)]\n",
    "missing_elem=[i for i in lst1 if i not in lst]\n",
    "missing_elem"
   ]
  },
  {
   "cell_type": "markdown",
   "metadata": {},
   "source": [
    "## C- Write a Python program to find the single number in a list that doesn't occur twice.\n",
    "## Input     : [5, 3, 4, 3, 4]\n",
    "## Output : 5"
   ]
  },
  {
   "cell_type": "code",
   "execution_count": 31,
   "metadata": {},
   "outputs": [
    {
     "data": {
      "text/plain": [
       "[5]"
      ]
     },
     "execution_count": 31,
     "metadata": {},
     "output_type": "execute_result"
    }
   ],
   "source": [
    "lst=[5, 3, 4, 3, 4]\n",
    "set1=set(lst)\n",
    "dict1={i:0 for i in lst}\n",
    "for i in lst:\n",
    "    dict1[i]+=1\n",
    "[k for k,v in dict1.items() if v!=2]"
   ]
  },
  {
   "cell_type": "markdown",
   "metadata": {},
   "source": [
    "## 1-Write a Python program to find 4 numbers from an array such that the sum of 4 numbers equal to a given number.\n",
    "## Input : [1, 0, -1, 0, -2, 2,10,11], 0)\n",
    "## Output : [[-2, -1, 1, 2], [-2, 0, 0, 2], [-1, 0, 0, 1]]"
   ]
  },
  {
   "cell_type": "code",
   "execution_count": 34,
   "metadata": {},
   "outputs": [
    {
     "data": {
      "text/plain": [
       "[(1, 0, -1, 0), (1, -1, -2, 2), (0, 0, -2, 2)]"
      ]
     },
     "execution_count": 34,
     "metadata": {},
     "output_type": "execute_result"
    }
   ],
   "source": [
    "from itertools import combinations\n",
    "inp=([1, 0, -1, 0, -2, 2,10,11], 0)\n",
    "lst=inp[0]\n",
    "num=inp[1]\n",
    "combs=list(combinations(lst,4))\n",
    "[comb for comb in combs if sum(comb)==num]"
   ]
  },
  {
   "cell_type": "markdown",
   "metadata": {},
   "source": [
    "## 3-Write a Python program to add the digits of a positive integer repeatedly until the result has a single digit. \n",
    "### Input : 48\n",
    "### Output : 3\n",
    "### For example given number is 59, the result will be 5.\n",
    "### Step 1: 5 + 9 = 14\n",
    "### Step 1: 1 + 4 = 5"
   ]
  },
  {
   "cell_type": "markdown",
   "metadata": {},
   "source": [
    "sol1"
   ]
  },
  {
   "cell_type": "code",
   "execution_count": 69,
   "metadata": {},
   "outputs": [
    {
     "name": "stdout",
     "output_type": "stream",
     "text": [
      "5\n"
     ]
    }
   ],
   "source": [
    "inp=59\n",
    "while inp:\n",
    "    if inp<10:\n",
    "        print(inp)\n",
    "        break\n",
    "    else:\n",
    "        inp=sum([int(i) for i in list(str(inp))])\n"
   ]
  },
  {
   "cell_type": "markdown",
   "metadata": {},
   "source": [
    "sol2"
   ]
  },
  {
   "cell_type": "code",
   "execution_count": null,
   "metadata": {},
   "outputs": [],
   "source": [
    "def adding_digits(sum1):\n",
    "    while sum1 > 9:\n",
    "        sum1 = sum1 // 10 + sum1 % 10\n",
    "    return sum1\n",
    "\n",
    "num1, num2 = 481, 59\n",
    "print(adding_digits(num1))\n",
    "print(adding_digits(num2))"
   ]
  },
  {
   "cell_type": "markdown",
   "metadata": {},
   "source": [
    "You are given a 0-indexed integer array nums having length n, an integer indexDifference, and an integer valueDifference.\n",
    "\n",
    "Your task is to find two indices i and j, both in the range [0, n - 1], that satisfy the following conditions:\n",
    "\n",
    "abs(i - j) >= indexDifference, and\n",
    "abs(nums[i] - nums[j]) >= valueDifference\n",
    "Return an integer array answer, where answer = [i, j] if there are two such indices, and answer = [-1, -1] otherwise. If there are multiple choices for the two indices, return any of them.\n",
    "\n",
    "Note: i and j may be equal.\n",
    "\n",
    " \n",
    "\n",
    "Example 1:\n",
    "\n",
    "Input: nums = [5,1,4,1], indexDifference = 2, valueDifference = 4\n",
    "Output: [0,3]\n",
    "Explanation: In this example, i = 0 and j = 3 can be selected.\n",
    "abs(0 - 3) >= 2 and abs(nums[0] - nums[3]) >= 4.\n",
    "Hence, a valid answer is [0,3].\n",
    "[3,0] is also a valid answer.\n",
    "Example 2:\n",
    "\n",
    "Input: nums = [2,1], indexDifference = 0, valueDifference = 0\n",
    "Output: [0,0]\n",
    "Explanation: In this example, i = 0 and j = 0 can be selected.\n",
    "abs(0 - 0) >= 0 and abs(nums[0] - nums[0]) >= 0.\n",
    "Hence, a valid answer is [0,0].\n",
    "Other valid answers are [0,1], [1,0], and [1,1].\n",
    "Example 3:\n",
    "\n",
    "Input: nums = [1,2,3], indexDifference = 2, valueDifference = 4\n",
    "Output: [-1,-1]\n",
    "Explanation: In this example, it can be shown that it is impossible to find two indices that satisfy both conditions.\n",
    "Hence, [-1,-1] is returned."
   ]
  },
  {
   "cell_type": "code",
   "execution_count": 98,
   "metadata": {},
   "outputs": [
    {
     "name": "stdout",
     "output_type": "stream",
     "text": [
      "0   3\n"
     ]
    }
   ],
   "source": [
    "from itertools import combinations\n",
    "#abs(0 - 3) >= 2 and abs(nums[0] - nums[3]) >= 4.\n",
    "nums = [5,1,4,1]\n",
    "indexDifference = 2\n",
    "valueDifference = 4\n",
    "for i in range(len(nums)):\n",
    "    flag=False\n",
    "    for j in range(len(nums)):\n",
    "        if (abs(i-j)>=indexDifference) & (abs(nums[i]-nums[j])>=valueDifference):\n",
    "            print(i,' ',j)\n",
    "            flag=True\n",
    "            break\n",
    "    if flag:\n",
    "        break\n",
    "            "
   ]
  },
  {
   "cell_type": "code",
   "execution_count": 88,
   "metadata": {},
   "outputs": [
    {
     "data": {
      "text/plain": [
       "[(0, 1)]"
      ]
     },
     "execution_count": 88,
     "metadata": {},
     "output_type": "execute_result"
    }
   ],
   "source": [
    "idx_comb"
   ]
  },
  {
   "cell_type": "markdown",
   "metadata": {},
   "source": [
    "# Write a Python program to check a sequence of numbers is a geometric progression or not. \n",
    "# Input : [2, 6, 18, 54]\n",
    "# Output : True"
   ]
  },
  {
   "cell_type": "code",
   "execution_count": 107,
   "metadata": {},
   "outputs": [
    {
     "name": "stdout",
     "output_type": "stream",
     "text": [
      "True\n"
     ]
    },
    {
     "data": {
      "text/plain": [
       "[2, 6, 18, 54]"
      ]
     },
     "execution_count": 107,
     "metadata": {},
     "output_type": "execute_result"
    }
   ],
   "source": [
    "\n",
    "inp=[2, 6, 18, 54]\n",
    "a=inp[1]/inp[0]\n",
    "b=inp[0]\n",
    "geo=[b]\n",
    "for i in range(len(inp)-1):\n",
    "    b=a*b\n",
    "    geo.append(int(b))\n",
    "\n",
    "print(inp==geo)\n",
    "geo"
   ]
  },
  {
   "cell_type": "markdown",
   "metadata": {},
   "source": [
    "sol 2"
   ]
  },
  {
   "cell_type": "code",
   "execution_count": 108,
   "metadata": {},
   "outputs": [
    {
     "name": "stdout",
     "output_type": "stream",
     "text": [
      "True\n"
     ]
    }
   ],
   "source": [
    "lst = [2,6,18,54]\n",
    "flag = False\n",
    "for i in range(len(lst)-1):\n",
    "    if lst[i+1] % lst[i] == 0:\n",
    "        flag = True\n",
    "    else:\n",
    "        flag = False\n",
    "        break\n",
    "print(flag)"
   ]
  },
  {
   "cell_type": "markdown",
   "metadata": {},
   "source": [
    "Write a Python program to find all the numbers from 0-9 from a string:\n",
    "\n",
    "input: '89ADFRE41'\n",
    "Output :[8941]"
   ]
  },
  {
   "cell_type": "code",
   "execution_count": 111,
   "metadata": {},
   "outputs": [
    {
     "data": {
      "text/plain": [
       "['8941']"
      ]
     },
     "execution_count": 111,
     "metadata": {},
     "output_type": "execute_result"
    }
   ],
   "source": [
    "import re\n",
    "inp='89ADFRE41'\n",
    "[''.join(re.findall(r'\\d+',inp))]"
   ]
  },
  {
   "cell_type": "markdown",
   "metadata": {},
   "source": [
    "sol2"
   ]
  },
  {
   "cell_type": "code",
   "execution_count": 113,
   "metadata": {},
   "outputs": [
    {
     "name": "stdout",
     "output_type": "stream",
     "text": [
      "8941\n"
     ]
    }
   ],
   "source": [
    "print(''.join([i for i in inp if i in [str(i) for i in range(10)]]))"
   ]
  },
  {
   "cell_type": "markdown",
   "metadata": {},
   "source": [
    "1-Write a Python program to check a sequence of numbers is an arithmetic progression or not. \n",
    "Input : [5, 7, 9, 11]\n",
    "Output : True\n",
    "In mathematics, an arithmetic progression or arithmetic sequence is a sequence of numbers such that the difference between the consecutive terms is constant.\n",
    "For example, the sequence 5, 7, 9, 11, 13, 15 ... is an arithmetic progression with common difference of 2."
   ]
  },
  {
   "cell_type": "code",
   "execution_count": 117,
   "metadata": {},
   "outputs": [
    {
     "name": "stdout",
     "output_type": "stream",
     "text": [
      "True\n"
     ]
    },
    {
     "data": {
      "text/plain": [
       "[5, 7, 9, 11]"
      ]
     },
     "execution_count": 117,
     "metadata": {},
     "output_type": "execute_result"
    }
   ],
   "source": [
    "inp=[5, 7, 9, 11]\n",
    "a=inp[1]-inp[0]\n",
    "b=inp[0]\n",
    "ap=[b]\n",
    "for i in range(len(inp)-1):\n",
    "    b=a+b\n",
    "    ap.append(int(b))\n",
    "\n",
    "print(inp==ap)\n",
    "ap"
   ]
  },
  {
   "cell_type": "markdown",
   "metadata": {},
   "source": [
    "2-Write a Python program to check whether a given number is an ugly number. \n",
    "Input : 12\n",
    "Output : True\n",
    "Ugly numbers are positive numbers whose only prime factors are 2, 3 or 5. The sequence 1, 2, 3, 4, 5, 6, 8, 9, 10, 12, ...\n",
    "shows the first 10 ugly numbers.\n",
    "Note: 1 is typically treated as an ugly number"
   ]
  },
  {
   "cell_type": "code",
   "execution_count": 136,
   "metadata": {},
   "outputs": [
    {
     "data": {
      "text/plain": [
       "[0,\n",
       " 1,\n",
       " 2,\n",
       " 3,\n",
       " 4,\n",
       " 5,\n",
       " 6,\n",
       " 8,\n",
       " 9,\n",
       " 10,\n",
       " 12,\n",
       " 15,\n",
       " 16,\n",
       " 18,\n",
       " 20,\n",
       " 24,\n",
       " 25,\n",
       " 27,\n",
       " 30,\n",
       " 32,\n",
       " 36,\n",
       " 40,\n",
       " 45,\n",
       " 48,\n",
       " 50,\n",
       " 54,\n",
       " 60,\n",
       " 64,\n",
       " 72,\n",
       " 75,\n",
       " 80,\n",
       " 81,\n",
       " 90,\n",
       " 96]"
      ]
     },
     "execution_count": 136,
     "metadata": {},
     "output_type": "execute_result"
    }
   ],
   "source": [
    "def is_prime(n):\n",
    "    for i in range(2,int(n)):\n",
    "        if n%i==0:\n",
    "            return False\n",
    "    return True\n",
    "\n",
    "def prime_factors(n):\n",
    "    factors=[i for i in range(2,n+1) if n%i==0]\n",
    "    prime_factors =[i for i in factors if is_prime(i)]\n",
    "    return prime_factors\n",
    "\n",
    "def ugly(n):\n",
    "    p=prime_factors(n)\n",
    "    flag=True\n",
    "    for pr in p:\n",
    "        if pr not in [2,3,5]:\n",
    "            flag=False\n",
    "            break\n",
    "    return flag\n",
    "\n",
    "list(filter(ugly,[i for i in range(100)]))\n",
    "    "
   ]
  },
  {
   "cell_type": "markdown",
   "metadata": {},
   "source": [
    "sol2"
   ]
  },
  {
   "cell_type": "code",
   "execution_count": 139,
   "metadata": {},
   "outputs": [
    {
     "name": "stdout",
     "output_type": "stream",
     "text": [
      "False\n"
     ]
    }
   ],
   "source": [
    "def is_ugly(num):\n",
    "    while num % 2 == 0:\n",
    "        num /= 2\n",
    "    while num % 3 == 0:\n",
    "        num /= 3\n",
    "    while num % 5 == 0:\n",
    "        num /= 5\n",
    "    return num == 1\n",
    "\n",
    "print(is_ugly(25*6))"
   ]
  },
  {
   "cell_type": "markdown",
   "metadata": {},
   "source": [
    "ROMAN TO NUMBER"
   ]
  },
  {
   "cell_type": "code",
   "execution_count": 140,
   "metadata": {},
   "outputs": [
    {
     "name": "stdout",
     "output_type": "stream",
     "text": [
      "3\n",
      "55\n",
      "989\n"
     ]
    }
   ],
   "source": [
    "def roman_to_int(s):\n",
    "    roman_dict = {'I': 1, 'V': 5, 'X': 10, 'L': 50, 'C': 100, 'D': 500, 'M': 1000}\n",
    "    result = 0\n",
    "    prev_value = 0\n",
    "    for char in reversed(s):\n",
    "        value = roman_dict[char]\n",
    "        if value < prev_value:\n",
    "            result -= value\n",
    "        else:\n",
    "            result += value\n",
    "        prev_value = value\n",
    "    return result\n",
    "\n",
    "print(roman_to_int(\"III\"))\n",
    "print(roman_to_int(\"LV\"))\n",
    "print(roman_to_int(\"IXM\"))"
   ]
  },
  {
   "cell_type": "markdown",
   "metadata": {},
   "source": [
    "int to roman"
   ]
  },
  {
   "cell_type": "code",
   "execution_count": 165,
   "metadata": {},
   "outputs": [
    {
     "data": {
      "text/plain": [
       "'MMMCMXCIX'"
      ]
     },
     "execution_count": 165,
     "metadata": {},
     "output_type": "execute_result"
    }
   ],
   "source": [
    "\n",
    "def intToRoman(num: int):\n",
    "        dicti={\n",
    "            'M':1000,\n",
    "            'CM':900,\n",
    "            'D':500,\n",
    "            'CD':400,\n",
    "            'C':100,\n",
    "            'XC':90,\n",
    "            'L':50,\n",
    "            'XL':40,\n",
    "            'X':10,\n",
    "            'IX':9,\n",
    "            'V':5,\n",
    "            'IV':4,\n",
    "            'I':1\n",
    "        }\n",
    "\n",
    "        result=\"\"\n",
    "        for sym , value in dicti.items():\n",
    "            while num>=value:\n",
    "                result += sym\n",
    "                num -= value\n",
    "        return result\n",
    "intToRoman(3999)"
   ]
  }
 ],
 "metadata": {
  "kernelspec": {
   "display_name": "Python 3",
   "language": "python",
   "name": "python3"
  },
  "language_info": {
   "codemirror_mode": {
    "name": "ipython",
    "version": 3
   },
   "file_extension": ".py",
   "mimetype": "text/x-python",
   "name": "python",
   "nbconvert_exporter": "python",
   "pygments_lexer": "ipython3",
   "version": "3.10.11"
  }
 },
 "nbformat": 4,
 "nbformat_minor": 2
}
