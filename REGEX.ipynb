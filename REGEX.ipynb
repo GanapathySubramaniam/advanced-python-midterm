{
  "cells": [
    {
      "cell_type": "markdown",
      "metadata": {
        "id": "BQqWj-5jmYUm"
      },
      "source": [
        "# LECTURE 2 [REGEX](https://www.w3schools.com/python/python_regex.asp)\n",
        "---\n",
        "###  PATTERNS\n",
        "* `[]`\tA set of characters\t\"[a-m]\"\n",
        "* `\\`\tSignals a special sequence (can also be used to escape special characters)\t* * \"\\d\"\n",
        "* `.`\tAny character (except newline character)\t\"he..o\"\n",
        "* `^`\tStarts with\t\"^hello\"\n",
        "* `$`\tEnds with\t\"planet$\"\n",
        "* `\\*`\tZero or more occurrences\t\"he.*o\"\n",
        "* `\\+`\tOne or more occurrences\t\"he.+o\"\n",
        "* `?`\tZero or one occurrences\t\"he.?o\"\n",
        "* `{}`\tExactly the specified number of occurrences\t\"he.{2}o\"\n",
        "* `|`\tEither or\t\"falls|stays\"\n",
        "* `()`\tCapture and group\n",
        "\n",
        "---\n",
        "---\n",
        "### SPECIAL SEQUENCES\n",
        "\n",
        "* `\\A`\tReturns a match if the specified characters are at the beginning of the string\t\"\\AThe\"\n",
        "* `\\b`\tReturns a match where the specified characters are at the beginning or at the end of a word\n",
        "(the \"r\" in the beginning is making sure that the string is being treated as a \"raw string\")\tr\"\\bain\"\n",
        "\n",
        "r\"ain\\b\"\n",
        "\n",
        "* `\\B`\tReturns a match where the specified characters are present, but NOT at the beginning (or at the end) of a word\n",
        "(the \"r\" in the beginning is making sure that the string is being treated as a \"raw string\")\tr\"\\Bain\"\n",
        "\n",
        "r\"ain\\B\"\n",
        "\n",
        "* `\\d`\tReturns a match where the string contains digits (numbers from 0-9)\t\"\\d\"\n",
        "* `\\D`\tReturns a match where the string DOES NOT contain digits\t\"\\D\"\n",
        "* `\\s`\tReturns a match where the string contains a white space character\t\"\\s\"\n",
        "* `\\S`\tReturns a match where the string DOES NOT contain a white space character\t\"\\S\"\n",
        "* `\\w`\tReturns a match where the string contains any word characters (characters from a to Z, digits from 0-9, and the underscore _ character)\t\"\\w\"\n",
        "\\W\tReturns a match where the string DOES NOT contain any word characters\t\"\\W\"\n",
        "* `\\Z`\tReturns a match if the specified characters are at the end of the string\t\"Spain\\Z\"\n",
        "---\n",
        "---\n",
        "### PATTERN SETS\n",
        "\n",
        "* `[arn]`\tReturns a match where one of the specified characters (a, r, or n) is present\n",
        "* `[a-n]`\tReturns a match for any lower case character, alphabetically between a and n\n",
        "* `[^arn]`\tReturns a match for any character EXCEPT a, r, and n\n",
        "* `[0123]`\tReturns a match where any of the specified digits (0, 1, 2, or 3) are present\n",
        "* `[0-9]`\tReturns a match for any digit between 0 and 9\n",
        "* `[0-5][0-9]`\tReturns a match for any two-digit numbers from 00 and 59\n",
        "* `[a-zA-Z]`\tReturns a match for any character alphabetically between a and z, lower case OR upper case\n",
        "* `[+]`\tIn sets, +, *, ., |, (), $,{} has no special meaning, so [+] means: return a match for any + character in the string"
      ]
    },
    {
      "cell_type": "markdown",
      "metadata": {
        "id": "kRjvqed_mYUn"
      },
      "source": [
        "---\n",
        "---\n",
        "### Coding Practice"
      ]
    },
    {
      "cell_type": "code",
      "execution_count": 1,
      "metadata": {
        "id": "58vv2GVnmYUo"
      },
      "outputs": [],
      "source": [
        "import re"
      ]
    },
    {
      "cell_type": "code",
      "execution_count": 2,
      "metadata": {
        "id": "ZLqfjxuNmYUo"
      },
      "outputs": [],
      "source": [
        "text1='the categorical the cat hello thecat'"
      ]
    },
    {
      "cell_type": "code",
      "execution_count": 3,
      "metadata": {
        "colab": {
          "base_uri": "https://localhost:8080/"
        },
        "id": "vkSwkJWvmYUo",
        "outputId": "b7b76147-cef1-4786-d264-228368aed6a5"
      },
      "outputs": [
        {
          "output_type": "execute_result",
          "data": {
            "text/plain": [
              "['the']"
            ]
          },
          "metadata": {},
          "execution_count": 3
        }
      ],
      "source": [
        "re.findall(r'\\Athe',text1) # matching the pattern in the start"
      ]
    },
    {
      "cell_type": "code",
      "execution_count": 5,
      "metadata": {
        "colab": {
          "base_uri": "https://localhost:8080/"
        },
        "id": "5hv-aIhNmYUp",
        "outputId": "e4268737-b23b-4f95-fc78-16f48c433b72"
      },
      "outputs": [
        {
          "output_type": "execute_result",
          "data": {
            "text/plain": [
              "[]"
            ]
          },
          "metadata": {},
          "execution_count": 5
        }
      ],
      "source": [
        "text2='categorical cat hello thecat'\n",
        "re.findall(r'\\Athe',text2)"
      ]
    },
    {
      "cell_type": "code",
      "execution_count": null,
      "metadata": {
        "id": "qxplp9PUmYUp",
        "outputId": "66995372-0b10-4bbc-d346-112d6c268caf"
      },
      "outputs": [
        {
          "data": {
            "text/plain": [
              "['cat', 'cat']"
            ]
          },
          "execution_count": 6,
          "metadata": {},
          "output_type": "execute_result"
        }
      ],
      "source": [
        "re.findall(r'\\bcat',text2)# matching the pattern in the start of the word"
      ]
    },
    {
      "cell_type": "code",
      "execution_count": null,
      "metadata": {
        "id": "U7wU3RW1mYUp",
        "outputId": "465925ed-b4d7-44b1-ed38-9acbe72f876b"
      },
      "outputs": [
        {
          "data": {
            "text/plain": [
              "['cat']"
            ]
          },
          "execution_count": 7,
          "metadata": {},
          "output_type": "execute_result"
        }
      ],
      "source": [
        "re.findall(r'\\bcat\\b',text2)# matching the pattern in the middle of the word"
      ]
    },
    {
      "cell_type": "code",
      "execution_count": null,
      "metadata": {
        "id": "cXJF8l0vmYUp",
        "outputId": "38210903-2f28-4fd5-99a2-b6bfc2e931f6"
      },
      "outputs": [
        {
          "data": {
            "text/plain": [
              "['cat', 'cat']"
            ]
          },
          "execution_count": 8,
          "metadata": {},
          "output_type": "execute_result"
        }
      ],
      "source": [
        "re.findall(r'cat\\b',text2)# matching the pattern in the ending of the word"
      ]
    },
    {
      "cell_type": "code",
      "source": [
        "re.findall(r'(cat)',text2)"
      ],
      "metadata": {
        "colab": {
          "base_uri": "https://localhost:8080/"
        },
        "id": "8OB8jbnpnGIA",
        "outputId": "75bb3064-dacc-478e-f1b5-36677bbb652a"
      },
      "execution_count": 6,
      "outputs": [
        {
          "output_type": "execute_result",
          "data": {
            "text/plain": [
              "['cat', 'cat', 'cat']"
            ]
          },
          "metadata": {},
          "execution_count": 6
        }
      ]
    },
    {
      "cell_type": "code",
      "execution_count": null,
      "metadata": {
        "id": "3GzTA8TamYUq",
        "outputId": "9a5748de-11a5-4091-873d-a93efe14a120"
      },
      "outputs": [
        {
          "data": {
            "text/plain": [
              "[<re.Match object; span=(0, 3), match='cat'>,\n",
              " <re.Match object; span=(12, 15), match='cat'>,\n",
              " <re.Match object; span=(25, 28), match='cat'>]"
            ]
          },
          "execution_count": 9,
          "metadata": {},
          "output_type": "execute_result"
        }
      ],
      "source": [
        "re.findall(r'(cat)',text2)\n",
        "list(re.finditer(r'(cat)',text2)) # getting the indices of the matches"
      ]
    },
    {
      "cell_type": "code",
      "source": [
        "snake='how_you_are'\n",
        "lst=snake.split('_')\n",
        "for i in range(1,len(lst)):\n",
        "  lst[i]=lst[i].capitalize()\n",
        "''.join(lst)"
      ],
      "metadata": {
        "colab": {
          "base_uri": "https://localhost:8080/",
          "height": 36
        },
        "id": "HR-7au7qnLEx",
        "outputId": "8b364ba2-cc16-4e76-b853-03f9dd5b0870"
      },
      "execution_count": 16,
      "outputs": [
        {
          "output_type": "execute_result",
          "data": {
            "text/plain": [
              "'howYouAre'"
            ],
            "application/vnd.google.colaboratory.intrinsic+json": {
              "type": "string"
            }
          },
          "metadata": {},
          "execution_count": 16
        }
      ]
    },
    {
      "cell_type": "code",
      "source": [
        "text2"
      ],
      "metadata": {
        "colab": {
          "base_uri": "https://localhost:8080/",
          "height": 36
        },
        "id": "VVCRJ1v0o3LC",
        "outputId": "b2787417-0c82-4996-e9f3-3106e9b190bb"
      },
      "execution_count": 17,
      "outputs": [
        {
          "output_type": "execute_result",
          "data": {
            "text/plain": [
              "'categorical cat hello thecat'"
            ],
            "application/vnd.google.colaboratory.intrinsic+json": {
              "type": "string"
            }
          },
          "metadata": {},
          "execution_count": 17
        }
      ]
    },
    {
      "cell_type": "code",
      "source": [
        "t='hcath'"
      ],
      "metadata": {
        "id": "DwSVxOn0pZ_y"
      },
      "execution_count": 19,
      "outputs": []
    },
    {
      "cell_type": "code",
      "execution_count": 18,
      "metadata": {
        "colab": {
          "base_uri": "https://localhost:8080/"
        },
        "id": "gsZokUR-mYUq",
        "outputId": "b7283499-cd99-4339-d31c-3a2c92510bd6"
      },
      "outputs": [
        {
          "output_type": "execute_result",
          "data": {
            "text/plain": [
              "['cat']"
            ]
          },
          "metadata": {},
          "execution_count": 18
        }
      ],
      "source": [
        "re.findall(r'\\Bcat',text2) # not mathcing the pattern in the beginning of the word"
      ]
    },
    {
      "cell_type": "code",
      "execution_count": null,
      "metadata": {
        "id": "V2rm-exsmYUq",
        "outputId": "082d0166-c13e-4885-ccf1-ae1e1d0f3319"
      },
      "outputs": [
        {
          "data": {
            "text/plain": [
              "['cat']"
            ]
          },
          "execution_count": 11,
          "metadata": {},
          "output_type": "execute_result"
        }
      ],
      "source": [
        "re.findall(r'cat\\B',text2)# not mathcing the pattern in the ending of the word"
      ]
    },
    {
      "cell_type": "code",
      "execution_count": null,
      "metadata": {
        "id": "LO9kP2QhmYUq",
        "outputId": "68305ea5-d6b2-421f-f9ae-bc98704f14f2"
      },
      "outputs": [
        {
          "data": {
            "text/plain": [
              "[]"
            ]
          },
          "execution_count": 12,
          "metadata": {},
          "output_type": "execute_result"
        }
      ],
      "source": [
        "re.findall(r'\\Bcat\\B',text2)# not mathcing the pattern in the middle of the word"
      ]
    },
    {
      "cell_type": "code",
      "source": [
        "re.findall(r'\\Bcat\\B',t)"
      ],
      "metadata": {
        "colab": {
          "base_uri": "https://localhost:8080/"
        },
        "id": "JmbGYFSdpfN_",
        "outputId": "f06be609-b275-471a-b9b7-9b2d4be1228b"
      },
      "execution_count": 20,
      "outputs": [
        {
          "output_type": "execute_result",
          "data": {
            "text/plain": [
              "['cat']"
            ]
          },
          "metadata": {},
          "execution_count": 20
        }
      ]
    },
    {
      "cell_type": "code",
      "execution_count": 22,
      "metadata": {
        "colab": {
          "base_uri": "https://localhost:8080/"
        },
        "id": "hod5QQXzmYUr",
        "outputId": "718f3eaa-9f88-4a41-8a11-0b115d17f639"
      },
      "outputs": [
        {
          "output_type": "execute_result",
          "data": {
            "text/plain": [
              "['123', '4']"
            ]
          },
          "metadata": {},
          "execution_count": 22
        }
      ],
      "source": [
        "text4='hello world 123 hello4'\n",
        "re.findall(r'\\d+',text4) # returns all the digits in the string"
      ]
    },
    {
      "cell_type": "code",
      "execution_count": null,
      "metadata": {
        "id": "cW0V-2RJmYUr",
        "outputId": "48928c17-89d9-471c-82b9-fe2b1b5bd588"
      },
      "outputs": [
        {
          "data": {
            "text/plain": [
              "['h',\n",
              " 'e',\n",
              " 'l',\n",
              " 'l',\n",
              " 'o',\n",
              " ' ',\n",
              " 'w',\n",
              " 'o',\n",
              " 'r',\n",
              " 'l',\n",
              " 'd',\n",
              " ' ',\n",
              " ' ',\n",
              " 'h',\n",
              " 'e',\n",
              " 'l',\n",
              " 'l',\n",
              " 'o']"
            ]
          },
          "execution_count": 14,
          "metadata": {},
          "output_type": "execute_result"
        }
      ],
      "source": [
        "re.findall(r'\\D',text4) # returns all except the digits in the string"
      ]
    },
    {
      "cell_type": "code",
      "execution_count": null,
      "metadata": {
        "id": "_y0TdLPMmYUr",
        "outputId": "5cc23516-bd5f-4b1a-ee08-18e39b2d224d"
      },
      "outputs": [
        {
          "data": {
            "text/plain": [
              "[' ', ' ', ' ']"
            ]
          },
          "execution_count": 15,
          "metadata": {},
          "output_type": "execute_result"
        }
      ],
      "source": [
        "re.findall('\\s',text4)# returns all the spaces in the string"
      ]
    },
    {
      "cell_type": "code",
      "execution_count": null,
      "metadata": {
        "id": "kAgsiXYtmYUr",
        "outputId": "88e7d70b-b41a-470b-b083-be7e20443fb5"
      },
      "outputs": [
        {
          "data": {
            "text/plain": [
              "['h',\n",
              " 'e',\n",
              " 'l',\n",
              " 'l',\n",
              " 'o',\n",
              " 'w',\n",
              " 'o',\n",
              " 'r',\n",
              " 'l',\n",
              " 'd',\n",
              " '1',\n",
              " '2',\n",
              " '3',\n",
              " 'h',\n",
              " 'e',\n",
              " 'l',\n",
              " 'l',\n",
              " 'o',\n",
              " '4']"
            ]
          },
          "execution_count": 16,
          "metadata": {},
          "output_type": "execute_result"
        }
      ],
      "source": [
        "re.findall('\\S',text4)# returns all texcept the spaces in the string"
      ]
    },
    {
      "cell_type": "code",
      "execution_count": 23,
      "metadata": {
        "colab": {
          "base_uri": "https://localhost:8080/"
        },
        "id": "lhbUjkrhmYUr",
        "outputId": "5225d366-eba4-4c4f-90b7-ee141045c86e"
      },
      "outputs": [
        {
          "output_type": "execute_result",
          "data": {
            "text/plain": [
              "['h', 'e', 'l', 'l', 'o', 'w', 'w', 'o', 'r', 'l', 'd', '_', 'h', 'i']"
            ]
          },
          "metadata": {},
          "execution_count": 23
        }
      ],
      "source": [
        "text5='hellow.world, hi'\n",
        "re.findall(r'\\w',text5) # excludes ' ','.',','"
      ]
    },
    {
      "cell_type": "code",
      "execution_count": null,
      "metadata": {
        "id": "THP98hBumYUr",
        "outputId": "ed457738-3b91-474a-9e46-e81028cf2689"
      },
      "outputs": [
        {
          "data": {
            "text/plain": [
              "['.', ',', ' ']"
            ]
          },
          "execution_count": 45,
          "metadata": {},
          "output_type": "execute_result"
        }
      ],
      "source": [
        "re.findall(r'\\W',text5) # excludes [a-zA-Z0-9] and '_'"
      ]
    },
    {
      "cell_type": "code",
      "source": [
        "text4"
      ],
      "metadata": {
        "colab": {
          "base_uri": "https://localhost:8080/",
          "height": 36
        },
        "id": "-s387xRvqJoH",
        "outputId": "4b7454b4-3cb0-4733-ad7e-a6f3e17bf5a0"
      },
      "execution_count": 24,
      "outputs": [
        {
          "output_type": "execute_result",
          "data": {
            "text/plain": [
              "'hello world 123 hello4'"
            ],
            "application/vnd.google.colaboratory.intrinsic+json": {
              "type": "string"
            }
          },
          "metadata": {},
          "execution_count": 24
        }
      ]
    },
    {
      "cell_type": "code",
      "source": [
        "list(re.finditer(r'\\D',text4))[0].group()"
      ],
      "metadata": {
        "colab": {
          "base_uri": "https://localhost:8080/",
          "height": 36
        },
        "id": "FZJb3fsDqPBX",
        "outputId": "88cb0735-3109-4831-a603-cc8547f90125"
      },
      "execution_count": 29,
      "outputs": [
        {
          "output_type": "execute_result",
          "data": {
            "text/plain": [
              "'h'"
            ],
            "application/vnd.google.colaboratory.intrinsic+json": {
              "type": "string"
            }
          },
          "metadata": {},
          "execution_count": 29
        }
      ]
    },
    {
      "cell_type": "code",
      "source": [],
      "metadata": {
        "id": "VWitvRp9qcsq"
      },
      "execution_count": null,
      "outputs": []
    },
    {
      "cell_type": "code",
      "execution_count": null,
      "metadata": {
        "id": "M87u-_vDmYUr",
        "outputId": "50f3ff12-a0a9-4223-8920-4fae076bea68"
      },
      "outputs": [
        {
          "data": {
            "text/plain": [
              "'hello world  hello'"
            ]
          },
          "execution_count": 40,
          "metadata": {},
          "output_type": "execute_result"
        }
      ],
      "source": [
        "list1=[]\n",
        "for i in re.finditer(r'\\D',text4):\n",
        "    list1.append(i.group())\n",
        "\n",
        "''.join(list1)"
      ]
    },
    {
      "cell_type": "code",
      "source": [],
      "metadata": {
        "id": "lS8_CepgqwKb"
      },
      "execution_count": null,
      "outputs": []
    },
    {
      "cell_type": "code",
      "execution_count": null,
      "metadata": {
        "id": "wtOt5K2vmYUs",
        "outputId": "db2872d6-6a6d-40cb-e560-20056086195f"
      },
      "outputs": [
        {
          "data": {
            "text/plain": [
              "['hi']"
            ]
          },
          "execution_count": 54,
          "metadata": {},
          "output_type": "execute_result"
        }
      ],
      "source": [
        "re.findall(r'hi\\Z',text5) # return the word if it is at the end of the string"
      ]
    },
    {
      "cell_type": "code",
      "source": [
        "text5"
      ],
      "metadata": {
        "colab": {
          "base_uri": "https://localhost:8080/",
          "height": 36
        },
        "id": "Jxj054Qwq4yR",
        "outputId": "742facda-7209-495b-91f6-3fb9d49002be"
      },
      "execution_count": 30,
      "outputs": [
        {
          "output_type": "execute_result",
          "data": {
            "text/plain": [
              "'hellow.world, _hi'"
            ],
            "application/vnd.google.colaboratory.intrinsic+json": {
              "type": "string"
            }
          },
          "metadata": {},
          "execution_count": 30
        }
      ]
    },
    {
      "cell_type": "code",
      "source": [
        "re.findall(r'hello\\Z',text5)"
      ],
      "metadata": {
        "colab": {
          "base_uri": "https://localhost:8080/"
        },
        "id": "al8sg9E8q800",
        "outputId": "8ba2c7c5-102c-4576-c54e-b51d832d805a"
      },
      "execution_count": 36,
      "outputs": [
        {
          "output_type": "execute_result",
          "data": {
            "text/plain": [
              "[]"
            ]
          },
          "metadata": {},
          "execution_count": 36
        }
      ]
    },
    {
      "cell_type": "code",
      "execution_count": 42,
      "metadata": {
        "colab": {
          "base_uri": "https://localhost:8080/"
        },
        "id": "7tAfM68FmYUs",
        "outputId": "c4d7cc6d-73e7-4e70-f638-560e63e22951"
      },
      "outputs": [
        {
          "output_type": "execute_result",
          "data": {
            "text/plain": [
              "['hellojkkjlj']"
            ]
          },
          "metadata": {},
          "execution_count": 42
        }
      ],
      "source": [
        "re.findall(r'hello[a-z.]*\\Z','kjhello. hi hdfghellojkkjlj') # return the word if it is at the start of the string"
      ]
    },
    {
      "cell_type": "code",
      "execution_count": null,
      "metadata": {
        "id": "4Iq2oj3smYUs",
        "outputId": "595b4318-8e18-4879-e32b-7539d1dbe34e"
      },
      "outputs": [
        {
          "data": {
            "text/plain": [
              "['h', 'e', 'l', 'l', 'o', 'o', 'l', 'd', 'h', 'i']"
            ]
          },
          "execution_count": 60,
          "metadata": {},
          "output_type": "execute_result"
        }
      ],
      "source": [
        "re.findall(r'[a-q]',text5)"
      ]
    },
    {
      "cell_type": "code",
      "source": [
        "text5"
      ],
      "metadata": {
        "colab": {
          "base_uri": "https://localhost:8080/",
          "height": 36
        },
        "id": "ACDJq7emsEY-",
        "outputId": "404a0e47-a6aa-4132-9c70-8c6460502e19"
      },
      "execution_count": 43,
      "outputs": [
        {
          "output_type": "execute_result",
          "data": {
            "text/plain": [
              "'hellow.world, _hi'"
            ],
            "application/vnd.google.colaboratory.intrinsic+json": {
              "type": "string"
            }
          },
          "metadata": {},
          "execution_count": 43
        }
      ]
    },
    {
      "cell_type": "code",
      "execution_count": null,
      "metadata": {
        "id": "H3ETMZkdmYUs",
        "outputId": "8e90e258-a364-442a-9526-e843f40b465c"
      },
      "outputs": [
        {
          "data": {
            "text/plain": [
              "['hello', 'o', 'ld', 'hi']"
            ]
          },
          "execution_count": 61,
          "metadata": {},
          "output_type": "execute_result"
        }
      ],
      "source": [
        "re.findall(r'[a-q]+',text5)"
      ]
    },
    {
      "cell_type": "code",
      "execution_count": null,
      "metadata": {
        "id": "oFQAf21BmYUs",
        "outputId": "4d72ac73-59c7-4e49-ed7d-1fa1c272c8cd"
      },
      "outputs": [
        {
          "data": {
            "text/plain": [
              "['hello']"
            ]
          },
          "execution_count": 66,
          "metadata": {},
          "output_type": "execute_result"
        }
      ],
      "source": [
        "re.findall(r'h...o',text5)"
      ]
    },
    {
      "cell_type": "code",
      "source": [
        "text5"
      ],
      "metadata": {
        "colab": {
          "base_uri": "https://localhost:8080/",
          "height": 36
        },
        "id": "Y_H9cgRdsRXu",
        "outputId": "b4edeb65-9dd1-4991-8a1e-610d456020d7"
      },
      "execution_count": 44,
      "outputs": [
        {
          "output_type": "execute_result",
          "data": {
            "text/plain": [
              "'hellow.world, _hi'"
            ],
            "application/vnd.google.colaboratory.intrinsic+json": {
              "type": "string"
            }
          },
          "metadata": {},
          "execution_count": 44
        }
      ]
    },
    {
      "cell_type": "code",
      "source": [
        "import re\n",
        "\n",
        "text5 = 'hellow.world, hi'\n",
        "matches = re.findall(r'\\bh[^\\s]*', text5)\n",
        "\n",
        "print(matches)\n"
      ],
      "metadata": {
        "colab": {
          "base_uri": "https://localhost:8080/"
        },
        "id": "tfBpP27kuLKB",
        "outputId": "7a2ae694-8b0f-4e90-cbcb-c5a20dd70325"
      },
      "execution_count": 65,
      "outputs": [
        {
          "output_type": "stream",
          "name": "stdout",
          "text": [
            "['hellow.world,', 'hi']\n"
          ]
        }
      ]
    },
    {
      "cell_type": "code",
      "execution_count": 67,
      "metadata": {
        "colab": {
          "base_uri": "https://localhost:8080/"
        },
        "id": "KR6J7Q7QmYUs",
        "outputId": "516e7051-d048-4d0b-d5aa-8026d0578f87"
      },
      "outputs": [
        {
          "output_type": "execute_result",
          "data": {
            "text/plain": [
              "['h']"
            ]
          },
          "metadata": {},
          "execution_count": 67
        }
      ],
      "source": [
        "text5='hellow.world, hi'\n",
        "re.findall(r'^h',text5) #^ begining of the string"
      ]
    },
    {
      "cell_type": "code",
      "execution_count": 71,
      "metadata": {
        "colab": {
          "base_uri": "https://localhost:8080/"
        },
        "id": "VVNhC8YFmYUs",
        "outputId": "f2915fc0-1cd4-460a-f759-0ca9ec02ccfc"
      },
      "outputs": [
        {
          "output_type": "execute_result",
          "data": {
            "text/plain": [
              "['Really good']"
            ]
          },
          "metadata": {},
          "execution_count": 71
        }
      ],
      "source": [
        "text6='Really good'\n",
        "re.findall(r'^h.*|^R.+',text6) # naything starting with h or r"
      ]
    },
    {
      "cell_type": "code",
      "execution_count": null,
      "metadata": {
        "id": "EKnufvUCmYUs",
        "outputId": "a8b03b16-ed58-4799-a1cc-73bf166fe97e"
      },
      "outputs": [
        {
          "data": {
            "text/plain": [
              "'hello world 123 hello4'"
            ]
          },
          "execution_count": 110,
          "metadata": {},
          "output_type": "execute_result"
        }
      ],
      "source": [
        "text4"
      ]
    },
    {
      "cell_type": "code",
      "execution_count": 82,
      "metadata": {
        "colab": {
          "base_uri": "https://localhost:8080/"
        },
        "id": "sZYMbZx_mYUs",
        "outputId": "55b8a79f-7852-45c3-f535-4f992344c02c"
      },
      "outputs": [
        {
          "output_type": "execute_result",
          "data": {
            "text/plain": [
              "[]"
            ]
          },
          "metadata": {},
          "execution_count": 82
        }
      ],
      "source": [
        "\n",
        "re.findall(r'(\\bh[a-z]*[\\d]{1,})$','hello world 123 hello24 hello454') # $ checks end of the string"
      ]
    },
    {
      "cell_type": "code",
      "execution_count": 100,
      "metadata": {
        "id": "dsleBpmfmYUs"
      },
      "outputs": [],
      "source": [
        "text7='\\yes 1:30 no 12:30 maybe 1:5 test me 12:5'"
      ]
    },
    {
      "cell_type": "code",
      "execution_count": 102,
      "metadata": {
        "colab": {
          "base_uri": "https://localhost:8080/"
        },
        "id": "sHL8tujLmYUs",
        "outputId": "90faf66e-8428-4ef1-b084-1d628f361737"
      },
      "outputs": [
        {
          "output_type": "execute_result",
          "data": {
            "text/plain": [
              "['1:30', '12:30']"
            ]
          },
          "metadata": {},
          "execution_count": 102
        }
      ],
      "source": [
        "re.findall(r'(\\d{1,2}:\\d{2})',text7) # ? similar to *"
      ]
    },
    {
      "cell_type": "code",
      "execution_count": null,
      "metadata": {
        "id": "WQuASb7ZmYUt",
        "outputId": "004e28b4-3491-42a8-8895-e2470d3760d0"
      },
      "outputs": [
        {
          "data": {
            "text/plain": [
              "['23-10-2002',\n",
              " '23/10/2002',\n",
              " '23/10/02',\n",
              " '23-10-2002',\n",
              " '23-10-02',\n",
              " '1-10-2002',\n",
              " '1-10-02']"
            ]
          },
          "execution_count": 122,
          "metadata": {},
          "output_type": "execute_result"
        }
      ],
      "source": [
        "txt='23-10-2002 23/10/2002 23/10/02 23-10-2002 23-10-02 1-10-2002 1-10-02'\n",
        "\n",
        "pattern=r'\\d{1,2}/\\d{2}/\\d{2,4}|\\d{1,2}-\\d{2}-\\d{2,4}'\n",
        "\n",
        "re.findall(pattern,txt)"
      ]
    },
    {
      "cell_type": "code",
      "source": [
        "txt='23-10-2002 23*-10-2002 23/10/2002 23/10/02 23-10-2002 23-10-02 1-10-2002 1-10-02'\n",
        "\n",
        "ptrn='\\d{1,2}[-/]\\d{2}[-/]\\d{2,4}'\n",
        "re.findall(ptrn,txt)"
      ],
      "metadata": {
        "colab": {
          "base_uri": "https://localhost:8080/"
        },
        "id": "MlEpuce2x-Xs",
        "outputId": "34d50aaf-9f9f-415d-d0d3-3e0ff9c8f077"
      },
      "execution_count": 112,
      "outputs": [
        {
          "output_type": "execute_result",
          "data": {
            "text/plain": [
              "['23-10-2002',\n",
              " '23/10/2002',\n",
              " '23/10/02',\n",
              " '23-10-2002',\n",
              " '23-10-02',\n",
              " '1-10-2002',\n",
              " '1-10-02']"
            ]
          },
          "metadata": {},
          "execution_count": 112
        }
      ]
    }
  ],
  "metadata": {
    "kernelspec": {
      "display_name": "Python 3",
      "language": "python",
      "name": "python3"
    },
    "language_info": {
      "codemirror_mode": {
        "name": "ipython",
        "version": 3
      },
      "file_extension": ".py",
      "mimetype": "text/x-python",
      "name": "python",
      "nbconvert_exporter": "python",
      "pygments_lexer": "ipython3",
      "version": "3.10.11"
    },
    "colab": {
      "provenance": []
    }
  },
  "nbformat": 4,
  "nbformat_minor": 0
}